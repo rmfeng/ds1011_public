{
 "cells": [
  {
   "cell_type": "markdown",
   "metadata": {},
   "source": [
    "### This is a use guide to demo the functionality in 0.5.0"
   ]
  },
  {
   "cell_type": "code",
   "execution_count": 1,
   "metadata": {},
   "outputs": [],
   "source": [
    "from config import basic_conf as conf\n",
    "from libs import ModelManager as mm\n",
    "from config.constants import HyperParamKey\n",
    "import logging\n",
    "\n",
    "import matplotlib.pyplot as plt\n",
    "%matplotlib inline"
   ]
  },
  {
   "cell_type": "markdown",
   "metadata": {},
   "source": [
    "## In order to use the text example please load your home work 2 data like this:\n",
    "\n",
    "![require_data](img/required_data.png)"
   ]
  },
  {
   "cell_type": "markdown",
   "metadata": {},
   "source": [
    "## 1. How to init the logger"
   ]
  },
  {
   "cell_type": "markdown",
   "metadata": {},
   "source": [
    "The first parameter when initializing logger will determine the log level for the rest of the session"
   ]
  },
  {
   "cell_type": "code",
   "execution_count": 2,
   "metadata": {
    "scrolled": true
   },
   "outputs": [
    {
     "name": "stdout",
     "output_type": "stream",
     "text": [
      "[2018-10-28 15:20:21] [INFO] Initializing Model Manager, version 0.5.0 ...\n",
      "[2018-10-28 15:20:21] [INFO] \n",
      "=== Models Available ===\n",
      "BagOfWords\n",
      "NLIRNN\n",
      "NLICNN\n",
      "========================\n",
      "[2018-10-28 15:20:21] [INFO] \n",
      "=== Loaders Available ===\n",
      "IMDB\n",
      "SNLI\n",
      "MNLI\n",
      "========================\n",
      "[2018-10-28 15:20:21] [INFO] \n",
      "*********** Model Manager Details ***********\n",
      "-- self.hparams.num_epochs = 10\n",
      "-- self.hparams.lr = 0.01\n",
      "-- self.hparams.voc_size = 100000\n",
      "-- self.hparams.train_loop_check_freq = 10\n",
      "-- self.hparams.dropout_rnn = 0.5\n",
      "-- self.hparams.dropout_fc = 0.5\n",
      "-- self.hparams.batch_size = 256\n",
      "-- self.hparams.fc_hidden_size = 100\n",
      "-- self.hparams.rnn_hidden_size = 50\n",
      "-- self.hparams.cnn_hidden_size = 100\n",
      "-- self.hparams.cnn_kernal_size = 3\n",
      "-- self.hparams.rnn_num_layers = 1\n",
      "-- self.hparams.check_early_stop = True\n",
      "-- self.hparams.es_look_back = 50\n",
      "-- self.hparams.no_imp_look_back = 25\n",
      "-- self.hparams.decay_lr_no_improv = 0.5\n",
      "-- self.hparams.es_req_prog = 0.0\n",
      "-- self.hparams.optim_enc = <class 'torch.optim.adam.Adam'>\n",
      "-- self.hparams.optim_dec = <class 'torch.optim.adam.Adam'>\n",
      "-- self.hparams.scheduler = <class 'torch.optim.lr_scheduler.ExponentialLR'>\n",
      "-- self.hparams.scheduler_gamma = 0.95\n",
      "-- self.hparams.criterion = <class 'torch.nn.modules.loss.CrossEntropyLoss'>\n",
      "-- self.cparams.save_best_model = True\n",
      "-- self.cparams.save_each_epoch = True\n",
      "-- self.cparams.ignore_params = ['pre_trained_vecs']\n",
      "-- self.cparams.snli_train_path = data/nli/snli_train.tsv\n",
      "-- self.cparams.snli_val_path = data/nli/snli_val.tsv\n",
      "-- self.cparams.mnli_train_path = data/nli/mnli_train.tsv\n",
      "-- self.cparams.mnli_val_path = data/nli/mnli_val.tsv\n",
      "-- self.cparams.pretrained_path = data/nli/wiki-news-300d-1M.vec\n",
      "-- self.cparams.model_saves = model_saves/\n",
      "-- self.lparams = None\n",
      "-- self.model = None\n",
      "-- self.dataloader = None\n",
      "-- self.results = []\n",
      "-- self.mode = notebook\n",
      "-- self.tqdm = <function tqdm_notebook at 0x7f21c10e3b70>\n",
      "-- self.device = cuda:0\n",
      "************ End of Model Manager Details ************\n"
     ]
    }
   ],
   "source": [
    "# in this example we init logger with level = INFO and see that the info logs get outputted\n",
    "conf.init_logger(logging.INFO, logfile=None)\n",
    "logger = logging.getLogger('__main__')\n",
    "mgr = mm.ModelManager(mode='notebook')"
   ]
  },
  {
   "cell_type": "code",
   "execution_count": 3,
   "metadata": {},
   "outputs": [],
   "source": [
    "# in this example we init logger with level = WARNING, we see that all the info logs are suppressed\n",
    "conf.init_logger(logging.WARNING, logfile=None)\n",
    "logger = logging.getLogger('__main__')\n",
    "mgr = mm.ModelManager(mode='notebook')"
   ]
  },
  {
   "cell_type": "markdown",
   "metadata": {},
   "source": [
    "The 2nd parameter in logger controls where the log file lives, by default this is mt.log in root\n",
    "\n",
    "If you pass None, like here, then no output will be written to the log file"
   ]
  },
  {
   "cell_type": "code",
   "execution_count": 4,
   "metadata": {
    "scrolled": true
   },
   "outputs": [
    {
     "name": "stdout",
     "output_type": "stream",
     "text": [
      "[2018-10-28 15:20:22] [INFO] Initializing Model Manager, version 0.5.0 ...\n",
      "[2018-10-28 15:20:22] [INFO] \n",
      "=== Models Available ===\n",
      "BagOfWords\n",
      "NLIRNN\n",
      "NLICNN\n",
      "========================\n",
      "[2018-10-28 15:20:22] [INFO] \n",
      "=== Loaders Available ===\n",
      "IMDB\n",
      "SNLI\n",
      "MNLI\n",
      "========================\n",
      "[2018-10-28 15:20:22] [INFO] \n",
      "*********** Model Manager Details ***********\n",
      "-- self.hparams.num_epochs = 10\n",
      "-- self.hparams.lr = 0.01\n",
      "-- self.hparams.voc_size = 100000\n",
      "-- self.hparams.train_loop_check_freq = 10\n",
      "-- self.hparams.dropout_rnn = 0.5\n",
      "-- self.hparams.dropout_fc = 0.5\n",
      "-- self.hparams.batch_size = 256\n",
      "-- self.hparams.fc_hidden_size = 100\n",
      "-- self.hparams.rnn_hidden_size = 50\n",
      "-- self.hparams.cnn_hidden_size = 100\n",
      "-- self.hparams.cnn_kernal_size = 3\n",
      "-- self.hparams.rnn_num_layers = 1\n",
      "-- self.hparams.check_early_stop = True\n",
      "-- self.hparams.es_look_back = 50\n",
      "-- self.hparams.no_imp_look_back = 25\n",
      "-- self.hparams.decay_lr_no_improv = 0.5\n",
      "-- self.hparams.es_req_prog = 0.0\n",
      "-- self.hparams.optim_enc = <class 'torch.optim.adam.Adam'>\n",
      "-- self.hparams.optim_dec = <class 'torch.optim.adam.Adam'>\n",
      "-- self.hparams.scheduler = <class 'torch.optim.lr_scheduler.ExponentialLR'>\n",
      "-- self.hparams.scheduler_gamma = 0.95\n",
      "-- self.hparams.criterion = <class 'torch.nn.modules.loss.CrossEntropyLoss'>\n",
      "-- self.cparams.save_best_model = True\n",
      "-- self.cparams.save_each_epoch = True\n",
      "-- self.cparams.ignore_params = ['pre_trained_vecs']\n",
      "-- self.cparams.snli_train_path = data/nli/snli_train.tsv\n",
      "-- self.cparams.snli_val_path = data/nli/snli_val.tsv\n",
      "-- self.cparams.mnli_train_path = data/nli/mnli_train.tsv\n",
      "-- self.cparams.mnli_val_path = data/nli/mnli_val.tsv\n",
      "-- self.cparams.pretrained_path = data/nli/wiki-news-300d-1M.vec\n",
      "-- self.cparams.model_saves = model_saves/\n",
      "-- self.lparams = None\n",
      "-- self.model = None\n",
      "-- self.dataloader = None\n",
      "-- self.results = []\n",
      "-- self.mode = notebook\n",
      "-- self.tqdm = <function tqdm_notebook at 0x7f21c10e3b70>\n",
      "-- self.device = cuda:0\n",
      "************ End of Model Manager Details ************\n"
     ]
    }
   ],
   "source": [
    "# in this example we init logger the default logfile='mt.log' parameter and see that the log was written to the file\n",
    "conf.init_logger(logging.INFO)\n",
    "logger = logging.getLogger('__main__')\n",
    "mgr = mm.ModelManager(mode='notebook')"
   ]
  },
  {
   "cell_type": "code",
   "execution_count": 5,
   "metadata": {},
   "outputs": [
    {
     "name": "stdout",
     "output_type": "stream",
     "text": [
      "[2018-10-28 15:03:31] [INFO] Initializing Model Manager, version 0.5.0 ...\r\n",
      "[2018-10-28 15:03:31] [INFO] \r\n",
      "=== Models Available ===\r\n",
      "BagOfWords\r\n",
      "NLIRNN\r\n",
      "NLICNN\r\n",
      "========================\r\n",
      "[2018-10-28 15:03:31] [INFO] \r\n",
      "=== Loaders Available ===\r\n",
      "IMDB\r\n"
     ]
    }
   ],
   "source": [
    "!head mt.log"
   ]
  },
  {
   "cell_type": "markdown",
   "metadata": {},
   "source": [
    "## 2. Initializing the Model Manager in notebook or console mode\n",
    "\n",
    "Since the tqdm handler works differently in notebook vs console, we had to branch the execution based on where we are working. Here I will initialize in in 'notebook' mode, by default it operates in console mode."
   ]
  },
  {
   "cell_type": "code",
   "execution_count": 6,
   "metadata": {},
   "outputs": [],
   "source": [
    "# let me first turn off the logging to mt.log\n",
    "conf.init_logger(logging.INFO, logfile=None)"
   ]
  },
  {
   "cell_type": "code",
   "execution_count": 7,
   "metadata": {
    "scrolled": true
   },
   "outputs": [
    {
     "name": "stdout",
     "output_type": "stream",
     "text": [
      "[2018-10-28 15:20:23] [INFO] Initializing Model Manager, version 0.5.0 ...\n",
      "[2018-10-28 15:20:23] [INFO] \n",
      "=== Models Available ===\n",
      "BagOfWords\n",
      "NLIRNN\n",
      "NLICNN\n",
      "========================\n",
      "[2018-10-28 15:20:23] [INFO] \n",
      "=== Loaders Available ===\n",
      "IMDB\n",
      "SNLI\n",
      "MNLI\n",
      "========================\n",
      "[2018-10-28 15:20:23] [INFO] \n",
      "*********** Model Manager Details ***********\n",
      "-- self.hparams.num_epochs = 10\n",
      "-- self.hparams.lr = 0.01\n",
      "-- self.hparams.voc_size = 100000\n",
      "-- self.hparams.train_loop_check_freq = 10\n",
      "-- self.hparams.dropout_rnn = 0.5\n",
      "-- self.hparams.dropout_fc = 0.5\n",
      "-- self.hparams.batch_size = 256\n",
      "-- self.hparams.fc_hidden_size = 100\n",
      "-- self.hparams.rnn_hidden_size = 50\n",
      "-- self.hparams.cnn_hidden_size = 100\n",
      "-- self.hparams.cnn_kernal_size = 3\n",
      "-- self.hparams.rnn_num_layers = 1\n",
      "-- self.hparams.check_early_stop = True\n",
      "-- self.hparams.es_look_back = 50\n",
      "-- self.hparams.no_imp_look_back = 25\n",
      "-- self.hparams.decay_lr_no_improv = 0.5\n",
      "-- self.hparams.es_req_prog = 0.0\n",
      "-- self.hparams.optim_enc = <class 'torch.optim.adam.Adam'>\n",
      "-- self.hparams.optim_dec = <class 'torch.optim.adam.Adam'>\n",
      "-- self.hparams.scheduler = <class 'torch.optim.lr_scheduler.ExponentialLR'>\n",
      "-- self.hparams.scheduler_gamma = 0.95\n",
      "-- self.hparams.criterion = <class 'torch.nn.modules.loss.CrossEntropyLoss'>\n",
      "-- self.cparams.save_best_model = True\n",
      "-- self.cparams.save_each_epoch = True\n",
      "-- self.cparams.ignore_params = ['pre_trained_vecs']\n",
      "-- self.cparams.snli_train_path = data/nli/snli_train.tsv\n",
      "-- self.cparams.snli_val_path = data/nli/snli_val.tsv\n",
      "-- self.cparams.mnli_train_path = data/nli/mnli_train.tsv\n",
      "-- self.cparams.mnli_val_path = data/nli/mnli_val.tsv\n",
      "-- self.cparams.pretrained_path = data/nli/wiki-news-300d-1M.vec\n",
      "-- self.cparams.model_saves = model_saves/\n",
      "-- self.lparams = None\n",
      "-- self.model = None\n",
      "-- self.dataloader = None\n",
      "-- self.results = []\n",
      "-- self.mode = notebook\n",
      "-- self.tqdm = <function tqdm_notebook at 0x7f21c10e3b70>\n",
      "-- self.device = cuda:0\n",
      "************ End of Model Manager Details ************\n"
     ]
    }
   ],
   "source": [
    "# this line inits the ModelManager, and puts all of the default parameters into memory\n",
    "# mode='notebook' is passed to initialize in notebook mode, if nothing is passed then, it goes in console mode\n",
    "mgr = mm.ModelManager(mode='notebook')\n",
    "\n",
    "# for testing setting number of epochs to 1 and massive batch size\n",
    "mgr.hparams[HyperParamKey.NUM_EPOCH] = 1\n",
    "mgr.hparams[HyperParamKey.BATCH_SIZE] = 4096"
   ]
  },
  {
   "cell_type": "markdown",
   "metadata": {},
   "source": [
    "### There are 3 types of parameters\n",
    "All of these parameters are passed into the Model constructor when creating a new_model\n",
    "\n",
    "- **Hyperparameters** (self.hparam): the standard hyperparameters used in your model, such as batch_size, embedding_dim, lr ... etc. (The keys are in config.constants.HyperParamKey)\n",
    "- **Control Parameters** (self.cparams): controls how the model in/out behaves, these will include paths, and controls for when the model runs the save routine, whether to save each new best model, or save each epoch, or both. (The keys are in config.constants.PathKey and ControlKey)\n",
    "- **Loader Parameters** (self.lparams): these are parameters that the model constructor will need to know to initialize, so far I found only the act_vocab_size was needed as when running the loader, even with a specified vocab size, the actual vocab size that gets loaded is dependent on what is in the data. Therefore these parameters can only be set after running the load routine. I've specified for the load routines to return a dict of key:param so that this variable can be set. (The keys are in config.constants.LoaderParamKey)"
   ]
  },
  {
   "cell_type": "markdown",
   "metadata": {},
   "source": [
    "### 3. Calling the data loader\n",
    "\n",
    "There is a register at mm.loaderRegister. It will contain a loader_list of available loaders and attributes with the names of the available loaders."
   ]
  },
  {
   "cell_type": "code",
   "execution_count": 8,
   "metadata": {},
   "outputs": [
    {
     "name": "stdout",
     "output_type": "stream",
     "text": [
      "\n",
      "=== Loaders Available ===\n",
      "IMDB\n",
      "SNLI\n",
      "MNLI\n",
      "========================\n"
     ]
    }
   ],
   "source": [
    "print(mm.loaderRegister.loader_list)"
   ]
  },
  {
   "cell_type": "markdown",
   "metadata": {},
   "source": [
    "To call the load function using a specifict loader, just give the ModelManager.load_data function the registry key for the loader:"
   ]
  },
  {
   "cell_type": "code",
   "execution_count": 9,
   "metadata": {},
   "outputs": [
    {
     "name": "stdout",
     "output_type": "stream",
     "text": [
      "[2018-10-28 15:20:25] [INFO] Loading data using SNLI ...\n",
      "[2018-10-28 15:20:25] [INFO] loading raw training data set ...\n",
      "[2018-10-28 15:20:25] [INFO] loading raw training data set ...\n",
      "[2018-10-28 15:20:25] [INFO] loading pre-trained word vectors, building vocab ...\n",
      "[2018-10-28 15:20:38] [INFO] converting training set to index ...\n",
      "[2018-10-28 15:20:39] [INFO] converting val set to index ...\n",
      "[2018-10-28 15:20:39] [INFO] piping data into pytorch DataLoaders ...\n"
     ]
    }
   ],
   "source": [
    "mgr.load_data(mm.loaderRegister.SNLI)"
   ]
  },
  {
   "cell_type": "markdown",
   "metadata": {},
   "source": [
    "## 3b) Adding new dataloader handlers\n",
    "\n",
    "- add the implementation child class of libs.data_loaders.BaseLoader to libs.data_loaders\n",
    "- add the registry key to libs.data_loaders.registry\n",
    "\n",
    "A example dataloader used for homework 1 is provided in libs.data_loaders.ImdbLoader"
   ]
  },
  {
   "cell_type": "markdown",
   "metadata": {},
   "source": [
    "## 4. Initializing Models\n",
    "\n",
    "New models are initialized with the ModelManager.new_model function, the parameter is the key in the model registry. All of the parameters on the ModelManager is then passed to the Model constructor"
   ]
  },
  {
   "cell_type": "code",
   "execution_count": 10,
   "metadata": {},
   "outputs": [
    {
     "name": "stdout",
     "output_type": "stream",
     "text": [
      "\n",
      "=== Models Available ===\n",
      "BagOfWords\n",
      "NLIRNN\n",
      "NLICNN\n",
      "========================\n"
     ]
    }
   ],
   "source": [
    "print(mm.modelRegister.model_list)"
   ]
  },
  {
   "cell_type": "code",
   "execution_count": 11,
   "metadata": {
    "scrolled": true
   },
   "outputs": [
    {
     "name": "stdout",
     "output_type": "stream",
     "text": [
      "[2018-10-28 15:20:39] [INFO] \n",
      "*********** Model: scratch Details ***********\n",
      "-- self.label = scratch\n",
      "-- self.hparams.num_epochs = 1\n",
      "-- self.hparams.lr = 0.01\n",
      "-- self.hparams.voc_size = 100000\n",
      "-- self.hparams.train_loop_check_freq = 10\n",
      "-- self.hparams.dropout_rnn = 0.5\n",
      "-- self.hparams.dropout_fc = 0.5\n",
      "-- self.hparams.batch_size = 4096\n",
      "-- self.hparams.fc_hidden_size = 100\n",
      "-- self.hparams.rnn_hidden_size = 50\n",
      "-- self.hparams.cnn_hidden_size = 100\n",
      "-- self.hparams.cnn_kernal_size = 3\n",
      "-- self.hparams.rnn_num_layers = 1\n",
      "-- self.hparams.check_early_stop = True\n",
      "-- self.hparams.es_look_back = 50\n",
      "-- self.hparams.no_imp_look_back = 25\n",
      "-- self.hparams.decay_lr_no_improv = 0.5\n",
      "-- self.hparams.es_req_prog = 0.0\n",
      "-- self.hparams.optim_enc = <class 'torch.optim.adam.Adam'>\n",
      "-- self.hparams.optim_dec = <class 'torch.optim.adam.Adam'>\n",
      "-- self.hparams.scheduler = <class 'torch.optim.lr_scheduler.ExponentialLR'>\n",
      "-- self.hparams.scheduler_gamma = 0.95\n",
      "-- self.hparams.criterion = <class 'torch.nn.modules.loss.CrossEntropyLoss'>\n",
      "-- self.lparams.act_vocab_size = 100002\n",
      "-- self.lparams.pre_trained_vecs = [[ 0.          0.          0.         ...  0.          0.\n",
      "   0.        ]\n",
      " [-0.07843323  0.05124812 -0.05209448 ...  0.23302117  0.12175191\n",
      "   0.1565964 ]\n",
      " [ 0.1073      0.0089      0.0006     ...  0.005       0.1173\n",
      "  -0.04      ]\n",
      " ...\n",
      " [ 0.1364     -0.0823      0.0268     ...  0.0146     -0.1281\n",
      "   0.1004    ]\n",
      " [ 0.3732      0.0413      0.179      ... -0.0461     -0.0787\n",
      "  -0.0635    ]\n",
      " [-0.0405     -0.0471      0.1363     ...  0.2969     -0.223\n",
      "  -0.0133    ]]\n",
      "-- self.lparams.embedding_dim = 300\n",
      "-- self.lparams.num_classes = 3\n",
      "-- self.cparams.save_best_model = True\n",
      "-- self.cparams.save_each_epoch = True\n",
      "-- self.cparams.ignore_params = ['pre_trained_vecs']\n",
      "-- self.cparams.snli_train_path = data/nli/snli_train.tsv\n",
      "-- self.cparams.snli_val_path = data/nli/snli_val.tsv\n",
      "-- self.cparams.mnli_train_path = data/nli/mnli_train.tsv\n",
      "-- self.cparams.mnli_val_path = data/nli/mnli_val.tsv\n",
      "-- self.cparams.pretrained_path = data/nli/wiki-news-300d-1M.vec\n",
      "-- self.cparams.model_saves = model_saves/\n",
      "-- self.cparams.model_path = model_saves/scratch/\n",
      "-- self.cur_epoch = 0\n",
      "-- self.model = None\n",
      "-- self.optim = None\n",
      "-- self.scheduler = None\n",
      "-- self.iter_curves.train_acc = []\n",
      "-- self.iter_curves.train_loss = []\n",
      "-- self.iter_curves.val_acc = []\n",
      "-- self.iter_curves.val_loss = []\n",
      "-- self.epoch_curves.train_acc = []\n",
      "-- self.epoch_curves.train_loss = []\n",
      "-- self.epoch_curves.val_acc = []\n",
      "-- self.epoch_curves.val_loss = []\n",
      "-- self.output_dict.num_epochs = 1\n",
      "-- self.output_dict.lr = 0.01\n",
      "-- self.output_dict.voc_size = 100000\n",
      "-- self.output_dict.train_loop_check_freq = 10\n",
      "-- self.output_dict.dropout_rnn = 0.5\n",
      "-- self.output_dict.dropout_fc = 0.5\n",
      "-- self.output_dict.batch_size = 4096\n",
      "-- self.output_dict.fc_hidden_size = 100\n",
      "-- self.output_dict.rnn_hidden_size = 50\n",
      "-- self.output_dict.cnn_hidden_size = 100\n",
      "-- self.output_dict.cnn_kernal_size = 3\n",
      "-- self.output_dict.rnn_num_layers = 1\n",
      "-- self.output_dict.check_early_stop = True\n",
      "-- self.output_dict.es_look_back = 50\n",
      "-- self.output_dict.no_imp_look_back = 25\n",
      "-- self.output_dict.decay_lr_no_improv = 0.5\n",
      "-- self.output_dict.es_req_prog = 0.0\n",
      "-- self.output_dict.optim_enc = <class 'torch.optim.adam.Adam'>\n",
      "-- self.output_dict.optim_dec = <class 'torch.optim.adam.Adam'>\n",
      "-- self.output_dict.scheduler = <class 'torch.optim.lr_scheduler.ExponentialLR'>\n",
      "-- self.output_dict.scheduler_gamma = 0.95\n",
      "-- self.output_dict.criterion = <class 'torch.nn.modules.loss.CrossEntropyLoss'>\n",
      "-- self.output_dict.act_vocab_size = 100002\n",
      "-- self.output_dict.embedding_dim = 300\n",
      "-- self.output_dict.num_classes = 3\n",
      "************ End of Model: scratch Details ************\n",
      "[2018-10-28 15:20:41] [INFO] New Model initialized: /scratch, all model output files will be saved here: model_saves/scratch/\n"
     ]
    }
   ],
   "source": [
    "mgr.new_model(mm.modelRegister.NLIRNN)"
   ]
  },
  {
   "cell_type": "markdown",
   "metadata": {},
   "source": [
    "## ** Important generalized concepts on Models:\n",
    "\n",
    "Each epoch is subdivided into \"iteration\" with each iteration as a collection of n batches. n is determined by the self.hparams.train_loop_check_freq parameter.\n",
    "\n",
    "The check_early_stop function is called for each iteration. \n",
    "\n",
    "The BaseModel class implements the basic training loop as well as save and load functions, save/load function folder is determined by the BaseModel.label property\n",
    "\n",
    "Each model will have 2 training curves: self.iter_curves is saved each training \"iteration\". self.epoch_curves is saved at each epoch\n",
    "\n",
    "the self.model property on the BaseModel or child model class should point to the graph (nn.Module) that implements forward and backward passing\n",
    "\n",
    "The child model class (in the example case: BagOfWords) should implement:\n",
    "- eval_model() which is a forward pass but in eval mode (no drop out, no autograd)\n",
    "- check_early_stop() which is called at each training iteration\n",
    "\n",
    "\n"
   ]
  },
  {
   "cell_type": "markdown",
   "metadata": {},
   "source": [
    "## 5. Running the training loop"
   ]
  },
  {
   "cell_type": "code",
   "execution_count": 12,
   "metadata": {},
   "outputs": [
    {
     "name": "stdout",
     "output_type": "stream",
     "text": [
      "[2018-10-28 15:20:41] [INFO] stepped scheduler to epoch = 1\n",
      "[2018-10-28 15:20:51] [INFO] Ep:1/1, Bt:10/25, VAcc:44.50, VLoss:1.1, TAcc:47.20, TLoss:26.5, LR:0.0100\n",
      "[2018-10-28 15:21:01] [INFO] Ep:1/1, Bt:20/25, VAcc:57.30, VLoss:1.0, TAcc:57.24, TLoss:24.9, LR:0.0100\n",
      "[2018-10-28 15:21:22] [INFO] training completed, results collected ...\n"
     ]
    }
   ],
   "source": [
    "# here our hyperparameter for number of epoch was set only to 1, so the loop runs just 1 epoch\n",
    "mgr.train()"
   ]
  },
  {
   "cell_type": "markdown",
   "metadata": {},
   "source": [
    "since we have enabled saving at each epoch and each best, we should find 2 saved files:\n",
    "- model_saves/checkpoint.tar - saved after the last **completed** epoch\n",
    "- model_saves/model_best.tar - saved after a new best iteration was achieved (best on val acc)"
   ]
  },
  {
   "cell_type": "markdown",
   "metadata": {},
   "source": [
    "## 6. Saving and Loading"
   ]
  },
  {
   "cell_type": "code",
   "execution_count": 13,
   "metadata": {},
   "outputs": [],
   "source": [
    "# we can also explicitly save the model with a comment in markdown format, \n",
    "# and can override the default filename = 'checkpoint.tar'\n",
    "comment = \"\"\"\n",
    "## Trial 1\n",
    "\n",
    "I ran the basic training model for 1 iteration and wanted to demonstrate the save functionality\n",
    "\n",
    "**Just showing off the MD functionality!**\n",
    "\"\"\"\n",
    "\n",
    "mgr.save_model(comment, fn='mysave.tar')"
   ]
  },
  {
   "cell_type": "markdown",
   "metadata": {},
   "source": [
    "This saves the model to model_saves/<model_label>/ and adds a README.md with the comment in that folder - once checked in, the readme.md will be automatically rendered on github.\n",
    "\n",
    "In this case, my label was the default \"scratch\" so the model was saved to model_saves/scratch/"
   ]
  },
  {
   "cell_type": "markdown",
   "metadata": {},
   "source": [
    "### 6b Loading\n",
    "\n",
    "If I wanted to continue to train that model, I can load it like this (first we'll clear the model)"
   ]
  },
  {
   "cell_type": "code",
   "execution_count": 14,
   "metadata": {},
   "outputs": [
    {
     "name": "stdout",
     "output_type": "stream",
     "text": [
      "[2018-10-28 15:22:04] [INFO] New Model initialized: /scratch, all model output files will be saved here: model_saves/scratch/\n",
      "[2018-10-28 15:22:04] [INFO] loading checkpoint at model_saves/scratch/checkpoint.tar\n",
      "[2018-10-28 15:22:05] [INFO] Successfully loaded checkpoint!\n"
     ]
    }
   ],
   "source": [
    "mgr.model = None  # gc-ing the existing model\n",
    "\n",
    "# reinit\n",
    "mgr.new_model(mm.modelRegister.NLIRNN, nolog=True)\n",
    "\n",
    "# loading state\n",
    "mgr.load_model(which_model='mysave.tar')"
   ]
  },
  {
   "cell_type": "markdown",
   "metadata": {},
   "source": [
    "### 6c. Continuing Training\n",
    "\n",
    "We can add more epochs to the model and continue to train it:\n",
    "\n",
    "**Note that the model continues where it left off in epoch 2!**"
   ]
  },
  {
   "cell_type": "code",
   "execution_count": 16,
   "metadata": {},
   "outputs": [
    {
     "name": "stdout",
     "output_type": "stream",
     "text": [
      "[2018-10-28 15:22:11] [INFO] added 1 to required epochs count. \n",
      "cur epoch=1, required epochs=2\n"
     ]
    }
   ],
   "source": [
    "mgr.model.add_epochs(1)"
   ]
  },
  {
   "cell_type": "code",
   "execution_count": 17,
   "metadata": {},
   "outputs": [
    {
     "name": "stdout",
     "output_type": "stream",
     "text": [
      "[2018-10-28 15:22:17] [INFO] stepped scheduler to epoch = 2\n",
      "[2018-10-28 15:22:28] [INFO] Ep:2/2, Bt:10/25, VAcc:58.40, VLoss:1.0, TAcc:59.00, TLoss:24.6, LR:0.0095\n",
      "[2018-10-28 15:22:40] [INFO] Ep:2/2, Bt:20/25, VAcc:60.60, VLoss:1.0, TAcc:60.35, TLoss:24.5, LR:0.0095\n",
      "[2018-10-28 15:23:01] [INFO] training completed, results collected ...\n"
     ]
    }
   ],
   "source": [
    "mgr.train()"
   ]
  },
  {
   "cell_type": "markdown",
   "metadata": {},
   "source": [
    "## 7. Visualizing Training Curves\n",
    "\n",
    "I implemented a graph_training_curves() method just to see the training/val acc and loss in a graph\n",
    "\n",
    "If the ModelManager is in notebook mode, it will output results here, if console it will output results to the model folder: model_saves/<model_label>/\n",
    "\n",
    "It can graph either the iteration curves or the epoch curves: see below"
   ]
  },
  {
   "cell_type": "code",
   "execution_count": 18,
   "metadata": {},
   "outputs": [
    {
     "data": {
      "image/png": "[encoded data removed]",
      "text/plain": [
       "<Figure size 1080x504 with 3 Axes>"
      ]
     },
     "metadata": {
      "needs_background": "light"
     },
     "output_type": "display_data"
    }
   ],
   "source": [
    "mgr.graph_training_curves()  # no mode param defaults to iteration mode"
   ]
  },
  {
   "cell_type": "code",
   "execution_count": 19,
   "metadata": {},
   "outputs": [
    {
     "data": {
      "image/png": "[encoded data removed]",
      "text/plain": [
       "<Figure size 1080x504 with 3 Axes>"
      ]
     },
     "metadata": {
      "needs_background": "light"
     },
     "output_type": "display_data"
    }
   ],
   "source": [
    "mgr.graph_training_curves(mode=mgr.GRAPH_MODE_EPOCH)"
   ]
  },
  {
   "cell_type": "markdown",
   "metadata": {},
   "source": [
    "## 8. Reporting other training metrics back up to ModelManager\n",
    "\n",
    "models should collect their own results values in self.output_dict in {'field': value} format.\n",
    "\n",
    "After **each** mgr.train() call the ModelManager will collect these outputs\n",
    "\n",
    "you can use these results to do your hyperparameter optimization"
   ]
  },
  {
   "cell_type": "code",
   "execution_count": 20,
   "metadata": {},
   "outputs": [
    {
     "data": {
      "text/html": [
       "<div>\n",
       "<style scoped>\n",
       "    .dataframe tbody tr th:only-of-type {\n",
       "        vertical-align: middle;\n",
       "    }\n",
       "\n",
       "    .dataframe tbody tr th {\n",
       "        vertical-align: top;\n",
       "    }\n",
       "\n",
       "    .dataframe thead th {\n",
       "        text-align: right;\n",
       "    }\n",
       "</style>\n",
       "<table border=\"1\" class=\"dataframe\">\n",
       "  <thead>\n",
       "    <tr style=\"text-align: right;\">\n",
       "      <th></th>\n",
       "      <th>act_vocab_size</th>\n",
       "      <th>batch_size</th>\n",
       "      <th>best_val_acc</th>\n",
       "      <th>best_val_loss</th>\n",
       "      <th>check_early_stop</th>\n",
       "      <th>cnn_hidden_size</th>\n",
       "      <th>cnn_kernal_size</th>\n",
       "      <th>criterion</th>\n",
       "      <th>decay_lr_no_improv</th>\n",
       "      <th>dropout_fc</th>\n",
       "      <th>...</th>\n",
       "      <th>num_epochs</th>\n",
       "      <th>optim_dec</th>\n",
       "      <th>optim_enc</th>\n",
       "      <th>rnn_hidden_size</th>\n",
       "      <th>rnn_num_layers</th>\n",
       "      <th>scheduler</th>\n",
       "      <th>scheduler_gamma</th>\n",
       "      <th>total_param_count</th>\n",
       "      <th>train_loop_check_freq</th>\n",
       "      <th>voc_size</th>\n",
       "    </tr>\n",
       "  </thead>\n",
       "  <tbody>\n",
       "    <tr>\n",
       "      <th>0</th>\n",
       "      <td>100002</td>\n",
       "      <td>4096</td>\n",
       "      <td>57.3</td>\n",
       "      <td>1.001603</td>\n",
       "      <td>True</td>\n",
       "      <td>100</td>\n",
       "      <td>3</td>\n",
       "      <td>&lt;class 'torch.nn.modules.loss.CrossEntropyLoss'&gt;</td>\n",
       "      <td>0.5</td>\n",
       "      <td>0.5</td>\n",
       "      <td>...</td>\n",
       "      <td>1</td>\n",
       "      <td>&lt;class 'torch.optim.adam.Adam'&gt;</td>\n",
       "      <td>&lt;class 'torch.optim.adam.Adam'&gt;</td>\n",
       "      <td>50</td>\n",
       "      <td>1</td>\n",
       "      <td>&lt;class 'torch.optim.lr_scheduler.ExponentialLR'&gt;</td>\n",
       "      <td>0.95</td>\n",
       "      <td>126003</td>\n",
       "      <td>10</td>\n",
       "      <td>100000</td>\n",
       "    </tr>\n",
       "    <tr>\n",
       "      <th>1</th>\n",
       "      <td>100002</td>\n",
       "      <td>4096</td>\n",
       "      <td>60.6</td>\n",
       "      <td>0.981414</td>\n",
       "      <td>True</td>\n",
       "      <td>100</td>\n",
       "      <td>3</td>\n",
       "      <td>&lt;class 'torch.nn.modules.loss.CrossEntropyLoss'&gt;</td>\n",
       "      <td>0.5</td>\n",
       "      <td>0.5</td>\n",
       "      <td>...</td>\n",
       "      <td>1</td>\n",
       "      <td>&lt;class 'torch.optim.adam.Adam'&gt;</td>\n",
       "      <td>&lt;class 'torch.optim.adam.Adam'&gt;</td>\n",
       "      <td>50</td>\n",
       "      <td>1</td>\n",
       "      <td>&lt;class 'torch.optim.lr_scheduler.ExponentialLR'&gt;</td>\n",
       "      <td>0.95</td>\n",
       "      <td>126003</td>\n",
       "      <td>10</td>\n",
       "      <td>100000</td>\n",
       "    </tr>\n",
       "  </tbody>\n",
       "</table>\n",
       "<p>2 rows × 32 columns</p>\n",
       "</div>"
      ],
      "text/plain": [
       "   act_vocab_size  batch_size  best_val_acc  best_val_loss  check_early_stop  \\\n",
       "0          100002        4096          57.3       1.001603              True   \n",
       "1          100002        4096          60.6       0.981414              True   \n",
       "\n",
       "   cnn_hidden_size  cnn_kernal_size  \\\n",
       "0              100                3   \n",
       "1              100                3   \n",
       "\n",
       "                                          criterion  decay_lr_no_improv  \\\n",
       "0  <class 'torch.nn.modules.loss.CrossEntropyLoss'>                 0.5   \n",
       "1  <class 'torch.nn.modules.loss.CrossEntropyLoss'>                 0.5   \n",
       "\n",
       "   dropout_fc    ...     num_epochs                        optim_dec  \\\n",
       "0         0.5    ...              1  <class 'torch.optim.adam.Adam'>   \n",
       "1         0.5    ...              1  <class 'torch.optim.adam.Adam'>   \n",
       "\n",
       "                         optim_enc  rnn_hidden_size  rnn_num_layers  \\\n",
       "0  <class 'torch.optim.adam.Adam'>               50               1   \n",
       "1  <class 'torch.optim.adam.Adam'>               50               1   \n",
       "\n",
       "                                          scheduler  scheduler_gamma  \\\n",
       "0  <class 'torch.optim.lr_scheduler.ExponentialLR'>             0.95   \n",
       "1  <class 'torch.optim.lr_scheduler.ExponentialLR'>             0.95   \n",
       "\n",
       "   total_param_count  train_loop_check_freq  voc_size  \n",
       "0             126003                     10    100000  \n",
       "1             126003                     10    100000  \n",
       "\n",
       "[2 rows x 32 columns]"
      ]
     },
     "execution_count": 20,
     "metadata": {},
     "output_type": "execute_result"
    }
   ],
   "source": [
    "mgr.get_results()"
   ]
  },
  {
   "cell_type": "markdown",
   "metadata": {},
   "source": [
    "## 9. Comprehensive example of training multiple models and collecting results:"
   ]
  },
  {
   "cell_type": "code",
   "execution_count": null,
   "metadata": {
    "scrolled": true
   },
   "outputs": [],
   "source": [
    "# resetting the manager\n",
    "mgr = mm.ModelManager(mode='notebook')\n",
    "mgr.load_data(mm.loaderRegister.SNLI)"
   ]
  },
  {
   "cell_type": "code",
   "execution_count": null,
   "metadata": {
    "scrolled": true
   },
   "outputs": [],
   "source": [
    "# grid search params\n",
    "lr_list = [0.01, 0.001]\n",
    "decay_rates = [0.95, 0.8]\n",
    "rnn_hidden_sizes = [50, 100, 200]\n",
    "dropouts = [0.25, 0.5, 0.75]\n",
    "\n",
    "\n",
    "def hparam_to_label(tp):\n",
    "    label = 'mod'\n",
    "    label += ' lrinv' + str(int(1 / tp[0]))\n",
    "    label += ' decay' + str(int(tp[1] * 100))\n",
    "    label += ' rhs' + str(int(tp[2]))\n",
    "    label += ' drop' + str(int(tp[3] * 100))\n",
    "    return label\n",
    "\n",
    "\n",
    "for hp_tuple in list(itertools.product(lr_list, decay_rates, rnn_hidden_sizes, dropouts)):\n",
    "    lr, decay, rnn_hidden, dropout = tuple(hp_tuple)\n",
    "    hparam_overrides = {HyperParamKey.LR: lr,\n",
    "                        HyperParamKey.SCHEDULER_GAMMA: decay,\n",
    "                        HyperParamKey.RNN_HIDDEN_SIZE: rnn_hidden,\n",
    "                        HyperParamKey.DROPOUT_FC: dropout,\n",
    "                        HyperParamKey.DROPOUT_RNN: dropout}\n",
    "\n",
    "    mgr.hparams.update(hparam_overrides)\n",
    "    mgr.new_model(mm.modelRegister.NLIRNN, label=hparam_to_label(hp_tuple))\n",
    "    mgr.train()\n",
    "    mgr.graph_training_curves()\n",
    "    mgr.dump_model()\n",
    "    \n",
    "# save the results to csv\n",
    "mgr.get_results().to_csv('model_saves/example_results.csv')"
   ]
  }
 ],
 "metadata": {
  "kernelspec": {
   "display_name": "Python 3",
   "language": "python",
   "name": "python3"
  },
  "language_info": {
   "codemirror_mode": {
    "name": "ipython",
    "version": 3
   },
   "file_extension": ".py",
   "mimetype": "text/x-python",
   "name": "python",
   "nbconvert_exporter": "python",
   "pygments_lexer": "ipython3",
   "version": "3.6.6"
  }
 },
 "nbformat": 4,
 "nbformat_minor": 2
}
