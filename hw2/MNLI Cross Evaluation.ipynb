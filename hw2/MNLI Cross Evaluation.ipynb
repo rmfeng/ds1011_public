{
 "cells": [
  {
   "cell_type": "code",
   "execution_count": 1,
   "metadata": {},
   "outputs": [],
   "source": [
    "import pandas as pd\n",
    "import numpy as np\n",
    "import torch\n",
    "from config import basic_conf as conf\n",
    "from libs import ModelManager as mm\n",
    "from config.constants import HyperParamKey, LoadingKey\n",
    "\n",
    "import logging\n",
    "\n",
    "import matplotlib.pyplot as plt\n",
    "from importlib import reload\n",
    "\n",
    "%matplotlib inline"
   ]
  },
  {
   "cell_type": "code",
   "execution_count": 7,
   "metadata": {
    "scrolled": true
   },
   "outputs": [],
   "source": [
    "# in this example we init logger with level = INFO and see that the info logs get outputted\n",
    "conf.init_logger(logging.WARNING, logfile=None)\n",
    "logger = logging.getLogger('__main__')\n",
    "mgr = mm.ModelManager(mode='notebook')"
   ]
  },
  {
   "cell_type": "code",
   "execution_count": 9,
   "metadata": {
    "scrolled": false
   },
   "outputs": [
    {
     "name": "stdout",
     "output_type": "stream",
     "text": [
      "intra genre acc for fiction = 58.81168177240685\n",
      "loading data for telephone ... \n",
      "loading data for slate ... \n",
      "loading data for government ... \n",
      "loading data for travel ... \n",
      "intra genre acc for telephone = 57.91044776119403\n",
      "loading data for fiction ... \n",
      "loading data for slate ... \n",
      "loading data for government ... \n",
      "loading data for travel ... \n",
      "intra genre acc for slate = 49.70059880239521\n",
      "loading data for fiction ... \n",
      "loading data for telephone ... \n",
      "loading data for government ... \n",
      "loading data for travel ... \n",
      "intra genre acc for government = 61.12204724409449\n",
      "loading data for fiction ... \n",
      "loading data for telephone ... \n",
      "loading data for slate ... \n",
      "loading data for travel ... \n",
      "intra genre acc for travel = 55.90631364562118\n",
      "loading data for fiction ... \n",
      "loading data for telephone ... \n",
      "loading data for slate ... \n",
      "loading data for government ... \n"
     ]
    },
    {
     "data": {
      "text/plain": [
       "{'fiction': {'telephone': 53.233830845771145,\n",
       "  'slate': 47.20558882235529,\n",
       "  'government': 52.16535433070866,\n",
       "  'travel': 50.10183299389002},\n",
       " 'telephone': {'fiction': 53.57502517623364,\n",
       "  'slate': 49.40119760479042,\n",
       "  'government': 54.330708661417326,\n",
       "  'travel': 52.13849287169043},\n",
       " 'slate': {'fiction': 53.071500503524675,\n",
       "  'telephone': 51.44278606965174,\n",
       "  'government': 54.03543307086614,\n",
       "  'travel': 51.425661914460285},\n",
       " 'government': {'fiction': 55.085599194360526,\n",
       "  'telephone': 52.33830845771144,\n",
       "  'slate': 49.800399201596804,\n",
       "  'travel': 51.62932790224033},\n",
       " 'travel': {'fiction': 49.34541792547835,\n",
       "  'telephone': 51.343283582089555,\n",
       "  'slate': 47.20558882235529,\n",
       "  'government': 51.968503937007874}}"
      ]
     },
     "execution_count": 9,
     "metadata": {},
     "output_type": "execute_result"
    }
   ],
   "source": [
    "acc_dict = {}\n",
    "for cur_genre in conf.GENRE_LIST:\n",
    "    mgr.load_data(mm.loaderRegister.MNLI, genre=cur_genre)\n",
    "    hparams={\n",
    "        HyperParamKey.LR: 0.01,\n",
    "        HyperParamKey.SCHEDULER_GAMMA: 0.09,\n",
    "        HyperParamKey.RNN_HIDDEN_SIZE: 100,\n",
    "        HyperParamKey.DROPOUT_FC: 0.25,\n",
    "        HyperParamKey.DROPOUT_RNN: 0.25,\n",
    "    }\n",
    "    mgr.hparams.update(hparams)\n",
    "    mgr.new_model(mm.modelRegister.NLIRNN, label=cur_genre)\n",
    "    mgr.load_model(which_model=LoadingKey.LOAD_BEST)\n",
    "    acc = mgr.model.eval_model(mgr.dataloader.loaders['val'])[0]\n",
    "    print(\"intra genre acc for %s = %s\" % (cur_genre, acc))\n",
    "    \n",
    "    for cross_genre in conf.GENRE_LIST:\n",
    "        if cross_genre != cur_genre:\n",
    "            print(\"loading data for %s ... \" % cross_genre)\n",
    "            mgr.load_data(mm.loaderRegister.MNLI, genre=cross_genre)\n",
    "            acc = mgr.model.eval_model(mgr.dataloader.loaders['val'])[0]\n",
    "            \n",
    "            if cur_genre in acc_dict.keys():\n",
    "                acc_dict[cur_genre][cross_genre] = acc\n",
    "            else:\n",
    "                acc_dict[cur_genre] = {cross_genre: acc}\n",
    "acc_dict"
   ]
  },
  {
   "cell_type": "code",
   "execution_count": 13,
   "metadata": {},
   "outputs": [
    {
     "name": "stdout",
     "output_type": "stream",
     "text": [
      "fiction: 50.67665174818128\n",
      "telephone: 52.36135607853296\n",
      "slate: 52.493845389625704\n",
      "government: 52.213408688977275\n",
      "travel: 49.96569856673277\n"
     ]
    }
   ],
   "source": [
    "for cur_genre in acc_dict:\n",
    "    my_acc = []\n",
    "    for cross_genre in acc_dict[cur_genre]:\n",
    "        my_acc.append(acc_dict[cur_genre][cross_genre])\n",
    "    print(\"%s: %s\" % (cur_genre, np.mean(my_acc)))"
   ]
  },
  {
   "cell_type": "code",
   "execution_count": null,
   "metadata": {},
   "outputs": [],
   "source": []
  }
 ],
 "metadata": {
  "kernelspec": {
   "display_name": "Python 3",
   "language": "python",
   "name": "python3"
  },
  "language_info": {
   "codemirror_mode": {
    "name": "ipython",
    "version": 3
   },
   "file_extension": ".py",
   "mimetype": "text/x-python",
   "name": "python",
   "nbconvert_exporter": "python",
   "pygments_lexer": "ipython3",
   "version": "3.6.6"
  }
 },
 "nbformat": 4,
 "nbformat_minor": 2
}
