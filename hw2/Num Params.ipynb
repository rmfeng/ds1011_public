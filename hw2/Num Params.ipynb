{
 "cells": [
  {
   "cell_type": "code",
   "execution_count": 9,
   "metadata": {},
   "outputs": [],
   "source": [
    "import pandas as pd\n",
    "import numpy as np\n",
    "import torch\n",
    "from config import basic_conf as conf\n",
    "conf.DEVICE = torch.device(\"cuda:1\" if torch.cuda.is_available() else \"cpu\")\n",
    "from libs import ModelManager as mm\n",
    "from config.constants import HyperParamKey\n",
    "\n",
    "import logging\n",
    "import itertools\n",
    "\n",
    "import matplotlib.pyplot as plt\n",
    "from importlib import reload\n",
    "\n",
    "%matplotlib inline"
   ]
  },
  {
   "cell_type": "code",
   "execution_count": 2,
   "metadata": {
    "scrolled": true
   },
   "outputs": [
    {
     "name": "stdout",
     "output_type": "stream",
     "text": [
      "[2018-10-27 20:27:28] [INFO] Initializing Model Manager, version 0.4.0 ...\n",
      "[2018-10-27 20:27:28] [INFO] \n",
      "=== Models Available ===\n",
      "BagOfWords\n",
      "NLIRNN\n",
      "========================\n",
      "[2018-10-27 20:27:28] [INFO] \n",
      "=== Loaders Available ===\n",
      "IMDB\n",
      "SNLI\n",
      "========================\n",
      "[2018-10-27 20:27:28] [INFO] \n",
      "*********** Model Manager Details ***********\n",
      "-- self.hparams.num_epochs = 10\n",
      "-- self.hparams.lr = 0.01\n",
      "-- self.hparams.voc_size = 100000\n",
      "-- self.hparams.train_loop_check_freq = 10\n",
      "-- self.hparams.dropout_rnn = 0.5\n",
      "-- self.hparams.dropout_fc = 0.5\n",
      "-- self.hparams.batch_size = 256\n",
      "-- self.hparams.fc_hidden_size = 100\n",
      "-- self.hparams.rnn_hidden_size = 50\n",
      "-- self.hparams.rnn_num_layers = 1\n",
      "-- self.hparams.check_early_stop = True\n",
      "-- self.hparams.es_look_back = 10\n",
      "-- self.hparams.es_req_prog = 0.01\n",
      "-- self.hparams.optim_enc = <class 'torch.optim.adam.Adam'>\n",
      "-- self.hparams.optim_dec = <class 'torch.optim.adam.Adam'>\n",
      "-- self.hparams.scheduler = <class 'torch.optim.lr_scheduler.ExponentialLR'>\n",
      "-- self.hparams.scheduler_gamma = 0.95\n",
      "-- self.hparams.criterion = <class 'torch.nn.modules.loss.CrossEntropyLoss'>\n",
      "-- self.cparams.save_best_model = True\n",
      "-- self.cparams.save_each_epoch = True\n",
      "-- self.cparams.ignore_params = ['pre_trained_vecs']\n",
      "-- self.cparams.nli_train_path = data/nli/snli_train.tsv\n",
      "-- self.cparams.nli_val_path = data/nli/snli_val.tsv\n",
      "-- self.cparams.pretrained_path = data/nli/wiki-news-300d-1M.vec\n",
      "-- self.cparams.model_saves = model_saves/\n",
      "-- self.lparams = None\n",
      "-- self.model = None\n",
      "-- self.dataloader = None\n",
      "-- self.results = []\n",
      "-- self.mode = notebook\n",
      "-- self.tqdm = <function tqdm_notebook at 0x7ff3e9253048>\n",
      "-- self.device = cuda:1\n",
      "************ End of Model Manager Details ************\n"
     ]
    }
   ],
   "source": [
    "conf.init_logger(logging.INFO, logfile=None)\n",
    "mgr = mm.ModelManager(mode='notebook')\n",
    "\n",
    "hparams = {\n",
    "    HyperParamKey.NUM_EPOCH: 1,\n",
    "    HyperParamKey.BATCH_SIZE: 2048\n",
    "}\n",
    "mgr.hparams.update(hparams)"
   ]
  },
  {
   "cell_type": "code",
   "execution_count": 3,
   "metadata": {},
   "outputs": [
    {
     "name": "stdout",
     "output_type": "stream",
     "text": [
      "\n",
      "*********** Model Manager Details ***********\n",
      "-- self.hparams.num_epochs = 1\n",
      "-- self.hparams.lr = 0.01\n",
      "-- self.hparams.voc_size = 100000\n",
      "-- self.hparams.train_loop_check_freq = 10\n",
      "-- self.hparams.dropout_rnn = 0.5\n",
      "-- self.hparams.dropout_fc = 0.5\n",
      "-- self.hparams.batch_size = 2048\n",
      "-- self.hparams.fc_hidden_size = 100\n",
      "-- self.hparams.rnn_hidden_size = 50\n",
      "-- self.hparams.rnn_num_layers = 1\n",
      "-- self.hparams.check_early_stop = True\n",
      "-- self.hparams.es_look_back = 10\n",
      "-- self.hparams.es_req_prog = 0.01\n",
      "-- self.hparams.optim_enc = <class 'torch.optim.adam.Adam'>\n",
      "-- self.hparams.optim_dec = <class 'torch.optim.adam.Adam'>\n",
      "-- self.hparams.scheduler = <class 'torch.optim.lr_scheduler.ExponentialLR'>\n",
      "-- self.hparams.scheduler_gamma = 0.95\n",
      "-- self.hparams.criterion = <class 'torch.nn.modules.loss.CrossEntropyLoss'>\n",
      "-- self.cparams.save_best_model = True\n",
      "-- self.cparams.save_each_epoch = True\n",
      "-- self.cparams.ignore_params = ['pre_trained_vecs']\n",
      "-- self.cparams.nli_train_path = data/nli/snli_train.tsv\n",
      "-- self.cparams.nli_val_path = data/nli/snli_val.tsv\n",
      "-- self.cparams.pretrained_path = data/nli/wiki-news-300d-1M.vec\n",
      "-- self.cparams.model_saves = model_saves/\n",
      "-- self.lparams = None\n",
      "-- self.model = None\n",
      "-- self.dataloader = None\n",
      "-- self.results = []\n",
      "-- self.mode = notebook\n",
      "-- self.tqdm = <function tqdm_notebook at 0x7ff3e9253048>\n",
      "-- self.device = cuda:1\n",
      "************ End of Model Manager Details ************\n"
     ]
    }
   ],
   "source": [
    "print(mgr.manager_details)"
   ]
  },
  {
   "cell_type": "code",
   "execution_count": 4,
   "metadata": {},
   "outputs": [
    {
     "name": "stdout",
     "output_type": "stream",
     "text": [
      "[2018-10-27 20:27:31] [INFO] Loading data using SNLI ...\n",
      "[2018-10-27 20:27:31] [INFO] loading raw training data set ...\n",
      "[2018-10-27 20:27:31] [INFO] loading raw training data set ...\n",
      "[2018-10-27 20:27:31] [INFO] loading pre-trained word vectors, building vocab ...\n",
      "[2018-10-27 20:27:44] [INFO] converting training set to index ...\n",
      "[2018-10-27 20:27:45] [INFO] converting val set to index ...\n",
      "[2018-10-27 20:27:45] [INFO] piping data into pytorch DataLoaders ...\n"
     ]
    }
   ],
   "source": [
    "mgr.load_data(mm.loaderRegister.SNLI)"
   ]
  },
  {
   "cell_type": "code",
   "execution_count": 12,
   "metadata": {
    "scrolled": true
   },
   "outputs": [
    {
     "name": "stdout",
     "output_type": "stream",
     "text": [
      "[2018-10-27 20:30:06] [INFO] New Model initialized: /mod lrinv100 decay95 rhs50 drop25, all model output files will be saved here: model_saves/modlrinv100decay95rhs50drop25/\n",
      "[2018-10-27 20:30:06] [INFO] New Model initialized: /mod lrinv100 decay95 rhs50 drop50, all model output files will be saved here: model_saves/modlrinv100decay95rhs50drop50/\n",
      "[2018-10-27 20:30:07] [INFO] New Model initialized: /mod lrinv100 decay95 rhs50 drop75, all model output files will be saved here: model_saves/modlrinv100decay95rhs50drop75/\n",
      "[2018-10-27 20:30:07] [INFO] New Model initialized: /mod lrinv100 decay95 rhs100 drop25, all model output files will be saved here: model_saves/modlrinv100decay95rhs100drop25/\n",
      "[2018-10-27 20:30:07] [INFO] New Model initialized: /mod lrinv100 decay95 rhs100 drop50, all model output files will be saved here: model_saves/modlrinv100decay95rhs100drop50/\n",
      "[2018-10-27 20:30:08] [INFO] New Model initialized: /mod lrinv100 decay95 rhs100 drop75, all model output files will be saved here: model_saves/modlrinv100decay95rhs100drop75/\n",
      "[2018-10-27 20:30:08] [INFO] New Model initialized: /mod lrinv100 decay95 rhs200 drop25, all model output files will be saved here: model_saves/modlrinv100decay95rhs200drop25/\n",
      "[2018-10-27 20:30:09] [INFO] New Model initialized: /mod lrinv100 decay95 rhs200 drop50, all model output files will be saved here: model_saves/modlrinv100decay95rhs200drop50/\n",
      "[2018-10-27 20:30:09] [INFO] New Model initialized: /mod lrinv100 decay95 rhs200 drop75, all model output files will be saved here: model_saves/modlrinv100decay95rhs200drop75/\n",
      "[2018-10-27 20:30:09] [INFO] New Model initialized: /mod lrinv100 decay80 rhs50 drop25, all model output files will be saved here: model_saves/modlrinv100decay80rhs50drop25/\n",
      "[2018-10-27 20:30:10] [INFO] New Model initialized: /mod lrinv100 decay80 rhs50 drop50, all model output files will be saved here: model_saves/modlrinv100decay80rhs50drop50/\n",
      "[2018-10-27 20:30:10] [INFO] New Model initialized: /mod lrinv100 decay80 rhs50 drop75, all model output files will be saved here: model_saves/modlrinv100decay80rhs50drop75/\n",
      "[2018-10-27 20:30:11] [INFO] New Model initialized: /mod lrinv100 decay80 rhs100 drop25, all model output files will be saved here: model_saves/modlrinv100decay80rhs100drop25/\n",
      "[2018-10-27 20:30:11] [INFO] New Model initialized: /mod lrinv100 decay80 rhs100 drop50, all model output files will be saved here: model_saves/modlrinv100decay80rhs100drop50/\n",
      "[2018-10-27 20:30:11] [INFO] New Model initialized: /mod lrinv100 decay80 rhs100 drop75, all model output files will be saved here: model_saves/modlrinv100decay80rhs100drop75/\n",
      "[2018-10-27 20:30:12] [INFO] New Model initialized: /mod lrinv100 decay80 rhs200 drop25, all model output files will be saved here: model_saves/modlrinv100decay80rhs200drop25/\n",
      "[2018-10-27 20:30:12] [INFO] New Model initialized: /mod lrinv100 decay80 rhs200 drop50, all model output files will be saved here: model_saves/modlrinv100decay80rhs200drop50/\n",
      "[2018-10-27 20:30:13] [INFO] New Model initialized: /mod lrinv100 decay80 rhs200 drop75, all model output files will be saved here: model_saves/modlrinv100decay80rhs200drop75/\n",
      "[2018-10-27 20:30:13] [INFO] New Model initialized: /mod lrinv1000 decay95 rhs50 drop25, all model output files will be saved here: model_saves/modlrinv1000decay95rhs50drop25/\n",
      "[2018-10-27 20:30:13] [INFO] New Model initialized: /mod lrinv1000 decay95 rhs50 drop50, all model output files will be saved here: model_saves/modlrinv1000decay95rhs50drop50/\n",
      "[2018-10-27 20:30:14] [INFO] New Model initialized: /mod lrinv1000 decay95 rhs50 drop75, all model output files will be saved here: model_saves/modlrinv1000decay95rhs50drop75/\n",
      "[2018-10-27 20:30:14] [INFO] New Model initialized: /mod lrinv1000 decay95 rhs100 drop25, all model output files will be saved here: model_saves/modlrinv1000decay95rhs100drop25/\n",
      "[2018-10-27 20:30:15] [INFO] New Model initialized: /mod lrinv1000 decay95 rhs100 drop50, all model output files will be saved here: model_saves/modlrinv1000decay95rhs100drop50/\n",
      "[2018-10-27 20:30:15] [INFO] New Model initialized: /mod lrinv1000 decay95 rhs100 drop75, all model output files will be saved here: model_saves/modlrinv1000decay95rhs100drop75/\n",
      "[2018-10-27 20:30:15] [INFO] New Model initialized: /mod lrinv1000 decay95 rhs200 drop25, all model output files will be saved here: model_saves/modlrinv1000decay95rhs200drop25/\n",
      "[2018-10-27 20:30:16] [INFO] New Model initialized: /mod lrinv1000 decay95 rhs200 drop50, all model output files will be saved here: model_saves/modlrinv1000decay95rhs200drop50/\n",
      "[2018-10-27 20:30:16] [INFO] New Model initialized: /mod lrinv1000 decay95 rhs200 drop75, all model output files will be saved here: model_saves/modlrinv1000decay95rhs200drop75/\n",
      "[2018-10-27 20:30:17] [INFO] New Model initialized: /mod lrinv1000 decay80 rhs50 drop25, all model output files will be saved here: model_saves/modlrinv1000decay80rhs50drop25/\n",
      "[2018-10-27 20:30:17] [INFO] New Model initialized: /mod lrinv1000 decay80 rhs50 drop50, all model output files will be saved here: model_saves/modlrinv1000decay80rhs50drop50/\n",
      "[2018-10-27 20:30:17] [INFO] New Model initialized: /mod lrinv1000 decay80 rhs50 drop75, all model output files will be saved here: model_saves/modlrinv1000decay80rhs50drop75/\n",
      "[2018-10-27 20:30:18] [INFO] New Model initialized: /mod lrinv1000 decay80 rhs100 drop25, all model output files will be saved here: model_saves/modlrinv1000decay80rhs100drop25/\n",
      "[2018-10-27 20:30:18] [INFO] New Model initialized: /mod lrinv1000 decay80 rhs100 drop50, all model output files will be saved here: model_saves/modlrinv1000decay80rhs100drop50/\n",
      "[2018-10-27 20:30:19] [INFO] New Model initialized: /mod lrinv1000 decay80 rhs100 drop75, all model output files will be saved here: model_saves/modlrinv1000decay80rhs100drop75/\n",
      "[2018-10-27 20:30:19] [INFO] New Model initialized: /mod lrinv1000 decay80 rhs200 drop25, all model output files will be saved here: model_saves/modlrinv1000decay80rhs200drop25/\n",
      "[2018-10-27 20:30:19] [INFO] New Model initialized: /mod lrinv1000 decay80 rhs200 drop50, all model output files will be saved here: model_saves/modlrinv1000decay80rhs200drop50/\n",
      "[2018-10-27 20:30:20] [INFO] New Model initialized: /mod lrinv1000 decay80 rhs200 drop75, all model output files will be saved here: model_saves/modlrinv1000decay80rhs200drop75/\n"
     ]
    }
   ],
   "source": [
    "lr_list = [0.01, 0.001]\n",
    "decay_rates = [0.95, 0.8]\n",
    "rnn_hidden_sizes = [50, 100, 200]\n",
    "dropouts = [0.25, 0.5, 0.75]\n",
    "\n",
    "def hparam_to_label(tp):\n",
    "    label = 'mod'\n",
    "    label += ' lrinv' + str(int(1 / tp[0]))\n",
    "    label += ' decay' + str(int(tp[1] * 100))\n",
    "    label += ' rhs' + str(int(tp[2]))\n",
    "    label += ' drop' + str(int(tp[3] * 100))\n",
    "    return label\n",
    "\n",
    "param_count_dict = {}\n",
    "for hp_tuple in list(itertools.product(lr_list, decay_rates, rnn_hidden_sizes, dropouts)):\n",
    "    lr, decay, rnn_hidden, dropout = tuple(hp_tuple)\n",
    "    hparam_overrides = {HyperParamKey.LR: lr,\n",
    "                        HyperParamKey.SCHEDULER_GAMMA: decay,\n",
    "                        HyperParamKey.RNN_HIDDEN_SIZE: rnn_hidden,\n",
    "                        HyperParamKey.DROPOUT_FC: dropout,\n",
    "                        HyperParamKey.DROPOUT_RNN: dropout}\n",
    "\n",
    "    mgr.hparams.update(hparam_overrides)\n",
    "    mgr.new_model(mm.modelRegister.NLIRNN, label=hparam_to_label(hp_tuple), nolog=True)\n",
    "    param_count_dict[hparam_to_label(hp_tuple)] = mgr.model.output_dict['total_param_count']\n",
    "    mgr.dump_model()\n"
   ]
  },
  {
   "cell_type": "code",
   "execution_count": 13,
   "metadata": {},
   "outputs": [
    {
     "data": {
      "text/plain": [
       "{'mod lrinv100 decay95 rhs50 drop25': 126003,\n",
       " 'mod lrinv100 decay95 rhs50 drop50': 126003,\n",
       " 'mod lrinv100 decay95 rhs50 drop75': 126003,\n",
       " 'mod lrinv100 decay95 rhs100 drop25': 281603,\n",
       " 'mod lrinv100 decay95 rhs100 drop50': 281603,\n",
       " 'mod lrinv100 decay95 rhs100 drop75': 281603,\n",
       " 'mod lrinv100 decay95 rhs200 drop25': 682803,\n",
       " 'mod lrinv100 decay95 rhs200 drop50': 682803,\n",
       " 'mod lrinv100 decay95 rhs200 drop75': 682803,\n",
       " 'mod lrinv100 decay80 rhs50 drop25': 126003,\n",
       " 'mod lrinv100 decay80 rhs50 drop50': 126003,\n",
       " 'mod lrinv100 decay80 rhs50 drop75': 126003,\n",
       " 'mod lrinv100 decay80 rhs100 drop25': 281603,\n",
       " 'mod lrinv100 decay80 rhs100 drop50': 281603,\n",
       " 'mod lrinv100 decay80 rhs100 drop75': 281603,\n",
       " 'mod lrinv100 decay80 rhs200 drop25': 682803,\n",
       " 'mod lrinv100 decay80 rhs200 drop50': 682803,\n",
       " 'mod lrinv100 decay80 rhs200 drop75': 682803,\n",
       " 'mod lrinv1000 decay95 rhs50 drop25': 126003,\n",
       " 'mod lrinv1000 decay95 rhs50 drop50': 126003,\n",
       " 'mod lrinv1000 decay95 rhs50 drop75': 126003,\n",
       " 'mod lrinv1000 decay95 rhs100 drop25': 281603,\n",
       " 'mod lrinv1000 decay95 rhs100 drop50': 281603,\n",
       " 'mod lrinv1000 decay95 rhs100 drop75': 281603,\n",
       " 'mod lrinv1000 decay95 rhs200 drop25': 682803,\n",
       " 'mod lrinv1000 decay95 rhs200 drop50': 682803,\n",
       " 'mod lrinv1000 decay95 rhs200 drop75': 682803,\n",
       " 'mod lrinv1000 decay80 rhs50 drop25': 126003,\n",
       " 'mod lrinv1000 decay80 rhs50 drop50': 126003,\n",
       " 'mod lrinv1000 decay80 rhs50 drop75': 126003,\n",
       " 'mod lrinv1000 decay80 rhs100 drop25': 281603,\n",
       " 'mod lrinv1000 decay80 rhs100 drop50': 281603,\n",
       " 'mod lrinv1000 decay80 rhs100 drop75': 281603,\n",
       " 'mod lrinv1000 decay80 rhs200 drop25': 682803,\n",
       " 'mod lrinv1000 decay80 rhs200 drop50': 682803,\n",
       " 'mod lrinv1000 decay80 rhs200 drop75': 682803}"
      ]
     },
     "execution_count": 13,
     "metadata": {},
     "output_type": "execute_result"
    }
   ],
   "source": [
    "param_count_dict"
   ]
  },
  {
   "cell_type": "code",
   "execution_count": null,
   "metadata": {},
   "outputs": [],
   "source": []
  },
  {
   "cell_type": "code",
   "execution_count": null,
   "metadata": {},
   "outputs": [],
   "source": [
    "mgr.train()"
   ]
  },
  {
   "cell_type": "code",
   "execution_count": null,
   "metadata": {},
   "outputs": [],
   "source": [
    "mgr.get_results().T"
   ]
  },
  {
   "cell_type": "code",
   "execution_count": null,
   "metadata": {},
   "outputs": [],
   "source": [
    "mgr.graph_training_curves()"
   ]
  }
 ],
 "metadata": {
  "kernelspec": {
   "display_name": "Python 3",
   "language": "python",
   "name": "python3"
  },
  "language_info": {
   "codemirror_mode": {
    "name": "ipython",
    "version": 3
   },
   "file_extension": ".py",
   "mimetype": "text/x-python",
   "name": "python",
   "nbconvert_exporter": "python",
   "pygments_lexer": "ipython3",
   "version": "3.6.6"
  }
 },
 "nbformat": 4,
 "nbformat_minor": 2
}
