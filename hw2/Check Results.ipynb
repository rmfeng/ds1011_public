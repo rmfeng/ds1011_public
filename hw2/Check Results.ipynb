{
 "cells": [
  {
   "cell_type": "code",
   "execution_count": 1,
   "metadata": {},
   "outputs": [],
   "source": [
    "import numpy as np\n",
    "import pandas as pd"
   ]
  },
  {
   "cell_type": "markdown",
   "metadata": {},
   "source": [
    "### RNN"
   ]
  },
  {
   "cell_type": "code",
   "execution_count": 2,
   "metadata": {},
   "outputs": [],
   "source": [
    "df = pd.read_csv('model_saves/results.csv')"
   ]
  },
  {
   "cell_type": "code",
   "execution_count": 3,
   "metadata": {},
   "outputs": [
    {
     "data": {
      "text/plain": [
       "(36, 28)"
      ]
     },
     "execution_count": 3,
     "metadata": {},
     "output_type": "execute_result"
    }
   ],
   "source": [
    "df.shape"
   ]
  },
  {
   "cell_type": "code",
   "execution_count": 4,
   "metadata": {},
   "outputs": [
    {
     "data": {
      "text/plain": [
       "70.4"
      ]
     },
     "execution_count": 4,
     "metadata": {},
     "output_type": "execute_result"
    }
   ],
   "source": [
    "df['best_val_acc'].max()"
   ]
  },
  {
   "cell_type": "code",
   "execution_count": 5,
   "metadata": {},
   "outputs": [
    {
     "data": {
      "text/html": [
       "<div>\n",
       "<style scoped>\n",
       "    .dataframe tbody tr th:only-of-type {\n",
       "        vertical-align: middle;\n",
       "    }\n",
       "\n",
       "    .dataframe tbody tr th {\n",
       "        vertical-align: top;\n",
       "    }\n",
       "\n",
       "    .dataframe thead th {\n",
       "        text-align: right;\n",
       "    }\n",
       "</style>\n",
       "<table border=\"1\" class=\"dataframe\">\n",
       "  <thead>\n",
       "    <tr style=\"text-align: right;\">\n",
       "      <th></th>\n",
       "      <th>3</th>\n",
       "    </tr>\n",
       "  </thead>\n",
       "  <tbody>\n",
       "    <tr>\n",
       "      <th>Unnamed: 0</th>\n",
       "      <td>3</td>\n",
       "    </tr>\n",
       "    <tr>\n",
       "      <th>act_vocab_size</th>\n",
       "      <td>100002</td>\n",
       "    </tr>\n",
       "    <tr>\n",
       "      <th>batch_size</th>\n",
       "      <td>256</td>\n",
       "    </tr>\n",
       "    <tr>\n",
       "      <th>best_val_acc</th>\n",
       "      <td>70.4</td>\n",
       "    </tr>\n",
       "    <tr>\n",
       "      <th>best_val_loss</th>\n",
       "      <td>3.52659</td>\n",
       "    </tr>\n",
       "    <tr>\n",
       "      <th>check_early_stop</th>\n",
       "      <td>True</td>\n",
       "    </tr>\n",
       "    <tr>\n",
       "      <th>criterion</th>\n",
       "      <td>&lt;class 'torch.nn.modules.loss.CrossEntropyLoss'&gt;</td>\n",
       "    </tr>\n",
       "    <tr>\n",
       "      <th>dropout_fc</th>\n",
       "      <td>0.25</td>\n",
       "    </tr>\n",
       "    <tr>\n",
       "      <th>dropout_rnn</th>\n",
       "      <td>0.25</td>\n",
       "    </tr>\n",
       "    <tr>\n",
       "      <th>embedding_dim</th>\n",
       "      <td>300</td>\n",
       "    </tr>\n",
       "    <tr>\n",
       "      <th>es_look_back</th>\n",
       "      <td>10</td>\n",
       "    </tr>\n",
       "    <tr>\n",
       "      <th>es_req_prog</th>\n",
       "      <td>0.01</td>\n",
       "    </tr>\n",
       "    <tr>\n",
       "      <th>fc_hidden_size</th>\n",
       "      <td>100</td>\n",
       "    </tr>\n",
       "    <tr>\n",
       "      <th>final_train_acc</th>\n",
       "      <td>72.735</td>\n",
       "    </tr>\n",
       "    <tr>\n",
       "      <th>final_train_loss</th>\n",
       "      <td>341.865</td>\n",
       "    </tr>\n",
       "    <tr>\n",
       "      <th>final_val_acc</th>\n",
       "      <td>69.1</td>\n",
       "    </tr>\n",
       "    <tr>\n",
       "      <th>final_val_loss</th>\n",
       "      <td>3.57306</td>\n",
       "    </tr>\n",
       "    <tr>\n",
       "      <th>lr</th>\n",
       "      <td>0.01</td>\n",
       "    </tr>\n",
       "    <tr>\n",
       "      <th>num_classes</th>\n",
       "      <td>3</td>\n",
       "    </tr>\n",
       "    <tr>\n",
       "      <th>num_epochs</th>\n",
       "      <td>10</td>\n",
       "    </tr>\n",
       "    <tr>\n",
       "      <th>optim_dec</th>\n",
       "      <td>&lt;class 'torch.optim.adam.Adam'&gt;</td>\n",
       "    </tr>\n",
       "    <tr>\n",
       "      <th>optim_enc</th>\n",
       "      <td>&lt;class 'torch.optim.adam.Adam'&gt;</td>\n",
       "    </tr>\n",
       "    <tr>\n",
       "      <th>rnn_hidden_size</th>\n",
       "      <td>100</td>\n",
       "    </tr>\n",
       "    <tr>\n",
       "      <th>rnn_num_layers</th>\n",
       "      <td>1</td>\n",
       "    </tr>\n",
       "    <tr>\n",
       "      <th>scheduler</th>\n",
       "      <td>&lt;class 'torch.optim.lr_scheduler.ExponentialLR'&gt;</td>\n",
       "    </tr>\n",
       "    <tr>\n",
       "      <th>scheduler_gamma</th>\n",
       "      <td>0.95</td>\n",
       "    </tr>\n",
       "    <tr>\n",
       "      <th>train_loop_check_freq</th>\n",
       "      <td>10</td>\n",
       "    </tr>\n",
       "    <tr>\n",
       "      <th>voc_size</th>\n",
       "      <td>100000</td>\n",
       "    </tr>\n",
       "  </tbody>\n",
       "</table>\n",
       "</div>"
      ],
      "text/plain": [
       "                                                                      3\n",
       "Unnamed: 0                                                            3\n",
       "act_vocab_size                                                   100002\n",
       "batch_size                                                          256\n",
       "best_val_acc                                                       70.4\n",
       "best_val_loss                                                   3.52659\n",
       "check_early_stop                                                   True\n",
       "criterion              <class 'torch.nn.modules.loss.CrossEntropyLoss'>\n",
       "dropout_fc                                                         0.25\n",
       "dropout_rnn                                                        0.25\n",
       "embedding_dim                                                       300\n",
       "es_look_back                                                         10\n",
       "es_req_prog                                                        0.01\n",
       "fc_hidden_size                                                      100\n",
       "final_train_acc                                                  72.735\n",
       "final_train_loss                                                341.865\n",
       "final_val_acc                                                      69.1\n",
       "final_val_loss                                                  3.57306\n",
       "lr                                                                 0.01\n",
       "num_classes                                                           3\n",
       "num_epochs                                                           10\n",
       "optim_dec                               <class 'torch.optim.adam.Adam'>\n",
       "optim_enc                               <class 'torch.optim.adam.Adam'>\n",
       "rnn_hidden_size                                                     100\n",
       "rnn_num_layers                                                        1\n",
       "scheduler              <class 'torch.optim.lr_scheduler.ExponentialLR'>\n",
       "scheduler_gamma                                                    0.95\n",
       "train_loop_check_freq                                                10\n",
       "voc_size                                                         100000"
      ]
     },
     "execution_count": 5,
     "metadata": {},
     "output_type": "execute_result"
    }
   ],
   "source": [
    "# which model was best?\n",
    "df.sort_values('best_val_acc', ascending=False)[0:1].T"
   ]
  },
  {
   "cell_type": "markdown",
   "metadata": {},
   "source": [
    "### CNN"
   ]
  },
  {
   "cell_type": "code",
   "execution_count": 6,
   "metadata": {},
   "outputs": [],
   "source": [
    "df = pd.read_csv('model_saves/cnn_results.csv')"
   ]
  },
  {
   "cell_type": "code",
   "execution_count": 7,
   "metadata": {},
   "outputs": [
    {
     "data": {
      "text/plain": [
       "(18, 33)"
      ]
     },
     "execution_count": 7,
     "metadata": {},
     "output_type": "execute_result"
    }
   ],
   "source": [
    "df.shape"
   ]
  },
  {
   "cell_type": "code",
   "execution_count": 8,
   "metadata": {},
   "outputs": [
    {
     "data": {
      "text/plain": [
       "70.3"
      ]
     },
     "execution_count": 8,
     "metadata": {},
     "output_type": "execute_result"
    }
   ],
   "source": [
    "df['best_val_acc'].max()"
   ]
  },
  {
   "cell_type": "code",
   "execution_count": 9,
   "metadata": {},
   "outputs": [
    {
     "data": {
      "text/html": [
       "<div>\n",
       "<style scoped>\n",
       "    .dataframe tbody tr th:only-of-type {\n",
       "        vertical-align: middle;\n",
       "    }\n",
       "\n",
       "    .dataframe tbody tr th {\n",
       "        vertical-align: top;\n",
       "    }\n",
       "\n",
       "    .dataframe thead th {\n",
       "        text-align: right;\n",
       "    }\n",
       "</style>\n",
       "<table border=\"1\" class=\"dataframe\">\n",
       "  <thead>\n",
       "    <tr style=\"text-align: right;\">\n",
       "      <th></th>\n",
       "      <th>15</th>\n",
       "    </tr>\n",
       "  </thead>\n",
       "  <tbody>\n",
       "    <tr>\n",
       "      <th>Unnamed: 0</th>\n",
       "      <td>15</td>\n",
       "    </tr>\n",
       "    <tr>\n",
       "      <th>act_vocab_size</th>\n",
       "      <td>100002</td>\n",
       "    </tr>\n",
       "    <tr>\n",
       "      <th>batch_size</th>\n",
       "      <td>256</td>\n",
       "    </tr>\n",
       "    <tr>\n",
       "      <th>best_val_acc</th>\n",
       "      <td>70.3</td>\n",
       "    </tr>\n",
       "    <tr>\n",
       "      <th>best_val_loss</th>\n",
       "      <td>3.55052</td>\n",
       "    </tr>\n",
       "    <tr>\n",
       "      <th>check_early_stop</th>\n",
       "      <td>True</td>\n",
       "    </tr>\n",
       "    <tr>\n",
       "      <th>cnn_hidden_size</th>\n",
       "      <td>200</td>\n",
       "    </tr>\n",
       "    <tr>\n",
       "      <th>cnn_kernal_size</th>\n",
       "      <td>3</td>\n",
       "    </tr>\n",
       "    <tr>\n",
       "      <th>criterion</th>\n",
       "      <td>&lt;class 'torch.nn.modules.loss.CrossEntropyLoss'&gt;</td>\n",
       "    </tr>\n",
       "    <tr>\n",
       "      <th>decay_lr_no_improv</th>\n",
       "      <td>0.5</td>\n",
       "    </tr>\n",
       "    <tr>\n",
       "      <th>dropout_fc</th>\n",
       "      <td>0.5</td>\n",
       "    </tr>\n",
       "    <tr>\n",
       "      <th>dropout_rnn</th>\n",
       "      <td>0.5</td>\n",
       "    </tr>\n",
       "    <tr>\n",
       "      <th>embedding_dim</th>\n",
       "      <td>300</td>\n",
       "    </tr>\n",
       "    <tr>\n",
       "      <th>es_look_back</th>\n",
       "      <td>50</td>\n",
       "    </tr>\n",
       "    <tr>\n",
       "      <th>es_req_prog</th>\n",
       "      <td>0</td>\n",
       "    </tr>\n",
       "    <tr>\n",
       "      <th>fc_hidden_size</th>\n",
       "      <td>100</td>\n",
       "    </tr>\n",
       "    <tr>\n",
       "      <th>final_train_acc</th>\n",
       "      <td>79.349</td>\n",
       "    </tr>\n",
       "    <tr>\n",
       "      <th>final_train_loss</th>\n",
       "      <td>317.504</td>\n",
       "    </tr>\n",
       "    <tr>\n",
       "      <th>final_val_acc</th>\n",
       "      <td>68.7</td>\n",
       "    </tr>\n",
       "    <tr>\n",
       "      <th>final_val_loss</th>\n",
       "      <td>3.52953</td>\n",
       "    </tr>\n",
       "    <tr>\n",
       "      <th>lr</th>\n",
       "      <td>0.001</td>\n",
       "    </tr>\n",
       "    <tr>\n",
       "      <th>no_imp_look_back</th>\n",
       "      <td>25</td>\n",
       "    </tr>\n",
       "    <tr>\n",
       "      <th>num_classes</th>\n",
       "      <td>3</td>\n",
       "    </tr>\n",
       "    <tr>\n",
       "      <th>num_epochs</th>\n",
       "      <td>10</td>\n",
       "    </tr>\n",
       "    <tr>\n",
       "      <th>optim_dec</th>\n",
       "      <td>&lt;class 'torch.optim.adam.Adam'&gt;</td>\n",
       "    </tr>\n",
       "    <tr>\n",
       "      <th>optim_enc</th>\n",
       "      <td>&lt;class 'torch.optim.adam.Adam'&gt;</td>\n",
       "    </tr>\n",
       "    <tr>\n",
       "      <th>rnn_hidden_size</th>\n",
       "      <td>50</td>\n",
       "    </tr>\n",
       "    <tr>\n",
       "      <th>rnn_num_layers</th>\n",
       "      <td>1</td>\n",
       "    </tr>\n",
       "    <tr>\n",
       "      <th>scheduler</th>\n",
       "      <td>&lt;class 'torch.optim.lr_scheduler.ExponentialLR'&gt;</td>\n",
       "    </tr>\n",
       "    <tr>\n",
       "      <th>scheduler_gamma</th>\n",
       "      <td>0.95</td>\n",
       "    </tr>\n",
       "    <tr>\n",
       "      <th>total_param_count</th>\n",
       "      <td>126003</td>\n",
       "    </tr>\n",
       "    <tr>\n",
       "      <th>train_loop_check_freq</th>\n",
       "      <td>10</td>\n",
       "    </tr>\n",
       "    <tr>\n",
       "      <th>voc_size</th>\n",
       "      <td>100000</td>\n",
       "    </tr>\n",
       "  </tbody>\n",
       "</table>\n",
       "</div>"
      ],
      "text/plain": [
       "                                                                     15\n",
       "Unnamed: 0                                                           15\n",
       "act_vocab_size                                                   100002\n",
       "batch_size                                                          256\n",
       "best_val_acc                                                       70.3\n",
       "best_val_loss                                                   3.55052\n",
       "check_early_stop                                                   True\n",
       "cnn_hidden_size                                                     200\n",
       "cnn_kernal_size                                                       3\n",
       "criterion              <class 'torch.nn.modules.loss.CrossEntropyLoss'>\n",
       "decay_lr_no_improv                                                  0.5\n",
       "dropout_fc                                                          0.5\n",
       "dropout_rnn                                                         0.5\n",
       "embedding_dim                                                       300\n",
       "es_look_back                                                         50\n",
       "es_req_prog                                                           0\n",
       "fc_hidden_size                                                      100\n",
       "final_train_acc                                                  79.349\n",
       "final_train_loss                                                317.504\n",
       "final_val_acc                                                      68.7\n",
       "final_val_loss                                                  3.52953\n",
       "lr                                                                0.001\n",
       "no_imp_look_back                                                     25\n",
       "num_classes                                                           3\n",
       "num_epochs                                                           10\n",
       "optim_dec                               <class 'torch.optim.adam.Adam'>\n",
       "optim_enc                               <class 'torch.optim.adam.Adam'>\n",
       "rnn_hidden_size                                                      50\n",
       "rnn_num_layers                                                        1\n",
       "scheduler              <class 'torch.optim.lr_scheduler.ExponentialLR'>\n",
       "scheduler_gamma                                                    0.95\n",
       "total_param_count                                                126003\n",
       "train_loop_check_freq                                                10\n",
       "voc_size                                                         100000"
      ]
     },
     "execution_count": 9,
     "metadata": {},
     "output_type": "execute_result"
    }
   ],
   "source": [
    "# which model was best?\n",
    "df.sort_values('best_val_acc', ascending=False)[0:1].T"
   ]
  },
  {
   "cell_type": "code",
   "execution_count": null,
   "metadata": {},
   "outputs": [],
   "source": []
  }
 ],
 "metadata": {
  "kernelspec": {
   "display_name": "Python 3",
   "language": "python",
   "name": "python3"
  },
  "language_info": {
   "codemirror_mode": {
    "name": "ipython",
    "version": 3
   },
   "file_extension": ".py",
   "mimetype": "text/x-python",
   "name": "python",
   "nbconvert_exporter": "python",
   "pygments_lexer": "ipython3",
   "version": "3.6.6"
  }
 },
 "nbformat": 4,
 "nbformat_minor": 2
}
