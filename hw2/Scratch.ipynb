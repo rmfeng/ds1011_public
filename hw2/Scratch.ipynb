{
 "cells": [
  {
   "cell_type": "code",
   "execution_count": 1,
   "metadata": {},
   "outputs": [],
   "source": [
    "import pandas as pd\n",
    "import numpy as np\n",
    "from string import punctuation"
   ]
  },
  {
   "cell_type": "code",
   "execution_count": 4,
   "metadata": {},
   "outputs": [],
   "source": [
    "fp = 'data/nli/snli_train.tsv'"
   ]
  },
  {
   "cell_type": "code",
   "execution_count": 7,
   "metadata": {},
   "outputs": [
    {
     "name": "stdout",
     "output_type": "stream",
     "text": [
      "Two young women dancers , one brunette and one blond , wearing similar red and black costumes and occupying a similarly colored `` dance cage '' , entertain a gathering crowd .\tTwo women are wearing costumes\tentailment\n",
      "\n",
      "Three women in elaborate costumes hold up `` I Love You '' cards .\tThree women in elaborate costumes hold up `` I Love You '' cards for their father .\tneutral\n",
      "\n",
      "s large man in a blue shirt and shorts leaning against a van in front of a store calle d `` Terrible 's ''\tA driver is taking a break by leaning up against his van .\tneutral\n",
      "\n",
      "Two women , one in black and one in white , are standing on one foot in front of a window that states , `` Babys '' in green and yellow balls .\tThe two women are posing for a picture outside of a tourist spot .\tneutral\n",
      "\n",
      "A woman in a pink coat stands in the snow beside a `` telephone booth '' , smiling as she holds a small shovel .\tThe woman is inside making dinner .\tcontradiction\n",
      "\n",
      "A lady sitting in a chair is inflating a child 's `` Hulk '' toy .\tA woman is seated with an inflatable toy in her hands .\tentailment\n",
      "\n",
      "a `` The Human Shop '' display in a public area such as a mall or airport , with four people , 3 females and one male , all wearing black with chains around their wrists , two of the females are sitting and the other with the male are standing , with a green sign in white lettering explaining what it is on the top and bottom for more information .\tA group of humans waits to be purchased at the Human Shop .\tneutral\n",
      "\n",
      "A woman 's hand with blue nail polish and a tattoo that says `` no regrets . ''\tMan 's hand with a tattoo saying `` Only Regrets ''\tcontradiction\n",
      "\n",
      "Republicans have a `` I stole all your money hahaha '' outdoor barbecue .\tSome people are having a barbecue outdoors .\tentailment\n",
      "\n",
      "One of the buses is marked `` Linea Express '' while the other is marked `` Metropolitan Transit System '' .\tThe two buses are marked with the same color lettering\tneutral\n",
      "\n",
      "A bald man with a tremendous gray beard sits behind a white van , before a building that says `` Peter Stevens MotorCycles : Service Department '' .\tA bald man with a tremendous gray beard sits behind a white van smoking a pipe .\tneutral\n",
      "\n"
     ]
    }
   ],
   "source": [
    "i = 0\n",
    "for l in open(fp,'r'):\n",
    "    print_l = False\n",
    "    sents = l.split('.')\n",
    "    for sent in sents: \n",
    "        for char in sent:\n",
    "            if char == '`':\n",
    "                print_l=True\n",
    "    \n",
    "    if print_l:\n",
    "        i += 1\n",
    "        print(l)\n",
    "    \n",
    "    if i > 10:\n",
    "        break"
   ]
  },
  {
   "cell_type": "code",
   "execution_count": 8,
   "metadata": {},
   "outputs": [],
   "source": [
    "import torch\n",
    "import torch.nn as nn\n",
    "\n",
    "batch_size = 3\n",
    "max_length = 3\n",
    "hidden_size = 2\n",
    "n_layers =1\n",
    "num_input_features = 1\n",
    "input_tensor = torch.zeros(batch_size\n",
    "                           , max_length\n",
    "                           , num_input_features)\n"
   ]
  },
  {
   "cell_type": "code",
   "execution_count": 9,
   "metadata": {},
   "outputs": [
    {
     "data": {
      "text/plain": [
       "tensor([[0.],\n",
       "        [0.],\n",
       "        [0.]])"
      ]
     },
     "execution_count": 9,
     "metadata": {},
     "output_type": "execute_result"
    }
   ],
   "source": [
    "input_tensor[0]"
   ]
  },
  {
   "cell_type": "code",
   "execution_count": 15,
   "metadata": {},
   "outputs": [],
   "source": [
    "input_tensor[0] = torch.FloatTensor(np.array([1,2,3]).reshape(-1, 1))\n",
    "input_tensor[1] = torch.FloatTensor(np.array([4,5,0]).reshape(-1, 1))\n",
    "input_tensor[2] = torch.FloatTensor(np.array([6,0,0]).reshape(-1, 1))\n",
    "seq_lengths = [3,2,1]\n"
   ]
  },
  {
   "cell_type": "code",
   "execution_count": 25,
   "metadata": {},
   "outputs": [
    {
     "name": "stdout",
     "output_type": "stream",
     "text": [
      "PackedSequence(data=tensor([[1.],\n",
      "        [4.],\n",
      "        [6.],\n",
      "        [2.],\n",
      "        [5.],\n",
      "        [3.]]), batch_sizes=tensor([3, 2, 1]))\n"
     ]
    }
   ],
   "source": [
    "pack = torch.nn.utils.rnn.pack_padded_sequence(input_tensor, seq_lengths, batch_first=True)\n",
    "print(pack)"
   ]
  }
 ],
 "metadata": {
  "kernelspec": {
   "display_name": "Python 3",
   "language": "python",
   "name": "python3"
  },
  "language_info": {
   "codemirror_mode": {
    "name": "ipython",
    "version": 3
   },
   "file_extension": ".py",
   "mimetype": "text/x-python",
   "name": "python",
   "nbconvert_exporter": "python",
   "pygments_lexer": "ipython3",
   "version": "3.6.6"
  }
 },
 "nbformat": 4,
 "nbformat_minor": 2
}
