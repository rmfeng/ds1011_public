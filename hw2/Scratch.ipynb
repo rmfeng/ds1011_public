{
 "cells": [
  {
   "cell_type": "code",
   "execution_count": 1,
   "metadata": {},
   "outputs": [],
   "source": [
    "import pandas as pd\n",
    "import numpy as np\n",
    "from libs import ModelManager as mm\n",
    "from config import basic_conf as conf\n",
    "import logging\n",
    "\n",
    "from importlib import reload"
   ]
  },
  {
   "cell_type": "code",
   "execution_count": 2,
   "metadata": {},
   "outputs": [
    {
     "name": "stdout",
     "output_type": "stream",
     "text": [
      "[2018-10-27 00:59:39] [INFO] Initializing Model Manager, version 0.4.0 ...\n",
      "[2018-10-27 00:59:39] [INFO] \n",
      "=== Models Available ===\n",
      "BagOfWords\n",
      "========================\n",
      "[2018-10-27 00:59:39] [INFO] \n",
      "=== Loaders Available ===\n",
      "IMDB\n",
      "SNLI\n",
      "========================\n",
      "[2018-10-27 00:59:39] [INFO] \n",
      "*********** Model Manager Details ***********\n",
      "-- self.hparams.num_epochs = 1\n",
      "-- self.hparams.lr = 0.01\n",
      "-- self.hparams.voc_size = 100000\n",
      "-- self.hparams.train_loop_check_freq = 100\n",
      "-- self.hparams.embedding_dim = 50\n",
      "-- self.hparams.batch_size = 32\n",
      "-- self.hparams.check_early_stop = True\n",
      "-- self.hparams.es_look_back = 5\n",
      "-- self.hparams.es_req_prog = 0.01\n",
      "-- self.hparams.optim_enc = <class 'torch.optim.adam.Adam'>\n",
      "-- self.hparams.optim_dec = <class 'torch.optim.adam.Adam'>\n",
      "-- self.hparams.scheduler = <class 'torch.optim.lr_scheduler.ExponentialLR'>\n",
      "-- self.hparams.scheduler_gamma = 0.95\n",
      "-- self.hparams.criterion = <class 'torch.nn.modules.loss.CrossEntropyLoss'>\n",
      "-- self.cparams.save_best_model = True\n",
      "-- self.cparams.save_each_epoch = True\n",
      "-- self.cparams.nli_train_path = data/nli/snli_train.tsv\n",
      "-- self.cparams.nli_val_path = data/nli/snli_val.tsv\n",
      "-- self.cparams.pretrained_path = data/nli/wiki-news-300d-1M.vec\n",
      "-- self.cparams.model_saves = model_saves/\n",
      "-- self.lparams = None\n",
      "-- self.model = None\n",
      "-- self.dataloader = None\n",
      "-- self.results = []\n",
      "-- self.mode = notebook\n",
      "-- self.tqdm = <function tqdm_notebook at 0x7f65f0764378>\n",
      "************ End of Model Manager Details ************\n"
     ]
    }
   ],
   "source": [
    "conf.init_logger(logging.INFO, logfile=None)\n",
    "mgr = mm.ModelManager(mode='notebook')"
   ]
  },
  {
   "cell_type": "code",
   "execution_count": 3,
   "metadata": {},
   "outputs": [
    {
     "name": "stdout",
     "output_type": "stream",
     "text": [
      "[2018-10-27 00:59:39] [INFO] Loading data using SNLI ...\n",
      "[2018-10-27 00:59:39] [INFO] loading raw training data set ...\n",
      "[2018-10-27 00:59:39] [INFO] loading raw training data set ...\n",
      "[2018-10-27 00:59:39] [INFO] loading pre-trained word vectors, building vocab ...\n",
      "[2018-10-27 00:59:53] [INFO] converting training set to index ...\n",
      "[2018-10-27 00:59:54] [INFO] converting val set to index ...\n",
      "[2018-10-27 00:59:54] [INFO] piping data into pytorch DataLoaders ...\n"
     ]
    }
   ],
   "source": [
    "mgr.load_data(mm.loaderRegister.SNLI)"
   ]
  },
  {
   "cell_type": "code",
   "execution_count": 4,
   "metadata": {},
   "outputs": [],
   "source": [
    "l = mgr.dataloader"
   ]
  },
  {
   "cell_type": "code",
   "execution_count": 12,
   "metadata": {},
   "outputs": [
    {
     "name": "stdout",
     "output_type": "stream",
     "text": [
      "tensor([    9,   347,     8,     9,   884, 29517,    15,  1670,     9,  3064,\n",
      "        20165,   424,     7,     9,  3064,  1036,    19,     3, 20165,  2328,\n",
      "           17,    21,   131,   167,   347,     8,     9,  7810,  5639,  1204,\n",
      "          125,  5819,     4], device='cuda:0')\n",
      "tensor([33, 25, 22, 21, 21, 19, 17, 17, 16, 16, 15, 14, 14, 14, 14, 13, 13, 12,\n",
      "        12, 11, 11, 11, 10,  9,  9,  9,  8,  7,  7,  7,  7,  5],\n",
      "       device='cuda:0')\n"
     ]
    }
   ],
   "source": [
    "for i, (sent1_batch, sent2_batch, len1_batch, len2_batch, label_batch) in enumerate(l.loaders['train']):\n",
    "    print(sent1_batch[0])\n",
    "    print(len1_batch)\n",
    "    break"
   ]
  },
  {
   "cell_type": "code",
   "execution_count": null,
   "metadata": {},
   "outputs": [],
   "source": []
  }
 ],
 "metadata": {
  "kernelspec": {
   "display_name": "Python 3",
   "language": "python",
   "name": "python3"
  },
  "language_info": {
   "codemirror_mode": {
    "name": "ipython",
    "version": 3
   },
   "file_extension": ".py",
   "mimetype": "text/x-python",
   "name": "python",
   "nbconvert_exporter": "python",
   "pygments_lexer": "ipython3",
   "version": "3.6.6"
  }
 },
 "nbformat": 4,
 "nbformat_minor": 2
}
