{
 "cells": [
  {
   "cell_type": "code",
   "execution_count": 20,
   "metadata": {},
   "outputs": [
    {
     "name": "stdout",
     "output_type": "stream",
     "text": [
      "The autotime extension is already loaded. To reload it, use:\n",
      "  %reload_ext autotime\n",
      "time: 2.17 ms\n"
     ]
    }
   ],
   "source": [
    "import ModelManager as mm_mod\n",
    "import config_defaults as cd\n",
    "from importlib import reload\n",
    "%load_ext autotime"
   ]
  },
  {
   "cell_type": "code",
   "execution_count": 24,
   "metadata": {
    "scrolled": true
   },
   "outputs": [
    {
     "name": "stdout",
     "output_type": "stream",
     "text": [
      "2018-09-30 16:23:01,325 root         INFO     initialized model with hyperparametrs:\n",
      "2018-09-30 16:23:01,326 root         INFO     LR: 0.01\n",
      "2018-09-30 16:23:01,328 root         INFO     NEPOCH: 1\n",
      "2018-09-30 16:23:01,329 root         INFO     BATCH_SIZE: 32\n",
      "2018-09-30 16:23:01,330 root         INFO     NGRAM_SIZE: 2\n",
      "2018-09-30 16:23:01,331 root         INFO     VOC_SIZE: 10000\n",
      "2018-09-30 16:23:01,332 root         INFO     EMBEDDING_DIM: 100\n",
      "2018-09-30 16:23:01,333 root         INFO     NGRAM_MODE: naive\n",
      "2018-09-30 16:23:01,334 root         INFO     VAL_SIZE: 5000\n",
      "2018-09-30 16:23:01,334 root         INFO     OPTIMIZER: <class 'torch.optim.adam.Adam'>\n",
      "2018-09-30 16:23:01,338 root         INFO     VAL_FREQ: 4\n",
      "2018-09-30 16:23:01,339 root         INFO     allow pickle loads: True, allow pickle saves: True\n",
      "time: 318 ms\n"
     ]
    }
   ],
   "source": [
    "reload(mm_mod)\n",
    "reload(cd)\n",
    "mm = mm_mod.ModelManager(load_pickles=True, save_pickles=True)"
   ]
  },
  {
   "cell_type": "code",
   "execution_count": null,
   "metadata": {
    "scrolled": false
   },
   "outputs": [
    {
     "name": "stdout",
     "output_type": "stream",
     "text": [
      "2018-09-30 16:23:02,336 root         INFO     found pickle files in ./data/pickles/, loading them instead of rebuilding ... \n"
     ]
    },
    {
     "data": {
      "application/vnd.jupyter.widget-view+json": {
       "model_id": "c7f5c08ba47349e4aaf1cb761ceec835",
       "version_major": 2,
       "version_minor": 0
      },
      "text/plain": [
       "HBox(children=(IntProgress(value=0, description='Epochs', max=1), HTML(value='')))"
      ]
     },
     "metadata": {},
     "output_type": "display_data"
    },
    {
     "data": {
      "application/vnd.jupyter.widget-view+json": {
       "model_id": "f06a6f39f34a48fbb7cd2de3e422cbad",
       "version_major": 2,
       "version_minor": 0
      },
      "text/plain": [
       "HBox(children=(IntProgress(value=0, max=625), HTML(value='')))"
      ]
     },
     "metadata": {},
     "output_type": "display_data"
    }
   ],
   "source": [
    "mm.load_and_train()"
   ]
  },
  {
   "cell_type": "code",
   "execution_count": null,
   "metadata": {},
   "outputs": [],
   "source": [
    "mm.test_model()"
   ]
  },
  {
   "cell_type": "code",
   "execution_count": null,
   "metadata": {},
   "outputs": [],
   "source": []
  }
 ],
 "metadata": {
  "kernelspec": {
   "display_name": "Python 3",
   "language": "python",
   "name": "python3"
  },
  "language_info": {
   "codemirror_mode": {
    "name": "ipython",
    "version": 3
   },
   "file_extension": ".py",
   "mimetype": "text/x-python",
   "name": "python",
   "nbconvert_exporter": "python",
   "pygments_lexer": "ipython3",
   "version": "3.6.6"
  }
 },
 "nbformat": 4,
 "nbformat_minor": 2
}
