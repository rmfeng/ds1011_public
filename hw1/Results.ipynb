{
 "cells": [
  {
   "cell_type": "code",
   "execution_count": 1,
   "metadata": {},
   "outputs": [],
   "source": [
    "import numpy as np\n",
    "import pandas as pd\n",
    "import pickle as pkl\n",
    "\n",
    "import matplotlib.pyplot as plt\n",
    "%matplotlib inline"
   ]
  },
  {
   "cell_type": "markdown",
   "metadata": {},
   "source": [
    "### Learning Rate Exploration"
   ]
  },
  {
   "cell_type": "code",
   "execution_count": 25,
   "metadata": {},
   "outputs": [
    {
     "data": {
      "text/html": [
       "<div>\n",
       "<style scoped>\n",
       "    .dataframe tbody tr th:only-of-type {\n",
       "        vertical-align: middle;\n",
       "    }\n",
       "\n",
       "    .dataframe tbody tr th {\n",
       "        vertical-align: top;\n",
       "    }\n",
       "\n",
       "    .dataframe thead th {\n",
       "        text-align: right;\n",
       "    }\n",
       "</style>\n",
       "<table border=\"1\" class=\"dataframe\">\n",
       "  <thead>\n",
       "    <tr style=\"text-align: right;\">\n",
       "      <th></th>\n",
       "      <th>initial_val_acc</th>\n",
       "      <th>epoch1_val_acc</th>\n",
       "      <th>epoch2_val_acc</th>\n",
       "      <th>epoch3_val_acc</th>\n",
       "      <th>final_val_acc</th>\n",
       "      <th>training_time</th>\n",
       "      <th>total_data_iterated</th>\n",
       "      <th>early_stopped</th>\n",
       "      <th>pct_unk_train</th>\n",
       "      <th>pct_unk_val</th>\n",
       "      <th>...</th>\n",
       "      <th>EMBEDDING_DIM</th>\n",
       "      <th>NGRAM_MODE</th>\n",
       "      <th>VAL_SIZE</th>\n",
       "      <th>OPTIMIZER</th>\n",
       "      <th>VAL_FREQ</th>\n",
       "      <th>REMOVE_STOP_WORDS</th>\n",
       "      <th>REMOVE_PUNC</th>\n",
       "      <th>EARLY_STOP</th>\n",
       "      <th>EARLY_STOP_LOOKBACK</th>\n",
       "      <th>EARLY_STOP_MIN_IMPROVE</th>\n",
       "    </tr>\n",
       "  </thead>\n",
       "  <tbody>\n",
       "    <tr>\n",
       "      <th>1</th>\n",
       "      <td></td>\n",
       "      <td></td>\n",
       "      <td></td>\n",
       "      <td></td>\n",
       "      <td>50.90</td>\n",
       "      <td>4.44</td>\n",
       "      <td>20000</td>\n",
       "      <td>False</td>\n",
       "      <td>0.530094</td>\n",
       "      <td>0.534054</td>\n",
       "      <td>...</td>\n",
       "      <td>100</td>\n",
       "      <td>spacy</td>\n",
       "      <td>5000</td>\n",
       "      <td>&lt;class 'torch.optim.adam.Adam'&gt;</td>\n",
       "      <td>4</td>\n",
       "      <td>True</td>\n",
       "      <td>True</td>\n",
       "      <td>False</td>\n",
       "      <td>2</td>\n",
       "      <td>0.01</td>\n",
       "    </tr>\n",
       "    <tr>\n",
       "      <th>2</th>\n",
       "      <td></td>\n",
       "      <td></td>\n",
       "      <td></td>\n",
       "      <td></td>\n",
       "      <td>60.46</td>\n",
       "      <td>4.4</td>\n",
       "      <td>20000</td>\n",
       "      <td>False</td>\n",
       "      <td>0.530094</td>\n",
       "      <td>0.534054</td>\n",
       "      <td>...</td>\n",
       "      <td>100</td>\n",
       "      <td>spacy</td>\n",
       "      <td>5000</td>\n",
       "      <td>&lt;class 'torch.optim.adam.Adam'&gt;</td>\n",
       "      <td>4</td>\n",
       "      <td>True</td>\n",
       "      <td>True</td>\n",
       "      <td>False</td>\n",
       "      <td>2</td>\n",
       "      <td>0.01</td>\n",
       "    </tr>\n",
       "    <tr>\n",
       "      <th>3</th>\n",
       "      <td></td>\n",
       "      <td></td>\n",
       "      <td></td>\n",
       "      <td></td>\n",
       "      <td>74.80</td>\n",
       "      <td>4.38</td>\n",
       "      <td>20000</td>\n",
       "      <td>False</td>\n",
       "      <td>0.530094</td>\n",
       "      <td>0.534054</td>\n",
       "      <td>...</td>\n",
       "      <td>100</td>\n",
       "      <td>spacy</td>\n",
       "      <td>5000</td>\n",
       "      <td>&lt;class 'torch.optim.adam.Adam'&gt;</td>\n",
       "      <td>4</td>\n",
       "      <td>True</td>\n",
       "      <td>True</td>\n",
       "      <td>False</td>\n",
       "      <td>2</td>\n",
       "      <td>0.01</td>\n",
       "    </tr>\n",
       "    <tr>\n",
       "      <th>4</th>\n",
       "      <td></td>\n",
       "      <td></td>\n",
       "      <td></td>\n",
       "      <td></td>\n",
       "      <td>87.40</td>\n",
       "      <td>4.58</td>\n",
       "      <td>20000</td>\n",
       "      <td>False</td>\n",
       "      <td>0.530094</td>\n",
       "      <td>0.534054</td>\n",
       "      <td>...</td>\n",
       "      <td>100</td>\n",
       "      <td>spacy</td>\n",
       "      <td>5000</td>\n",
       "      <td>&lt;class 'torch.optim.adam.Adam'&gt;</td>\n",
       "      <td>4</td>\n",
       "      <td>True</td>\n",
       "      <td>True</td>\n",
       "      <td>False</td>\n",
       "      <td>2</td>\n",
       "      <td>0.01</td>\n",
       "    </tr>\n",
       "    <tr>\n",
       "      <th>5</th>\n",
       "      <td></td>\n",
       "      <td></td>\n",
       "      <td></td>\n",
       "      <td></td>\n",
       "      <td>84.18</td>\n",
       "      <td>4.39</td>\n",
       "      <td>20000</td>\n",
       "      <td>False</td>\n",
       "      <td>0.530094</td>\n",
       "      <td>0.534054</td>\n",
       "      <td>...</td>\n",
       "      <td>100</td>\n",
       "      <td>spacy</td>\n",
       "      <td>5000</td>\n",
       "      <td>&lt;class 'torch.optim.adam.Adam'&gt;</td>\n",
       "      <td>4</td>\n",
       "      <td>True</td>\n",
       "      <td>True</td>\n",
       "      <td>False</td>\n",
       "      <td>2</td>\n",
       "      <td>0.01</td>\n",
       "    </tr>\n",
       "  </tbody>\n",
       "</table>\n",
       "<p>5 rows × 25 columns</p>\n",
       "</div>"
      ],
      "text/plain": [
       "  initial_val_acc epoch1_val_acc epoch2_val_acc epoch3_val_acc  final_val_acc  \\\n",
       "1                                                                       50.90   \n",
       "2                                                                       60.46   \n",
       "3                                                                       74.80   \n",
       "4                                                                       87.40   \n",
       "5                                                                       84.18   \n",
       "\n",
       "  training_time  total_data_iterated early_stopped  pct_unk_train  \\\n",
       "1          4.44                20000         False       0.530094   \n",
       "2           4.4                20000         False       0.530094   \n",
       "3          4.38                20000         False       0.530094   \n",
       "4          4.58                20000         False       0.530094   \n",
       "5          4.39                20000         False       0.530094   \n",
       "\n",
       "   pct_unk_val           ...            EMBEDDING_DIM  NGRAM_MODE  VAL_SIZE  \\\n",
       "1     0.534054           ...                      100       spacy      5000   \n",
       "2     0.534054           ...                      100       spacy      5000   \n",
       "3     0.534054           ...                      100       spacy      5000   \n",
       "4     0.534054           ...                      100       spacy      5000   \n",
       "5     0.534054           ...                      100       spacy      5000   \n",
       "\n",
       "                         OPTIMIZER  VAL_FREQ  REMOVE_STOP_WORDS REMOVE_PUNC  \\\n",
       "1  <class 'torch.optim.adam.Adam'>         4               True        True   \n",
       "2  <class 'torch.optim.adam.Adam'>         4               True        True   \n",
       "3  <class 'torch.optim.adam.Adam'>         4               True        True   \n",
       "4  <class 'torch.optim.adam.Adam'>         4               True        True   \n",
       "5  <class 'torch.optim.adam.Adam'>         4               True        True   \n",
       "\n",
       "   EARLY_STOP EARLY_STOP_LOOKBACK  EARLY_STOP_MIN_IMPROVE  \n",
       "1       False                   2                    0.01  \n",
       "2       False                   2                    0.01  \n",
       "3       False                   2                    0.01  \n",
       "4       False                   2                    0.01  \n",
       "5       False                   2                    0.01  \n",
       "\n",
       "[5 rows x 25 columns]"
      ]
     },
     "execution_count": 25,
     "metadata": {},
     "output_type": "execute_result"
    }
   ],
   "source": [
    "fp = r'./results/lr_explore.p'\n",
    "df = pkl.load(open(fp, 'rb'))\n",
    "df.head()"
   ]
  },
  {
   "cell_type": "code",
   "execution_count": 27,
   "metadata": {},
   "outputs": [
    {
     "data": {
      "image/png": "[encoded data removed]",
      "text/plain": [
       "<Figure size 432x288 with 1 Axes>"
      ]
     },
     "metadata": {
      "needs_background": "light"
     },
     "output_type": "display_data"
    }
   ],
   "source": [
    "plt.plot(np.log10(df['LR']), df['final_val_acc'])\n",
    "plt.title(\"Base Model Accuracy after 1 Epoch by Learning Rate\")\n",
    "plt.xlabel(\"log10 of Learning Rate)\")\n",
    "plt.ylabel(\"Validation Accuracy\")\n",
    "plt.savefig(r'writeup/img/lr_explore.png')\n",
    "plt.show()"
   ]
  },
  {
   "cell_type": "markdown",
   "metadata": {},
   "source": [
    "### Tokenization Explore"
   ]
  },
  {
   "cell_type": "code",
   "execution_count": 28,
   "metadata": {},
   "outputs": [
    {
     "data": {
      "text/html": [
       "<div>\n",
       "<style scoped>\n",
       "    .dataframe tbody tr th:only-of-type {\n",
       "        vertical-align: middle;\n",
       "    }\n",
       "\n",
       "    .dataframe tbody tr th {\n",
       "        vertical-align: top;\n",
       "    }\n",
       "\n",
       "    .dataframe thead th {\n",
       "        text-align: right;\n",
       "    }\n",
       "</style>\n",
       "<table border=\"1\" class=\"dataframe\">\n",
       "  <thead>\n",
       "    <tr style=\"text-align: right;\">\n",
       "      <th></th>\n",
       "      <th>initial_val_acc</th>\n",
       "      <th>epoch1_val_acc</th>\n",
       "      <th>epoch2_val_acc</th>\n",
       "      <th>epoch3_val_acc</th>\n",
       "      <th>final_val_acc</th>\n",
       "      <th>training_time</th>\n",
       "      <th>total_data_iterated</th>\n",
       "      <th>early_stopped</th>\n",
       "      <th>pct_unk_train</th>\n",
       "      <th>pct_unk_val</th>\n",
       "      <th>...</th>\n",
       "      <th>EMBEDDING_DIM</th>\n",
       "      <th>NGRAM_MODE</th>\n",
       "      <th>VAL_SIZE</th>\n",
       "      <th>OPTIMIZER</th>\n",
       "      <th>VAL_FREQ</th>\n",
       "      <th>REMOVE_STOP_WORDS</th>\n",
       "      <th>REMOVE_PUNC</th>\n",
       "      <th>EARLY_STOP</th>\n",
       "      <th>EARLY_STOP_LOOKBACK</th>\n",
       "      <th>EARLY_STOP_MIN_IMPROVE</th>\n",
       "    </tr>\n",
       "  </thead>\n",
       "  <tbody>\n",
       "    <tr>\n",
       "      <th>1</th>\n",
       "      <td></td>\n",
       "      <td></td>\n",
       "      <td></td>\n",
       "      <td></td>\n",
       "      <td>86.72</td>\n",
       "      <td>14.92</td>\n",
       "      <td>36384</td>\n",
       "      <td>True</td>\n",
       "      <td>0.244464</td>\n",
       "      <td>0.249718</td>\n",
       "      <td>...</td>\n",
       "      <td>100</td>\n",
       "      <td>naive</td>\n",
       "      <td>5000</td>\n",
       "      <td>&lt;class 'torch.optim.adam.Adam'&gt;</td>\n",
       "      <td>4</td>\n",
       "      <td>True</td>\n",
       "      <td>True</td>\n",
       "      <td>True</td>\n",
       "      <td>4</td>\n",
       "      <td>0.01</td>\n",
       "    </tr>\n",
       "    <tr>\n",
       "      <th>2</th>\n",
       "      <td></td>\n",
       "      <td>87.4</td>\n",
       "      <td></td>\n",
       "      <td></td>\n",
       "      <td>87.54</td>\n",
       "      <td>22.32</td>\n",
       "      <td>44096</td>\n",
       "      <td>True</td>\n",
       "      <td>0.170917</td>\n",
       "      <td>0.180050</td>\n",
       "      <td>...</td>\n",
       "      <td>100</td>\n",
       "      <td>naive</td>\n",
       "      <td>5000</td>\n",
       "      <td>&lt;class 'torch.optim.adam.Adam'&gt;</td>\n",
       "      <td>4</td>\n",
       "      <td>True</td>\n",
       "      <td>True</td>\n",
       "      <td>True</td>\n",
       "      <td>4</td>\n",
       "      <td>0.01</td>\n",
       "    </tr>\n",
       "    <tr>\n",
       "      <th>3</th>\n",
       "      <td></td>\n",
       "      <td>87.58</td>\n",
       "      <td></td>\n",
       "      <td></td>\n",
       "      <td>87.54</td>\n",
       "      <td>27.01</td>\n",
       "      <td>44096</td>\n",
       "      <td>True</td>\n",
       "      <td>0.134779</td>\n",
       "      <td>0.146825</td>\n",
       "      <td>...</td>\n",
       "      <td>100</td>\n",
       "      <td>naive</td>\n",
       "      <td>5000</td>\n",
       "      <td>&lt;class 'torch.optim.adam.Adam'&gt;</td>\n",
       "      <td>4</td>\n",
       "      <td>True</td>\n",
       "      <td>True</td>\n",
       "      <td>True</td>\n",
       "      <td>4</td>\n",
       "      <td>0.01</td>\n",
       "    </tr>\n",
       "    <tr>\n",
       "      <th>4</th>\n",
       "      <td></td>\n",
       "      <td>86.74</td>\n",
       "      <td></td>\n",
       "      <td></td>\n",
       "      <td>86.94</td>\n",
       "      <td>36.56</td>\n",
       "      <td>44096</td>\n",
       "      <td>True</td>\n",
       "      <td>0.112453</td>\n",
       "      <td>0.127482</td>\n",
       "      <td>...</td>\n",
       "      <td>100</td>\n",
       "      <td>naive</td>\n",
       "      <td>5000</td>\n",
       "      <td>&lt;class 'torch.optim.adam.Adam'&gt;</td>\n",
       "      <td>4</td>\n",
       "      <td>True</td>\n",
       "      <td>True</td>\n",
       "      <td>True</td>\n",
       "      <td>4</td>\n",
       "      <td>0.01</td>\n",
       "    </tr>\n",
       "    <tr>\n",
       "      <th>5</th>\n",
       "      <td></td>\n",
       "      <td>87.04</td>\n",
       "      <td></td>\n",
       "      <td></td>\n",
       "      <td>87.78</td>\n",
       "      <td>42.76</td>\n",
       "      <td>44096</td>\n",
       "      <td>True</td>\n",
       "      <td>0.096929</td>\n",
       "      <td>0.114567</td>\n",
       "      <td>...</td>\n",
       "      <td>100</td>\n",
       "      <td>naive</td>\n",
       "      <td>5000</td>\n",
       "      <td>&lt;class 'torch.optim.adam.Adam'&gt;</td>\n",
       "      <td>4</td>\n",
       "      <td>True</td>\n",
       "      <td>True</td>\n",
       "      <td>True</td>\n",
       "      <td>4</td>\n",
       "      <td>0.01</td>\n",
       "    </tr>\n",
       "  </tbody>\n",
       "</table>\n",
       "<p>5 rows × 25 columns</p>\n",
       "</div>"
      ],
      "text/plain": [
       "  initial_val_acc epoch1_val_acc epoch2_val_acc epoch3_val_acc  final_val_acc  \\\n",
       "1                                                                       86.72   \n",
       "2                           87.4                                        87.54   \n",
       "3                          87.58                                        87.54   \n",
       "4                          86.74                                        86.94   \n",
       "5                          87.04                                        87.78   \n",
       "\n",
       "  training_time  total_data_iterated early_stopped  pct_unk_train  \\\n",
       "1         14.92                36384          True       0.244464   \n",
       "2         22.32                44096          True       0.170917   \n",
       "3         27.01                44096          True       0.134779   \n",
       "4         36.56                44096          True       0.112453   \n",
       "5         42.76                44096          True       0.096929   \n",
       "\n",
       "   pct_unk_val           ...            EMBEDDING_DIM  NGRAM_MODE  VAL_SIZE  \\\n",
       "1     0.249718           ...                      100       naive      5000   \n",
       "2     0.180050           ...                      100       naive      5000   \n",
       "3     0.146825           ...                      100       naive      5000   \n",
       "4     0.127482           ...                      100       naive      5000   \n",
       "5     0.114567           ...                      100       naive      5000   \n",
       "\n",
       "                         OPTIMIZER  VAL_FREQ  REMOVE_STOP_WORDS REMOVE_PUNC  \\\n",
       "1  <class 'torch.optim.adam.Adam'>         4               True        True   \n",
       "2  <class 'torch.optim.adam.Adam'>         4               True        True   \n",
       "3  <class 'torch.optim.adam.Adam'>         4               True        True   \n",
       "4  <class 'torch.optim.adam.Adam'>         4               True        True   \n",
       "5  <class 'torch.optim.adam.Adam'>         4               True        True   \n",
       "\n",
       "   EARLY_STOP EARLY_STOP_LOOKBACK  EARLY_STOP_MIN_IMPROVE  \n",
       "1        True                   4                    0.01  \n",
       "2        True                   4                    0.01  \n",
       "3        True                   4                    0.01  \n",
       "4        True                   4                    0.01  \n",
       "5        True                   4                    0.01  \n",
       "\n",
       "[5 rows x 25 columns]"
      ]
     },
     "execution_count": 28,
     "metadata": {},
     "output_type": "execute_result"
    }
   ],
   "source": [
    "fp = r'./results/vocab_explore.p'\n",
    "df = pkl.load(open(fp, 'rb'))\n",
    "df.head()"
   ]
  },
  {
   "cell_type": "code",
   "execution_count": 29,
   "metadata": {},
   "outputs": [
    {
     "data": {
      "text/html": [
       "<div>\n",
       "<style scoped>\n",
       "    .dataframe tbody tr th:only-of-type {\n",
       "        vertical-align: middle;\n",
       "    }\n",
       "\n",
       "    .dataframe tbody tr th {\n",
       "        vertical-align: top;\n",
       "    }\n",
       "\n",
       "    .dataframe thead th {\n",
       "        text-align: right;\n",
       "    }\n",
       "</style>\n",
       "<table border=\"1\" class=\"dataframe\">\n",
       "  <thead>\n",
       "    <tr style=\"text-align: right;\">\n",
       "      <th></th>\n",
       "      <th>count</th>\n",
       "      <th>mean</th>\n",
       "      <th>std</th>\n",
       "      <th>min</th>\n",
       "      <th>25%</th>\n",
       "      <th>50%</th>\n",
       "      <th>75%</th>\n",
       "      <th>max</th>\n",
       "    </tr>\n",
       "  </thead>\n",
       "  <tbody>\n",
       "    <tr>\n",
       "      <th>final_val_acc</th>\n",
       "      <td>64.0</td>\n",
       "      <td>88.352500</td>\n",
       "      <td>0.885384</td>\n",
       "      <td>85.960000</td>\n",
       "      <td>87.715000</td>\n",
       "      <td>88.460000</td>\n",
       "      <td>89.020000</td>\n",
       "      <td>89.740000</td>\n",
       "    </tr>\n",
       "    <tr>\n",
       "      <th>total_data_iterated</th>\n",
       "      <td>64.0</td>\n",
       "      <td>50436.000000</td>\n",
       "      <td>9357.960434</td>\n",
       "      <td>36384.000000</td>\n",
       "      <td>44096.000000</td>\n",
       "      <td>48192.000000</td>\n",
       "      <td>53312.000000</td>\n",
       "      <td>88192.000000</td>\n",
       "    </tr>\n",
       "    <tr>\n",
       "      <th>pct_unk_train</th>\n",
       "      <td>64.0</td>\n",
       "      <td>0.484272</td>\n",
       "      <td>0.257272</td>\n",
       "      <td>0.010923</td>\n",
       "      <td>0.345287</td>\n",
       "      <td>0.583013</td>\n",
       "      <td>0.689611</td>\n",
       "      <td>0.801887</td>\n",
       "    </tr>\n",
       "    <tr>\n",
       "      <th>pct_unk_val</th>\n",
       "      <td>64.0</td>\n",
       "      <td>0.494599</td>\n",
       "      <td>0.253548</td>\n",
       "      <td>0.033413</td>\n",
       "      <td>0.361999</td>\n",
       "      <td>0.596571</td>\n",
       "      <td>0.698909</td>\n",
       "      <td>0.803563</td>\n",
       "    </tr>\n",
       "    <tr>\n",
       "      <th>LR</th>\n",
       "      <td>64.0</td>\n",
       "      <td>0.010000</td>\n",
       "      <td>0.000000</td>\n",
       "      <td>0.010000</td>\n",
       "      <td>0.010000</td>\n",
       "      <td>0.010000</td>\n",
       "      <td>0.010000</td>\n",
       "      <td>0.010000</td>\n",
       "    </tr>\n",
       "    <tr>\n",
       "      <th>NEPOCH</th>\n",
       "      <td>64.0</td>\n",
       "      <td>10.000000</td>\n",
       "      <td>0.000000</td>\n",
       "      <td>10.000000</td>\n",
       "      <td>10.000000</td>\n",
       "      <td>10.000000</td>\n",
       "      <td>10.000000</td>\n",
       "      <td>10.000000</td>\n",
       "    </tr>\n",
       "    <tr>\n",
       "      <th>BATCH_SIZE</th>\n",
       "      <td>64.0</td>\n",
       "      <td>32.000000</td>\n",
       "      <td>0.000000</td>\n",
       "      <td>32.000000</td>\n",
       "      <td>32.000000</td>\n",
       "      <td>32.000000</td>\n",
       "      <td>32.000000</td>\n",
       "      <td>32.000000</td>\n",
       "    </tr>\n",
       "    <tr>\n",
       "      <th>NGRAM_SIZE</th>\n",
       "      <td>64.0</td>\n",
       "      <td>2.500000</td>\n",
       "      <td>1.126872</td>\n",
       "      <td>1.000000</td>\n",
       "      <td>1.750000</td>\n",
       "      <td>2.500000</td>\n",
       "      <td>3.250000</td>\n",
       "      <td>4.000000</td>\n",
       "    </tr>\n",
       "    <tr>\n",
       "      <th>VOC_SIZE</th>\n",
       "      <td>64.0</td>\n",
       "      <td>45000.000000</td>\n",
       "      <td>23094.010768</td>\n",
       "      <td>10000.000000</td>\n",
       "      <td>27500.000000</td>\n",
       "      <td>45000.000000</td>\n",
       "      <td>62500.000000</td>\n",
       "      <td>80000.000000</td>\n",
       "    </tr>\n",
       "    <tr>\n",
       "      <th>EMBEDDING_DIM</th>\n",
       "      <td>64.0</td>\n",
       "      <td>100.000000</td>\n",
       "      <td>0.000000</td>\n",
       "      <td>100.000000</td>\n",
       "      <td>100.000000</td>\n",
       "      <td>100.000000</td>\n",
       "      <td>100.000000</td>\n",
       "      <td>100.000000</td>\n",
       "    </tr>\n",
       "    <tr>\n",
       "      <th>VAL_SIZE</th>\n",
       "      <td>64.0</td>\n",
       "      <td>5000.000000</td>\n",
       "      <td>0.000000</td>\n",
       "      <td>5000.000000</td>\n",
       "      <td>5000.000000</td>\n",
       "      <td>5000.000000</td>\n",
       "      <td>5000.000000</td>\n",
       "      <td>5000.000000</td>\n",
       "    </tr>\n",
       "    <tr>\n",
       "      <th>VAL_FREQ</th>\n",
       "      <td>64.0</td>\n",
       "      <td>4.000000</td>\n",
       "      <td>0.000000</td>\n",
       "      <td>4.000000</td>\n",
       "      <td>4.000000</td>\n",
       "      <td>4.000000</td>\n",
       "      <td>4.000000</td>\n",
       "      <td>4.000000</td>\n",
       "    </tr>\n",
       "    <tr>\n",
       "      <th>EARLY_STOP_LOOKBACK</th>\n",
       "      <td>64.0</td>\n",
       "      <td>4.000000</td>\n",
       "      <td>0.000000</td>\n",
       "      <td>4.000000</td>\n",
       "      <td>4.000000</td>\n",
       "      <td>4.000000</td>\n",
       "      <td>4.000000</td>\n",
       "      <td>4.000000</td>\n",
       "    </tr>\n",
       "    <tr>\n",
       "      <th>EARLY_STOP_MIN_IMPROVE</th>\n",
       "      <td>64.0</td>\n",
       "      <td>0.010000</td>\n",
       "      <td>0.000000</td>\n",
       "      <td>0.010000</td>\n",
       "      <td>0.010000</td>\n",
       "      <td>0.010000</td>\n",
       "      <td>0.010000</td>\n",
       "      <td>0.010000</td>\n",
       "    </tr>\n",
       "  </tbody>\n",
       "</table>\n",
       "</div>"
      ],
      "text/plain": [
       "                        count          mean           std           min  \\\n",
       "final_val_acc            64.0     88.352500      0.885384     85.960000   \n",
       "total_data_iterated      64.0  50436.000000   9357.960434  36384.000000   \n",
       "pct_unk_train            64.0      0.484272      0.257272      0.010923   \n",
       "pct_unk_val              64.0      0.494599      0.253548      0.033413   \n",
       "LR                       64.0      0.010000      0.000000      0.010000   \n",
       "NEPOCH                   64.0     10.000000      0.000000     10.000000   \n",
       "BATCH_SIZE               64.0     32.000000      0.000000     32.000000   \n",
       "NGRAM_SIZE               64.0      2.500000      1.126872      1.000000   \n",
       "VOC_SIZE                 64.0  45000.000000  23094.010768  10000.000000   \n",
       "EMBEDDING_DIM            64.0    100.000000      0.000000    100.000000   \n",
       "VAL_SIZE                 64.0   5000.000000      0.000000   5000.000000   \n",
       "VAL_FREQ                 64.0      4.000000      0.000000      4.000000   \n",
       "EARLY_STOP_LOOKBACK      64.0      4.000000      0.000000      4.000000   \n",
       "EARLY_STOP_MIN_IMPROVE   64.0      0.010000      0.000000      0.010000   \n",
       "\n",
       "                                 25%           50%           75%           max  \n",
       "final_val_acc              87.715000     88.460000     89.020000     89.740000  \n",
       "total_data_iterated     44096.000000  48192.000000  53312.000000  88192.000000  \n",
       "pct_unk_train               0.345287      0.583013      0.689611      0.801887  \n",
       "pct_unk_val                 0.361999      0.596571      0.698909      0.803563  \n",
       "LR                          0.010000      0.010000      0.010000      0.010000  \n",
       "NEPOCH                     10.000000     10.000000     10.000000     10.000000  \n",
       "BATCH_SIZE                 32.000000     32.000000     32.000000     32.000000  \n",
       "NGRAM_SIZE                  1.750000      2.500000      3.250000      4.000000  \n",
       "VOC_SIZE                27500.000000  45000.000000  62500.000000  80000.000000  \n",
       "EMBEDDING_DIM             100.000000    100.000000    100.000000    100.000000  \n",
       "VAL_SIZE                 5000.000000   5000.000000   5000.000000   5000.000000  \n",
       "VAL_FREQ                    4.000000      4.000000      4.000000      4.000000  \n",
       "EARLY_STOP_LOOKBACK         4.000000      4.000000      4.000000      4.000000  \n",
       "EARLY_STOP_MIN_IMPROVE      0.010000      0.010000      0.010000      0.010000  "
      ]
     },
     "execution_count": 29,
     "metadata": {},
     "output_type": "execute_result"
    }
   ],
   "source": [
    "df.describe().T"
   ]
  },
  {
   "cell_type": "code",
   "execution_count": 30,
   "metadata": {},
   "outputs": [
    {
     "name": "stdout",
     "output_type": "stream",
     "text": [
      "max acc = 89.74\n"
     ]
    },
    {
     "data": {
      "image/png": "[encoded data removed]",
      "text/plain": [
       "<Figure size 432x288 with 1 Axes>"
      ]
     },
     "metadata": {
      "needs_background": "light"
     },
     "output_type": "display_data"
    }
   ],
   "source": [
    "plt.plot(df['final_val_acc'].sort_values().values)\n",
    "print(\"max acc = %s\" % df['final_val_acc'].max())\n",
    "plt.show()"
   ]
  },
  {
   "cell_type": "markdown",
   "metadata": {},
   "source": [
    "### for each tokenization scheme, how does vocabulary size affect performance"
   ]
  },
  {
   "cell_type": "code",
   "execution_count": 48,
   "metadata": {},
   "outputs": [
    {
     "data": {
      "image/png": "[encoded data removed]",
      "text/plain": [
       "<Figure size 432x288 with 1 Axes>"
      ]
     },
     "metadata": {
      "needs_background": "light"
     },
     "output_type": "display_data"
    },
    {
     "data": {
      "image/png": "[encoded data removed]",
      "text/plain": [
       "<Figure size 432x288 with 1 Axes>"
      ]
     },
     "metadata": {
      "needs_background": "light"
     },
     "output_type": "display_data"
    },
    {
     "data": {
      "image/png": "[encoded data removed]",
      "text/plain": [
       "<Figure size 432x288 with 1 Axes>"
      ]
     },
     "metadata": {
      "needs_background": "light"
     },
     "output_type": "display_data"
    },
    {
     "data": {
      "image/png": "[encoded data removed]",
      "text/plain": [
       "<Figure size 432x288 with 1 Axes>"
      ]
     },
     "metadata": {
      "needs_background": "light"
     },
     "output_type": "display_data"
    },
    {
     "data": {
      "image/png": "[encoded data removed]",
      "text/plain": [
       "<Figure size 432x288 with 1 Axes>"
      ]
     },
     "metadata": {
      "needs_background": "light"
     },
     "output_type": "display_data"
    },
    {
     "data": {
      "image/png": "[encoded data removed]",
      "text/plain": [
       "<Figure size 432x288 with 1 Axes>"
      ]
     },
     "metadata": {
      "needs_background": "light"
     },
     "output_type": "display_data"
    },
    {
     "data": {
      "image/png": "[encoded data removed]",
      "text/plain": [
       "<Figure size 432x288 with 1 Axes>"
      ]
     },
     "metadata": {
      "needs_background": "light"
     },
     "output_type": "display_data"
    },
    {
     "data": {
      "image/png": "[encoded data removed]",
      "text/plain": [
       "<Figure size 432x288 with 1 Axes>"
      ]
     },
     "metadata": {
      "needs_background": "light"
     },
     "output_type": "display_data"
    }
   ],
   "source": [
    "ng_sizes = np.sort(df['NGRAM_SIZE'].unique())\n",
    "ng_modes = ('naive', 'spacy')\n",
    "\n",
    "for ng_mode in ng_modes:\n",
    "    for ng_size in ng_sizes:\n",
    "        sub_df = df[(df['NGRAM_SIZE'] == ng_size) & (df['NGRAM_MODE'] == ng_mode)]\n",
    "        plt.plot(sub_df['VOC_SIZE'], sub_df['final_val_acc'])\n",
    "        plt.title(\"Ngram Size %s and %s tokenization\" % (ng_size, ng_mode))\n",
    "        plt.ylabel(\"Validation Accuracy\")\n",
    "        plt.xlabel(\"Vocabulary Size\")\n",
    "        plt.show()"
   ]
  },
  {
   "cell_type": "markdown",
   "metadata": {},
   "source": [
    "### extra investigation for ngram size 4 and spacy"
   ]
  },
  {
   "cell_type": "code",
   "execution_count": 57,
   "metadata": {},
   "outputs": [
    {
     "data": {
      "text/html": [
       "<div>\n",
       "<style scoped>\n",
       "    .dataframe tbody tr th:only-of-type {\n",
       "        vertical-align: middle;\n",
       "    }\n",
       "\n",
       "    .dataframe tbody tr th {\n",
       "        vertical-align: top;\n",
       "    }\n",
       "\n",
       "    .dataframe thead th {\n",
       "        text-align: right;\n",
       "    }\n",
       "</style>\n",
       "<table border=\"1\" class=\"dataframe\">\n",
       "  <thead>\n",
       "    <tr style=\"text-align: right;\">\n",
       "      <th></th>\n",
       "      <th>initial_val_acc</th>\n",
       "      <th>epoch1_val_acc</th>\n",
       "      <th>epoch2_val_acc</th>\n",
       "      <th>epoch3_val_acc</th>\n",
       "      <th>final_val_acc</th>\n",
       "      <th>training_time</th>\n",
       "      <th>total_data_iterated</th>\n",
       "      <th>early_stopped</th>\n",
       "      <th>pct_unk_train</th>\n",
       "      <th>pct_unk_val</th>\n",
       "      <th>...</th>\n",
       "      <th>EMBEDDING_DIM</th>\n",
       "      <th>NGRAM_MODE</th>\n",
       "      <th>VAL_SIZE</th>\n",
       "      <th>OPTIMIZER</th>\n",
       "      <th>VAL_FREQ</th>\n",
       "      <th>REMOVE_STOP_WORDS</th>\n",
       "      <th>REMOVE_PUNC</th>\n",
       "      <th>EARLY_STOP</th>\n",
       "      <th>EARLY_STOP_LOOKBACK</th>\n",
       "      <th>EARLY_STOP_MIN_IMPROVE</th>\n",
       "    </tr>\n",
       "  </thead>\n",
       "  <tbody>\n",
       "    <tr>\n",
       "      <th>1</th>\n",
       "      <td></td>\n",
       "      <td>90.32</td>\n",
       "      <td>89.96</td>\n",
       "      <td></td>\n",
       "      <td>89.72</td>\n",
       "      <td>147.78</td>\n",
       "      <td>68192</td>\n",
       "      <td>True</td>\n",
       "      <td>0.678686</td>\n",
       "      <td>0.690848</td>\n",
       "      <td>...</td>\n",
       "      <td>100</td>\n",
       "      <td>spacy</td>\n",
       "      <td>5000</td>\n",
       "      <td>&lt;class 'torch.optim.adam.Adam'&gt;</td>\n",
       "      <td>4</td>\n",
       "      <td>True</td>\n",
       "      <td>True</td>\n",
       "      <td>True</td>\n",
       "      <td>4</td>\n",
       "      <td>0.01</td>\n",
       "    </tr>\n",
       "    <tr>\n",
       "      <th>2</th>\n",
       "      <td></td>\n",
       "      <td>89.36</td>\n",
       "      <td>89.54</td>\n",
       "      <td></td>\n",
       "      <td>89.40</td>\n",
       "      <td>146.82</td>\n",
       "      <td>64096</td>\n",
       "      <td>True</td>\n",
       "      <td>0.674262</td>\n",
       "      <td>0.687713</td>\n",
       "      <td>...</td>\n",
       "      <td>100</td>\n",
       "      <td>spacy</td>\n",
       "      <td>5000</td>\n",
       "      <td>&lt;class 'torch.optim.adam.Adam'&gt;</td>\n",
       "      <td>4</td>\n",
       "      <td>True</td>\n",
       "      <td>True</td>\n",
       "      <td>True</td>\n",
       "      <td>4</td>\n",
       "      <td>0.01</td>\n",
       "    </tr>\n",
       "    <tr>\n",
       "      <th>3</th>\n",
       "      <td></td>\n",
       "      <td>89.26</td>\n",
       "      <td></td>\n",
       "      <td></td>\n",
       "      <td>89.40</td>\n",
       "      <td>122.35</td>\n",
       "      <td>52288</td>\n",
       "      <td>True</td>\n",
       "      <td>0.670891</td>\n",
       "      <td>0.685635</td>\n",
       "      <td>...</td>\n",
       "      <td>100</td>\n",
       "      <td>spacy</td>\n",
       "      <td>5000</td>\n",
       "      <td>&lt;class 'torch.optim.adam.Adam'&gt;</td>\n",
       "      <td>4</td>\n",
       "      <td>True</td>\n",
       "      <td>True</td>\n",
       "      <td>True</td>\n",
       "      <td>4</td>\n",
       "      <td>0.01</td>\n",
       "    </tr>\n",
       "    <tr>\n",
       "      <th>4</th>\n",
       "      <td></td>\n",
       "      <td>89.62</td>\n",
       "      <td>89.64</td>\n",
       "      <td></td>\n",
       "      <td>89.56</td>\n",
       "      <td>155.49</td>\n",
       "      <td>64096</td>\n",
       "      <td>True</td>\n",
       "      <td>0.667521</td>\n",
       "      <td>0.683472</td>\n",
       "      <td>...</td>\n",
       "      <td>100</td>\n",
       "      <td>spacy</td>\n",
       "      <td>5000</td>\n",
       "      <td>&lt;class 'torch.optim.adam.Adam'&gt;</td>\n",
       "      <td>4</td>\n",
       "      <td>True</td>\n",
       "      <td>True</td>\n",
       "      <td>True</td>\n",
       "      <td>4</td>\n",
       "      <td>0.01</td>\n",
       "    </tr>\n",
       "    <tr>\n",
       "      <th>5</th>\n",
       "      <td></td>\n",
       "      <td>89.70</td>\n",
       "      <td></td>\n",
       "      <td></td>\n",
       "      <td>89.86</td>\n",
       "      <td>130.85</td>\n",
       "      <td>48192</td>\n",
       "      <td>True</td>\n",
       "      <td>0.664150</td>\n",
       "      <td>0.681276</td>\n",
       "      <td>...</td>\n",
       "      <td>100</td>\n",
       "      <td>spacy</td>\n",
       "      <td>5000</td>\n",
       "      <td>&lt;class 'torch.optim.adam.Adam'&gt;</td>\n",
       "      <td>4</td>\n",
       "      <td>True</td>\n",
       "      <td>True</td>\n",
       "      <td>True</td>\n",
       "      <td>4</td>\n",
       "      <td>0.01</td>\n",
       "    </tr>\n",
       "  </tbody>\n",
       "</table>\n",
       "<p>5 rows × 25 columns</p>\n",
       "</div>"
      ],
      "text/plain": [
       "  initial_val_acc  epoch1_val_acc epoch2_val_acc epoch3_val_acc  \\\n",
       "1                           90.32          89.96                  \n",
       "2                           89.36          89.54                  \n",
       "3                           89.26                                 \n",
       "4                           89.62          89.64                  \n",
       "5                           89.70                                 \n",
       "\n",
       "   final_val_acc training_time  total_data_iterated early_stopped  \\\n",
       "1          89.72        147.78                68192          True   \n",
       "2          89.40        146.82                64096          True   \n",
       "3          89.40        122.35                52288          True   \n",
       "4          89.56        155.49                64096          True   \n",
       "5          89.86        130.85                48192          True   \n",
       "\n",
       "   pct_unk_train  pct_unk_val           ...            EMBEDDING_DIM  \\\n",
       "1       0.678686     0.690848           ...                      100   \n",
       "2       0.674262     0.687713           ...                      100   \n",
       "3       0.670891     0.685635           ...                      100   \n",
       "4       0.667521     0.683472           ...                      100   \n",
       "5       0.664150     0.681276           ...                      100   \n",
       "\n",
       "   NGRAM_MODE  VAL_SIZE                        OPTIMIZER  VAL_FREQ  \\\n",
       "1       spacy      5000  <class 'torch.optim.adam.Adam'>         4   \n",
       "2       spacy      5000  <class 'torch.optim.adam.Adam'>         4   \n",
       "3       spacy      5000  <class 'torch.optim.adam.Adam'>         4   \n",
       "4       spacy      5000  <class 'torch.optim.adam.Adam'>         4   \n",
       "5       spacy      5000  <class 'torch.optim.adam.Adam'>         4   \n",
       "\n",
       "   REMOVE_STOP_WORDS REMOVE_PUNC  EARLY_STOP EARLY_STOP_LOOKBACK  \\\n",
       "1               True        True        True                   4   \n",
       "2               True        True        True                   4   \n",
       "3               True        True        True                   4   \n",
       "4               True        True        True                   4   \n",
       "5               True        True        True                   4   \n",
       "\n",
       "   EARLY_STOP_MIN_IMPROVE  \n",
       "1                    0.01  \n",
       "2                    0.01  \n",
       "3                    0.01  \n",
       "4                    0.01  \n",
       "5                    0.01  \n",
       "\n",
       "[5 rows x 25 columns]"
      ]
     },
     "execution_count": 57,
     "metadata": {},
     "output_type": "execute_result"
    }
   ],
   "source": [
    "fp = r'./results/voc_additional.p'\n",
    "df = pkl.load(open(fp, 'rb'))\n",
    "df.head()"
   ]
  },
  {
   "cell_type": "code",
   "execution_count": 66,
   "metadata": {},
   "outputs": [
    {
     "data": {
      "image/png": "[encoded data removed]",
      "text/plain": [
       "<Figure size 432x288 with 1 Axes>"
      ]
     },
     "metadata": {
      "needs_background": "light"
     },
     "output_type": "display_data"
    }
   ],
   "source": [
    "plt.plot(1-df['pct_unk_train'], df['VOC_SIZE'] / 1000)\n",
    "plt.title(\"Vocabulary Size vs Token Coverage\")\n",
    "plt.xlabel(\"% of tokens covered by vocab\")\n",
    "plt.ylabel(\"Vocab size (000)\")\n",
    "plt.show()"
   ]
  },
  {
   "cell_type": "code",
   "execution_count": 68,
   "metadata": {},
   "outputs": [
    {
     "data": {
      "image/png": "[encoded data removed]",
      "text/plain": [
       "<Figure size 432x288 with 1 Axes>"
      ]
     },
     "metadata": {
      "needs_background": "light"
     },
     "output_type": "display_data"
    }
   ],
   "source": [
    "plt.scatter(df['VOC_SIZE']/1000, df['final_val_acc'])\n",
    "#plt.title(\"Vocabulary Size vs Token Coverage\")\n",
    "#plt.xlabel(\"% of tokens covered by vocab\")\n",
    "#plt.ylabel(\"Vocab size (000)\")\n",
    "plt.show()"
   ]
  },
  {
   "cell_type": "code",
   "execution_count": null,
   "metadata": {},
   "outputs": [],
   "source": []
  },
  {
   "cell_type": "code",
   "execution_count": null,
   "metadata": {},
   "outputs": [],
   "source": []
  },
  {
   "cell_type": "code",
   "execution_count": 54,
   "metadata": {},
   "outputs": [],
   "source": [
    "df_res = df.set_index(['NGRAM_SIZE', 'NGRAM_MODE']).sort_index()"
   ]
  },
  {
   "cell_type": "code",
   "execution_count": 65,
   "metadata": {},
   "outputs": [
    {
     "name": "stdout",
     "output_type": "stream",
     "text": [
      "(1, 'naive')\n"
     ]
    },
    {
     "data": {
      "image/png": "[encoded data removed]",
      "text/plain": [
       "<Figure size 432x288 with 1 Axes>"
      ]
     },
     "metadata": {
      "needs_background": "light"
     },
     "output_type": "display_data"
    },
    {
     "name": "stdout",
     "output_type": "stream",
     "text": [
      "(1, 'spacy')\n"
     ]
    },
    {
     "data": {
      "image/png": "[encoded data removed]",
      "text/plain": [
       "<Figure size 432x288 with 1 Axes>"
      ]
     },
     "metadata": {
      "needs_background": "light"
     },
     "output_type": "display_data"
    },
    {
     "name": "stdout",
     "output_type": "stream",
     "text": [
      "(2, 'naive')\n"
     ]
    },
    {
     "data": {
      "image/png": "[encoded data removed]",
      "text/plain": [
       "<Figure size 432x288 with 1 Axes>"
      ]
     },
     "metadata": {
      "needs_background": "light"
     },
     "output_type": "display_data"
    },
    {
     "name": "stdout",
     "output_type": "stream",
     "text": [
      "(2, 'spacy')\n"
     ]
    },
    {
     "data": {
      "image/png": "[encoded data removed]",
      "text/plain": [
       "<Figure size 432x288 with 1 Axes>"
      ]
     },
     "metadata": {
      "needs_background": "light"
     },
     "output_type": "display_data"
    },
    {
     "name": "stdout",
     "output_type": "stream",
     "text": [
      "(3, 'naive')\n"
     ]
    },
    {
     "data": {
      "image/png": "[encoded data removed]",
      "text/plain": [
       "<Figure size 432x288 with 1 Axes>"
      ]
     },
     "metadata": {
      "needs_background": "light"
     },
     "output_type": "display_data"
    },
    {
     "name": "stdout",
     "output_type": "stream",
     "text": [
      "(3, 'spacy')\n"
     ]
    },
    {
     "data": {
      "image/png": "[encoded data removed]",
      "text/plain": [
       "<Figure size 432x288 with 1 Axes>"
      ]
     },
     "metadata": {
      "needs_background": "light"
     },
     "output_type": "display_data"
    },
    {
     "name": "stdout",
     "output_type": "stream",
     "text": [
      "(4, 'naive')\n"
     ]
    },
    {
     "data": {
      "image/png": "[encoded data removed]",
      "text/plain": [
       "<Figure size 432x288 with 1 Axes>"
      ]
     },
     "metadata": {
      "needs_background": "light"
     },
     "output_type": "display_data"
    },
    {
     "name": "stdout",
     "output_type": "stream",
     "text": [
      "(4, 'spacy')\n"
     ]
    },
    {
     "data": {
      "image/png": "[encoded data removed]",
      "text/plain": [
       "<Figure size 432x288 with 1 Axes>"
      ]
     },
     "metadata": {
      "needs_background": "light"
     },
     "output_type": "display_data"
    },
    {
     "data": {
      "text/html": [
       "<div>\n",
       "<style scoped>\n",
       "    .dataframe tbody tr th:only-of-type {\n",
       "        vertical-align: middle;\n",
       "    }\n",
       "\n",
       "    .dataframe tbody tr th {\n",
       "        vertical-align: top;\n",
       "    }\n",
       "\n",
       "    .dataframe thead th {\n",
       "        text-align: right;\n",
       "    }\n",
       "</style>\n",
       "<table border=\"1\" class=\"dataframe\">\n",
       "  <thead>\n",
       "    <tr style=\"text-align: right;\">\n",
       "      <th></th>\n",
       "    </tr>\n",
       "  </thead>\n",
       "  <tbody>\n",
       "  </tbody>\n",
       "</table>\n",
       "</div>"
      ],
      "text/plain": [
       "Empty DataFrame\n",
       "Columns: []\n",
       "Index: []"
      ]
     },
     "execution_count": 65,
     "metadata": {},
     "output_type": "execute_result"
    }
   ],
   "source": [
    "def graph_fn(df):\n",
    "    print(df.index.values[0])\n",
    "    plt.scatter(df['VOC_SIZE'],df['final_val_acc'])\n",
    "    plt.show()\n",
    "df_res.groupby(df_res.index).apply(graph_fn)"
   ]
  },
  {
   "cell_type": "markdown",
   "metadata": {},
   "source": [
    "### Embedding size optimization"
   ]
  },
  {
   "cell_type": "code",
   "execution_count": 98,
   "metadata": {},
   "outputs": [
    {
     "data": {
      "text/html": [
       "<div>\n",
       "<style scoped>\n",
       "    .dataframe tbody tr th:only-of-type {\n",
       "        vertical-align: middle;\n",
       "    }\n",
       "\n",
       "    .dataframe tbody tr th {\n",
       "        vertical-align: top;\n",
       "    }\n",
       "\n",
       "    .dataframe thead th {\n",
       "        text-align: right;\n",
       "    }\n",
       "</style>\n",
       "<table border=\"1\" class=\"dataframe\">\n",
       "  <thead>\n",
       "    <tr style=\"text-align: right;\">\n",
       "      <th></th>\n",
       "      <th>initial_val_acc</th>\n",
       "      <th>epoch1_val_acc</th>\n",
       "      <th>epoch2_val_acc</th>\n",
       "      <th>epoch3_val_acc</th>\n",
       "      <th>final_val_acc</th>\n",
       "      <th>training_time</th>\n",
       "      <th>total_data_iterated</th>\n",
       "      <th>early_stopped</th>\n",
       "      <th>pct_unk_train</th>\n",
       "      <th>pct_unk_val</th>\n",
       "      <th>...</th>\n",
       "      <th>EMBEDDING_DIM</th>\n",
       "      <th>NGRAM_MODE</th>\n",
       "      <th>VAL_SIZE</th>\n",
       "      <th>OPTIMIZER</th>\n",
       "      <th>VAL_FREQ</th>\n",
       "      <th>REMOVE_STOP_WORDS</th>\n",
       "      <th>REMOVE_PUNC</th>\n",
       "      <th>EARLY_STOP</th>\n",
       "      <th>EARLY_STOP_LOOKBACK</th>\n",
       "      <th>EARLY_STOP_MIN_IMPROVE</th>\n",
       "    </tr>\n",
       "  </thead>\n",
       "  <tbody>\n",
       "    <tr>\n",
       "      <th>0</th>\n",
       "      <td></td>\n",
       "      <td>88.18</td>\n",
       "      <td></td>\n",
       "      <td></td>\n",
       "      <td>88.60</td>\n",
       "      <td>20.51</td>\n",
       "      <td>44096</td>\n",
       "      <td>True</td>\n",
       "      <td>0.476073</td>\n",
       "      <td>0.482561</td>\n",
       "      <td>...</td>\n",
       "      <td>50</td>\n",
       "      <td>spacy</td>\n",
       "      <td>5000</td>\n",
       "      <td>&lt;class 'torch.optim.adam.Adam'&gt;</td>\n",
       "      <td>4</td>\n",
       "      <td>True</td>\n",
       "      <td>True</td>\n",
       "      <td>True</td>\n",
       "      <td>4</td>\n",
       "      <td>0.01</td>\n",
       "    </tr>\n",
       "    <tr>\n",
       "      <th>1</th>\n",
       "      <td></td>\n",
       "      <td>89.02</td>\n",
       "      <td></td>\n",
       "      <td></td>\n",
       "      <td>88.98</td>\n",
       "      <td>24.38</td>\n",
       "      <td>48192</td>\n",
       "      <td>True</td>\n",
       "      <td>0.447026</td>\n",
       "      <td>0.455849</td>\n",
       "      <td>...</td>\n",
       "      <td>50</td>\n",
       "      <td>spacy</td>\n",
       "      <td>5000</td>\n",
       "      <td>&lt;class 'torch.optim.adam.Adam'&gt;</td>\n",
       "      <td>4</td>\n",
       "      <td>True</td>\n",
       "      <td>True</td>\n",
       "      <td>True</td>\n",
       "      <td>4</td>\n",
       "      <td>0.01</td>\n",
       "    </tr>\n",
       "    <tr>\n",
       "      <th>2</th>\n",
       "      <td></td>\n",
       "      <td>89.08</td>\n",
       "      <td></td>\n",
       "      <td></td>\n",
       "      <td>89.24</td>\n",
       "      <td>30.41</td>\n",
       "      <td>48192</td>\n",
       "      <td>True</td>\n",
       "      <td>0.426857</td>\n",
       "      <td>0.438027</td>\n",
       "      <td>...</td>\n",
       "      <td>50</td>\n",
       "      <td>spacy</td>\n",
       "      <td>5000</td>\n",
       "      <td>&lt;class 'torch.optim.adam.Adam'&gt;</td>\n",
       "      <td>4</td>\n",
       "      <td>True</td>\n",
       "      <td>True</td>\n",
       "      <td>True</td>\n",
       "      <td>4</td>\n",
       "      <td>0.01</td>\n",
       "    </tr>\n",
       "    <tr>\n",
       "      <th>3</th>\n",
       "      <td></td>\n",
       "      <td>89.14</td>\n",
       "      <td>89</td>\n",
       "      <td></td>\n",
       "      <td>89.00</td>\n",
       "      <td>42.43</td>\n",
       "      <td>64096</td>\n",
       "      <td>True</td>\n",
       "      <td>0.411370</td>\n",
       "      <td>0.424864</td>\n",
       "      <td>...</td>\n",
       "      <td>50</td>\n",
       "      <td>spacy</td>\n",
       "      <td>5000</td>\n",
       "      <td>&lt;class 'torch.optim.adam.Adam'&gt;</td>\n",
       "      <td>4</td>\n",
       "      <td>True</td>\n",
       "      <td>True</td>\n",
       "      <td>True</td>\n",
       "      <td>4</td>\n",
       "      <td>0.01</td>\n",
       "    </tr>\n",
       "    <tr>\n",
       "      <th>4</th>\n",
       "      <td></td>\n",
       "      <td>86.82</td>\n",
       "      <td></td>\n",
       "      <td></td>\n",
       "      <td>89.30</td>\n",
       "      <td>42.68</td>\n",
       "      <td>48192</td>\n",
       "      <td>True</td>\n",
       "      <td>0.398803</td>\n",
       "      <td>0.414668</td>\n",
       "      <td>...</td>\n",
       "      <td>50</td>\n",
       "      <td>spacy</td>\n",
       "      <td>5000</td>\n",
       "      <td>&lt;class 'torch.optim.adam.Adam'&gt;</td>\n",
       "      <td>4</td>\n",
       "      <td>True</td>\n",
       "      <td>True</td>\n",
       "      <td>True</td>\n",
       "      <td>4</td>\n",
       "      <td>0.01</td>\n",
       "    </tr>\n",
       "  </tbody>\n",
       "</table>\n",
       "<p>5 rows × 25 columns</p>\n",
       "</div>"
      ],
      "text/plain": [
       "  initial_val_acc epoch1_val_acc epoch2_val_acc epoch3_val_acc  final_val_acc  \\\n",
       "0                          88.18                                        88.60   \n",
       "1                          89.02                                        88.98   \n",
       "2                          89.08                                        89.24   \n",
       "3                          89.14             89                         89.00   \n",
       "4                          86.82                                        89.30   \n",
       "\n",
       "  training_time  total_data_iterated early_stopped  pct_unk_train  \\\n",
       "0         20.51                44096          True       0.476073   \n",
       "1         24.38                48192          True       0.447026   \n",
       "2         30.41                48192          True       0.426857   \n",
       "3         42.43                64096          True       0.411370   \n",
       "4         42.68                48192          True       0.398803   \n",
       "\n",
       "   pct_unk_val           ...            EMBEDDING_DIM  NGRAM_MODE  VAL_SIZE  \\\n",
       "0     0.482561           ...                       50       spacy      5000   \n",
       "1     0.455849           ...                       50       spacy      5000   \n",
       "2     0.438027           ...                       50       spacy      5000   \n",
       "3     0.424864           ...                       50       spacy      5000   \n",
       "4     0.414668           ...                       50       spacy      5000   \n",
       "\n",
       "                         OPTIMIZER  VAL_FREQ  REMOVE_STOP_WORDS REMOVE_PUNC  \\\n",
       "0  <class 'torch.optim.adam.Adam'>         4               True        True   \n",
       "1  <class 'torch.optim.adam.Adam'>         4               True        True   \n",
       "2  <class 'torch.optim.adam.Adam'>         4               True        True   \n",
       "3  <class 'torch.optim.adam.Adam'>         4               True        True   \n",
       "4  <class 'torch.optim.adam.Adam'>         4               True        True   \n",
       "\n",
       "   EARLY_STOP EARLY_STOP_LOOKBACK  EARLY_STOP_MIN_IMPROVE  \n",
       "0        True                   4                    0.01  \n",
       "1        True                   4                    0.01  \n",
       "2        True                   4                    0.01  \n",
       "3        True                   4                    0.01  \n",
       "4        True                   4                    0.01  \n",
       "\n",
       "[5 rows x 25 columns]"
      ]
     },
     "metadata": {},
     "output_type": "display_data"
    },
    {
     "name": "stdout",
     "output_type": "stream",
     "text": [
      "(154, 25)\n"
     ]
    }
   ],
   "source": [
    "fp = r'./results/embdim.p'\n",
    "df = pkl.load(open(fp, 'rb')).reset_index(drop=True)\n",
    "display(df.head())\n",
    "print(df.shape)"
   ]
  },
  {
   "cell_type": "code",
   "execution_count": 99,
   "metadata": {},
   "outputs": [
    {
     "data": {
      "text/html": [
       "<div>\n",
       "<style scoped>\n",
       "    .dataframe tbody tr th:only-of-type {\n",
       "        vertical-align: middle;\n",
       "    }\n",
       "\n",
       "    .dataframe tbody tr th {\n",
       "        vertical-align: top;\n",
       "    }\n",
       "\n",
       "    .dataframe thead th {\n",
       "        text-align: right;\n",
       "    }\n",
       "</style>\n",
       "<table border=\"1\" class=\"dataframe\">\n",
       "  <thead>\n",
       "    <tr style=\"text-align: right;\">\n",
       "      <th></th>\n",
       "      <th>count</th>\n",
       "      <th>mean</th>\n",
       "      <th>std</th>\n",
       "      <th>min</th>\n",
       "      <th>25%</th>\n",
       "      <th>50%</th>\n",
       "      <th>75%</th>\n",
       "      <th>max</th>\n",
       "    </tr>\n",
       "  </thead>\n",
       "  <tbody>\n",
       "    <tr>\n",
       "      <th>final_val_acc</th>\n",
       "      <td>154.0</td>\n",
       "      <td>88.570000</td>\n",
       "      <td>0.457308</td>\n",
       "      <td>86.940000</td>\n",
       "      <td>88.320000</td>\n",
       "      <td>88.600000</td>\n",
       "      <td>88.820000</td>\n",
       "      <td>89.680000</td>\n",
       "    </tr>\n",
       "    <tr>\n",
       "      <th>total_data_iterated</th>\n",
       "      <td>154.0</td>\n",
       "      <td>45676.051948</td>\n",
       "      <td>5192.138955</td>\n",
       "      <td>32288.000000</td>\n",
       "      <td>44096.000000</td>\n",
       "      <td>44096.000000</td>\n",
       "      <td>48192.000000</td>\n",
       "      <td>68192.000000</td>\n",
       "    </tr>\n",
       "    <tr>\n",
       "      <th>pct_unk_train</th>\n",
       "      <td>154.0</td>\n",
       "      <td>0.396923</td>\n",
       "      <td>0.038289</td>\n",
       "      <td>0.349763</td>\n",
       "      <td>0.363126</td>\n",
       "      <td>0.387804</td>\n",
       "      <td>0.426857</td>\n",
       "      <td>0.476073</td>\n",
       "    </tr>\n",
       "    <tr>\n",
       "      <th>pct_unk_val</th>\n",
       "      <td>154.0</td>\n",
       "      <td>0.415096</td>\n",
       "      <td>0.031162</td>\n",
       "      <td>0.379440</td>\n",
       "      <td>0.388387</td>\n",
       "      <td>0.406038</td>\n",
       "      <td>0.438027</td>\n",
       "      <td>0.482561</td>\n",
       "    </tr>\n",
       "    <tr>\n",
       "      <th>LR</th>\n",
       "      <td>154.0</td>\n",
       "      <td>0.010000</td>\n",
       "      <td>0.000000</td>\n",
       "      <td>0.010000</td>\n",
       "      <td>0.010000</td>\n",
       "      <td>0.010000</td>\n",
       "      <td>0.010000</td>\n",
       "      <td>0.010000</td>\n",
       "    </tr>\n",
       "    <tr>\n",
       "      <th>NEPOCH</th>\n",
       "      <td>154.0</td>\n",
       "      <td>10.000000</td>\n",
       "      <td>0.000000</td>\n",
       "      <td>10.000000</td>\n",
       "      <td>10.000000</td>\n",
       "      <td>10.000000</td>\n",
       "      <td>10.000000</td>\n",
       "      <td>10.000000</td>\n",
       "    </tr>\n",
       "    <tr>\n",
       "      <th>BATCH_SIZE</th>\n",
       "      <td>154.0</td>\n",
       "      <td>32.000000</td>\n",
       "      <td>0.000000</td>\n",
       "      <td>32.000000</td>\n",
       "      <td>32.000000</td>\n",
       "      <td>32.000000</td>\n",
       "      <td>32.000000</td>\n",
       "      <td>32.000000</td>\n",
       "    </tr>\n",
       "    <tr>\n",
       "      <th>NGRAM_SIZE</th>\n",
       "      <td>154.0</td>\n",
       "      <td>2.000000</td>\n",
       "      <td>0.000000</td>\n",
       "      <td>2.000000</td>\n",
       "      <td>2.000000</td>\n",
       "      <td>2.000000</td>\n",
       "      <td>2.000000</td>\n",
       "      <td>2.000000</td>\n",
       "    </tr>\n",
       "    <tr>\n",
       "      <th>VOC_SIZE</th>\n",
       "      <td>154.0</td>\n",
       "      <td>70000.000000</td>\n",
       "      <td>31725.950698</td>\n",
       "      <td>20000.000000</td>\n",
       "      <td>40000.000000</td>\n",
       "      <td>70000.000000</td>\n",
       "      <td>100000.000000</td>\n",
       "      <td>120000.000000</td>\n",
       "    </tr>\n",
       "    <tr>\n",
       "      <th>EMBEDDING_DIM</th>\n",
       "      <td>154.0</td>\n",
       "      <td>375.000000</td>\n",
       "      <td>202.214052</td>\n",
       "      <td>50.000000</td>\n",
       "      <td>200.000000</td>\n",
       "      <td>375.000000</td>\n",
       "      <td>550.000000</td>\n",
       "      <td>700.000000</td>\n",
       "    </tr>\n",
       "    <tr>\n",
       "      <th>VAL_SIZE</th>\n",
       "      <td>154.0</td>\n",
       "      <td>5000.000000</td>\n",
       "      <td>0.000000</td>\n",
       "      <td>5000.000000</td>\n",
       "      <td>5000.000000</td>\n",
       "      <td>5000.000000</td>\n",
       "      <td>5000.000000</td>\n",
       "      <td>5000.000000</td>\n",
       "    </tr>\n",
       "    <tr>\n",
       "      <th>VAL_FREQ</th>\n",
       "      <td>154.0</td>\n",
       "      <td>4.000000</td>\n",
       "      <td>0.000000</td>\n",
       "      <td>4.000000</td>\n",
       "      <td>4.000000</td>\n",
       "      <td>4.000000</td>\n",
       "      <td>4.000000</td>\n",
       "      <td>4.000000</td>\n",
       "    </tr>\n",
       "    <tr>\n",
       "      <th>EARLY_STOP_LOOKBACK</th>\n",
       "      <td>154.0</td>\n",
       "      <td>4.000000</td>\n",
       "      <td>0.000000</td>\n",
       "      <td>4.000000</td>\n",
       "      <td>4.000000</td>\n",
       "      <td>4.000000</td>\n",
       "      <td>4.000000</td>\n",
       "      <td>4.000000</td>\n",
       "    </tr>\n",
       "    <tr>\n",
       "      <th>EARLY_STOP_MIN_IMPROVE</th>\n",
       "      <td>154.0</td>\n",
       "      <td>0.010000</td>\n",
       "      <td>0.000000</td>\n",
       "      <td>0.010000</td>\n",
       "      <td>0.010000</td>\n",
       "      <td>0.010000</td>\n",
       "      <td>0.010000</td>\n",
       "      <td>0.010000</td>\n",
       "    </tr>\n",
       "  </tbody>\n",
       "</table>\n",
       "</div>"
      ],
      "text/plain": [
       "                        count          mean           std           min  \\\n",
       "final_val_acc           154.0     88.570000      0.457308     86.940000   \n",
       "total_data_iterated     154.0  45676.051948   5192.138955  32288.000000   \n",
       "pct_unk_train           154.0      0.396923      0.038289      0.349763   \n",
       "pct_unk_val             154.0      0.415096      0.031162      0.379440   \n",
       "LR                      154.0      0.010000      0.000000      0.010000   \n",
       "NEPOCH                  154.0     10.000000      0.000000     10.000000   \n",
       "BATCH_SIZE              154.0     32.000000      0.000000     32.000000   \n",
       "NGRAM_SIZE              154.0      2.000000      0.000000      2.000000   \n",
       "VOC_SIZE                154.0  70000.000000  31725.950698  20000.000000   \n",
       "EMBEDDING_DIM           154.0    375.000000    202.214052     50.000000   \n",
       "VAL_SIZE                154.0   5000.000000      0.000000   5000.000000   \n",
       "VAL_FREQ                154.0      4.000000      0.000000      4.000000   \n",
       "EARLY_STOP_LOOKBACK     154.0      4.000000      0.000000      4.000000   \n",
       "EARLY_STOP_MIN_IMPROVE  154.0      0.010000      0.000000      0.010000   \n",
       "\n",
       "                                 25%           50%            75%  \\\n",
       "final_val_acc              88.320000     88.600000      88.820000   \n",
       "total_data_iterated     44096.000000  44096.000000   48192.000000   \n",
       "pct_unk_train               0.363126      0.387804       0.426857   \n",
       "pct_unk_val                 0.388387      0.406038       0.438027   \n",
       "LR                          0.010000      0.010000       0.010000   \n",
       "NEPOCH                     10.000000     10.000000      10.000000   \n",
       "BATCH_SIZE                 32.000000     32.000000      32.000000   \n",
       "NGRAM_SIZE                  2.000000      2.000000       2.000000   \n",
       "VOC_SIZE                40000.000000  70000.000000  100000.000000   \n",
       "EMBEDDING_DIM             200.000000    375.000000     550.000000   \n",
       "VAL_SIZE                 5000.000000   5000.000000    5000.000000   \n",
       "VAL_FREQ                    4.000000      4.000000       4.000000   \n",
       "EARLY_STOP_LOOKBACK         4.000000      4.000000       4.000000   \n",
       "EARLY_STOP_MIN_IMPROVE      0.010000      0.010000       0.010000   \n",
       "\n",
       "                                  max  \n",
       "final_val_acc               89.680000  \n",
       "total_data_iterated      68192.000000  \n",
       "pct_unk_train                0.476073  \n",
       "pct_unk_val                  0.482561  \n",
       "LR                           0.010000  \n",
       "NEPOCH                      10.000000  \n",
       "BATCH_SIZE                  32.000000  \n",
       "NGRAM_SIZE                   2.000000  \n",
       "VOC_SIZE                120000.000000  \n",
       "EMBEDDING_DIM              700.000000  \n",
       "VAL_SIZE                  5000.000000  \n",
       "VAL_FREQ                     4.000000  \n",
       "EARLY_STOP_LOOKBACK          4.000000  \n",
       "EARLY_STOP_MIN_IMPROVE       0.010000  "
      ]
     },
     "execution_count": 99,
     "metadata": {},
     "output_type": "execute_result"
    }
   ],
   "source": [
    "df.describe().T"
   ]
  },
  {
   "cell_type": "code",
   "execution_count": 100,
   "metadata": {},
   "outputs": [
    {
     "data": {
      "image/png": "[encoded data removed]",
      "text/plain": [
       "<Figure size 432x288 with 1 Axes>"
      ]
     },
     "metadata": {
      "needs_background": "light"
     },
     "output_type": "display_data"
    }
   ],
   "source": [
    "# do pct unk tokens affect the final accuracy?\n",
    "plt.scatter(df['pct_unk_train'], df['final_val_acc'])\n",
    "plt.show()"
   ]
  },
  {
   "cell_type": "code",
   "execution_count": 101,
   "metadata": {
    "scrolled": true
   },
   "outputs": [
    {
     "data": {
      "text/plain": [
       "array([ 20000,  30000,  40000,  50000,  60000,  70000,  80000,  90000,\n",
       "       100000, 110000, 120000])"
      ]
     },
     "execution_count": 101,
     "metadata": {},
     "output_type": "execute_result"
    }
   ],
   "source": [
    "df['VOC_SIZE'].unique()"
   ]
  },
  {
   "cell_type": "code",
   "execution_count": 104,
   "metadata": {},
   "outputs": [
    {
     "data": {
      "image/png": "[encoded data removed]",
      "text/plain": [
       "<Figure size 432x288 with 1 Axes>"
      ]
     },
     "metadata": {
      "needs_background": "light"
     },
     "output_type": "display_data"
    }
   ],
   "source": [
    "for voc_size in df['VOC_SIZE'].unique():\n",
    "    sub_df = df[df['VOC_SIZE'] == voc_size]\n",
    "    plt.plot(sub_df['EMBEDDING_DIM'], sub_df['final_val_acc'],label=voc_size, alpha=0.5)\n",
    "plt.legend(bbox_to_anchor=(1.1, 1.05))\n",
    "plt.show()"
   ]
  },
  {
   "cell_type": "code",
   "execution_count": 71,
   "metadata": {
    "scrolled": true
   },
   "outputs": [
    {
     "data": {
      "image/png": "[encoded data removed]",
      "text/plain": [
       "<Figure size 432x288 with 1 Axes>"
      ]
     },
     "metadata": {
      "needs_background": "light"
     },
     "output_type": "display_data"
    }
   ],
   "source": [
    "# strangly, the embedding dimension looks like it negatively affects the final acc\n",
    "plt.scatter(df['EMBEDDING_DIM'], df['final_val_acc'])\n",
    "plt.show()"
   ]
  },
  {
   "cell_type": "markdown",
   "metadata": {},
   "source": [
    "### LR Decay"
   ]
  },
  {
   "cell_type": "code",
   "execution_count": 88,
   "metadata": {},
   "outputs": [
    {
     "data": {
      "text/html": [
       "<div>\n",
       "<style scoped>\n",
       "    .dataframe tbody tr th:only-of-type {\n",
       "        vertical-align: middle;\n",
       "    }\n",
       "\n",
       "    .dataframe tbody tr th {\n",
       "        vertical-align: top;\n",
       "    }\n",
       "\n",
       "    .dataframe thead th {\n",
       "        text-align: right;\n",
       "    }\n",
       "</style>\n",
       "<table border=\"1\" class=\"dataframe\">\n",
       "  <thead>\n",
       "    <tr style=\"text-align: right;\">\n",
       "      <th></th>\n",
       "      <th>initial_val_acc</th>\n",
       "      <th>epoch1_val_acc</th>\n",
       "      <th>epoch2_val_acc</th>\n",
       "      <th>epoch3_val_acc</th>\n",
       "      <th>final_val_acc</th>\n",
       "      <th>training_time</th>\n",
       "      <th>total_data_iterated</th>\n",
       "      <th>early_stopped</th>\n",
       "      <th>pct_unk_train</th>\n",
       "      <th>pct_unk_val</th>\n",
       "      <th>...</th>\n",
       "      <th>EMBEDDING_DIM</th>\n",
       "      <th>NGRAM_MODE</th>\n",
       "      <th>VAL_SIZE</th>\n",
       "      <th>OPTIMIZER</th>\n",
       "      <th>VAL_FREQ</th>\n",
       "      <th>REMOVE_STOP_WORDS</th>\n",
       "      <th>REMOVE_PUNC</th>\n",
       "      <th>EARLY_STOP</th>\n",
       "      <th>EARLY_STOP_LOOKBACK</th>\n",
       "      <th>EARLY_STOP_MIN_IMPROVE</th>\n",
       "    </tr>\n",
       "  </thead>\n",
       "  <tbody>\n",
       "    <tr>\n",
       "      <th>0</th>\n",
       "      <td></td>\n",
       "      <td>83.80</td>\n",
       "      <td>84.96</td>\n",
       "      <td>85.90</td>\n",
       "      <td>86.32</td>\n",
       "      <td>201.88</td>\n",
       "      <td>208192</td>\n",
       "      <td>True</td>\n",
       "      <td>0.363126</td>\n",
       "      <td>0.388387</td>\n",
       "      <td>...</td>\n",
       "      <td>50</td>\n",
       "      <td>spacy</td>\n",
       "      <td>5000</td>\n",
       "      <td>&lt;class 'torch.optim.adam.Adam'&gt;</td>\n",
       "      <td>4</td>\n",
       "      <td>True</td>\n",
       "      <td>True</td>\n",
       "      <td>True</td>\n",
       "      <td>8</td>\n",
       "      <td>0.01</td>\n",
       "    </tr>\n",
       "    <tr>\n",
       "      <th>1</th>\n",
       "      <td></td>\n",
       "      <td>84.24</td>\n",
       "      <td>85.78</td>\n",
       "      <td>86.58</td>\n",
       "      <td>87.38</td>\n",
       "      <td>199.52</td>\n",
       "      <td>188192</td>\n",
       "      <td>True</td>\n",
       "      <td>0.363126</td>\n",
       "      <td>0.388387</td>\n",
       "      <td>...</td>\n",
       "      <td>50</td>\n",
       "      <td>spacy</td>\n",
       "      <td>5000</td>\n",
       "      <td>&lt;class 'torch.optim.adam.Adam'&gt;</td>\n",
       "      <td>4</td>\n",
       "      <td>True</td>\n",
       "      <td>True</td>\n",
       "      <td>True</td>\n",
       "      <td>8</td>\n",
       "      <td>0.01</td>\n",
       "    </tr>\n",
       "    <tr>\n",
       "      <th>2</th>\n",
       "      <td></td>\n",
       "      <td>84.24</td>\n",
       "      <td>85.56</td>\n",
       "      <td>86.06</td>\n",
       "      <td>87.42</td>\n",
       "      <td>270.52</td>\n",
       "      <td>284096</td>\n",
       "      <td>True</td>\n",
       "      <td>0.363126</td>\n",
       "      <td>0.388387</td>\n",
       "      <td>...</td>\n",
       "      <td>50</td>\n",
       "      <td>spacy</td>\n",
       "      <td>5000</td>\n",
       "      <td>&lt;class 'torch.optim.adam.Adam'&gt;</td>\n",
       "      <td>4</td>\n",
       "      <td>True</td>\n",
       "      <td>True</td>\n",
       "      <td>True</td>\n",
       "      <td>8</td>\n",
       "      <td>0.01</td>\n",
       "    </tr>\n",
       "    <tr>\n",
       "      <th>3</th>\n",
       "      <td></td>\n",
       "      <td>84.78</td>\n",
       "      <td>86.10</td>\n",
       "      <td>87.02</td>\n",
       "      <td>88.38</td>\n",
       "      <td>302.57</td>\n",
       "      <td>304096</td>\n",
       "      <td>True</td>\n",
       "      <td>0.363126</td>\n",
       "      <td>0.388387</td>\n",
       "      <td>...</td>\n",
       "      <td>50</td>\n",
       "      <td>spacy</td>\n",
       "      <td>5000</td>\n",
       "      <td>&lt;class 'torch.optim.adam.Adam'&gt;</td>\n",
       "      <td>4</td>\n",
       "      <td>True</td>\n",
       "      <td>True</td>\n",
       "      <td>True</td>\n",
       "      <td>8</td>\n",
       "      <td>0.01</td>\n",
       "    </tr>\n",
       "    <tr>\n",
       "      <th>4</th>\n",
       "      <td></td>\n",
       "      <td>83.88</td>\n",
       "      <td>85.86</td>\n",
       "      <td>86.82</td>\n",
       "      <td>88.70</td>\n",
       "      <td>276.38</td>\n",
       "      <td>288192</td>\n",
       "      <td>True</td>\n",
       "      <td>0.363126</td>\n",
       "      <td>0.388387</td>\n",
       "      <td>...</td>\n",
       "      <td>50</td>\n",
       "      <td>spacy</td>\n",
       "      <td>5000</td>\n",
       "      <td>&lt;class 'torch.optim.adam.Adam'&gt;</td>\n",
       "      <td>4</td>\n",
       "      <td>True</td>\n",
       "      <td>True</td>\n",
       "      <td>True</td>\n",
       "      <td>8</td>\n",
       "      <td>0.01</td>\n",
       "    </tr>\n",
       "  </tbody>\n",
       "</table>\n",
       "<p>5 rows × 26 columns</p>\n",
       "</div>"
      ],
      "text/plain": [
       "  initial_val_acc  epoch1_val_acc  epoch2_val_acc  epoch3_val_acc  \\\n",
       "0                           83.80           84.96           85.90   \n",
       "1                           84.24           85.78           86.58   \n",
       "2                           84.24           85.56           86.06   \n",
       "3                           84.78           86.10           87.02   \n",
       "4                           83.88           85.86           86.82   \n",
       "\n",
       "   final_val_acc training_time  total_data_iterated early_stopped  \\\n",
       "0          86.32        201.88               208192          True   \n",
       "1          87.38        199.52               188192          True   \n",
       "2          87.42        270.52               284096          True   \n",
       "3          88.38        302.57               304096          True   \n",
       "4          88.70        276.38               288192          True   \n",
       "\n",
       "   pct_unk_train  pct_unk_val          ...            EMBEDDING_DIM  \\\n",
       "0       0.363126     0.388387          ...                       50   \n",
       "1       0.363126     0.388387          ...                       50   \n",
       "2       0.363126     0.388387          ...                       50   \n",
       "3       0.363126     0.388387          ...                       50   \n",
       "4       0.363126     0.388387          ...                       50   \n",
       "\n",
       "   NGRAM_MODE  VAL_SIZE                        OPTIMIZER  VAL_FREQ  \\\n",
       "0       spacy      5000  <class 'torch.optim.adam.Adam'>         4   \n",
       "1       spacy      5000  <class 'torch.optim.adam.Adam'>         4   \n",
       "2       spacy      5000  <class 'torch.optim.adam.Adam'>         4   \n",
       "3       spacy      5000  <class 'torch.optim.adam.Adam'>         4   \n",
       "4       spacy      5000  <class 'torch.optim.adam.Adam'>         4   \n",
       "\n",
       "   REMOVE_STOP_WORDS  REMOVE_PUNC EARLY_STOP  EARLY_STOP_LOOKBACK  \\\n",
       "0               True         True       True                    8   \n",
       "1               True         True       True                    8   \n",
       "2               True         True       True                    8   \n",
       "3               True         True       True                    8   \n",
       "4               True         True       True                    8   \n",
       "\n",
       "  EARLY_STOP_MIN_IMPROVE  \n",
       "0                   0.01  \n",
       "1                   0.01  \n",
       "2                   0.01  \n",
       "3                   0.01  \n",
       "4                   0.01  \n",
       "\n",
       "[5 rows x 26 columns]"
      ]
     },
     "metadata": {},
     "output_type": "display_data"
    },
    {
     "name": "stdout",
     "output_type": "stream",
     "text": [
      "(9, 26)\n"
     ]
    }
   ],
   "source": [
    "fp = r'./results/lr_decay_small_lr.p'\n",
    "df = pkl.load(open(fp, 'rb')).reset_index(drop=True)\n",
    "display(df.head())\n",
    "print(df.shape)"
   ]
  },
  {
   "cell_type": "code",
   "execution_count": 89,
   "metadata": {},
   "outputs": [
    {
     "data": {
      "image/png": "[encoded data removed]",
      "text/plain": [
       "<Figure size 432x288 with 1 Axes>"
      ]
     },
     "metadata": {
      "needs_background": "light"
     },
     "output_type": "display_data"
    }
   ],
   "source": [
    "plt.scatter(df['LR_DECAY_RATE'], df['final_val_acc'])\n",
    "plt.show()"
   ]
  },
  {
   "cell_type": "code",
   "execution_count": 90,
   "metadata": {},
   "outputs": [],
   "source": [
    "import ModelManager as mm_mod"
   ]
  },
  {
   "cell_type": "code",
   "execution_count": 91,
   "metadata": {},
   "outputs": [
    {
     "name": "stdout",
     "output_type": "stream",
     "text": [
      "2018-10-07 00:19:37,332 __main__     INFO     initialized model with hyperparametrs:\n",
      "2018-10-07 00:19:37,337 __main__     INFO     LR: 0.01\n",
      "2018-10-07 00:19:37,338 __main__     INFO     LR_DECAY_RATE: 0.95\n",
      "2018-10-07 00:19:37,338 __main__     INFO     NEPOCH: 10\n",
      "2018-10-07 00:19:37,339 __main__     INFO     BATCH_SIZE: 32\n",
      "2018-10-07 00:19:37,342 __main__     INFO     NGRAM_SIZE: 2\n",
      "2018-10-07 00:19:37,343 __main__     INFO     VOC_SIZE: 100000\n",
      "2018-10-07 00:19:37,343 __main__     INFO     EMBEDDING_DIM: 50\n",
      "2018-10-07 00:19:37,349 __main__     INFO     NGRAM_MODE: spacy\n",
      "2018-10-07 00:19:37,349 __main__     INFO     VAL_SIZE: 5000\n",
      "2018-10-07 00:19:37,350 __main__     INFO     OPTIMIZER: <class 'torch.optim.adam.Adam'>\n",
      "2018-10-07 00:19:37,350 __main__     INFO     VAL_FREQ: 4\n",
      "2018-10-07 00:19:37,351 __main__     INFO     REMOVE_STOP_WORDS: True\n",
      "2018-10-07 00:19:37,351 __main__     INFO     REMOVE_PUNC: True\n",
      "2018-10-07 00:19:37,352 __main__     INFO     EARLY_STOP: True\n",
      "2018-10-07 00:19:37,357 __main__     INFO     EARLY_STOP_LOOKBACK: 8\n",
      "2018-10-07 00:19:37,358 __main__     INFO     EARLY_STOP_MIN_IMPROVE: 0.01\n",
      "2018-10-07 00:19:37,358 __main__     INFO     allow pickle loads: True, allow pickle saves: True\n"
     ]
    }
   ],
   "source": [
    "mm = mm_mod.ModelManager()"
   ]
  },
  {
   "cell_type": "code",
   "execution_count": 96,
   "metadata": {},
   "outputs": [
    {
     "name": "stdout",
     "output_type": "stream",
     "text": [
      "2018-10-07 00:21:16,032 __main__     INFO     looking for the following file paths: ./data/pickles/trainval_spacy_2_True_True.p\n",
      "./data/pickles/test_spacy_2_True_True.p\n",
      "./data/pickles/idx_spacy_2_True_True_5000_100000.p\n",
      "2018-10-07 00:21:16,037 __main__     INFO     found pickle files in ./data/pickles/, loading them instead of rebuilding ... \n",
      "2018-10-07 00:21:19,965 __main__     INFO     found pickle files for indexer in ./data/pickles/, loading them ... \n",
      "2018-10-07 00:21:20,009 __main__     INFO     setting each dataset's token indexes\n",
      "2018-10-07 00:21:21,735 __main__     INFO     setting each dataset's token indexes\n"
     ]
    }
   ],
   "source": [
    "mm.load_data()\n",
    "mm.data_to_pipe()\n",
    "mm.model_init()"
   ]
  },
  {
   "cell_type": "code",
   "execution_count": 97,
   "metadata": {},
   "outputs": [
    {
     "data": {
      "text/plain": [
       "OrderedDict([('embed.weight',\n",
       "              tensor([[ 0.0000,  0.0000,  0.0000,  ...,  0.0000,  0.0000,  0.0000],\n",
       "                      [-0.1139,  1.0433,  0.5032,  ...,  0.7082, -0.4052, -1.7000],\n",
       "                      [-0.0625,  1.1044, -0.6694,  ..., -0.2055,  0.0634, -0.0198],\n",
       "                      ...,\n",
       "                      [ 1.4835, -0.5746, -0.9692,  ...,  1.1304, -0.7604,  1.1089],\n",
       "                      [ 1.6660,  0.6565,  1.8684,  ..., -0.5731,  0.8041,  1.3677],\n",
       "                      [ 0.8369, -0.4933, -1.2257,  ...,  0.8787,  0.1571,  0.8935]])),\n",
       "             ('linear.weight',\n",
       "              tensor([[ 0.0071, -0.0984, -0.1144,  0.1145,  0.0889,  0.0037,  0.0864, -0.0384,\n",
       "                       -0.0299,  0.0184,  0.0881,  0.0618, -0.0427,  0.1100, -0.0113,  0.0220,\n",
       "                       -0.0794,  0.0109, -0.0874, -0.0456,  0.0434,  0.0546, -0.0598, -0.0946,\n",
       "                       -0.0645, -0.0243,  0.0038,  0.0660,  0.1077,  0.0701,  0.0857, -0.0768,\n",
       "                        0.1233, -0.1123, -0.0002,  0.1096, -0.0075, -0.0174,  0.0406, -0.0923,\n",
       "                        0.0623, -0.0655, -0.1352, -0.0275, -0.0152, -0.0840, -0.1244, -0.0081,\n",
       "                       -0.1087,  0.0510],\n",
       "                      [ 0.0151, -0.0194, -0.0412,  0.1092,  0.0688,  0.0870,  0.0144, -0.0028,\n",
       "                        0.0858, -0.1334,  0.0931,  0.0481, -0.0281, -0.0351, -0.0044,  0.0914,\n",
       "                        0.0899, -0.1388,  0.0758,  0.0045,  0.0508,  0.0902,  0.1068, -0.0901,\n",
       "                        0.1203,  0.0089,  0.0772,  0.0642, -0.0362, -0.1410, -0.0557,  0.0183,\n",
       "                        0.0451,  0.1066,  0.0265,  0.0535, -0.0692,  0.1063,  0.0981, -0.0760,\n",
       "                       -0.0725, -0.0021,  0.0208, -0.0392, -0.1267, -0.1214, -0.1142,  0.0724,\n",
       "                       -0.1263, -0.1338]])),\n",
       "             ('linear.bias', tensor([ 0.1271, -0.0634]))])"
      ]
     },
     "execution_count": 97,
     "metadata": {},
     "output_type": "execute_result"
    }
   ],
   "source": [
    "mm.model.state_dict()"
   ]
  },
  {
   "cell_type": "code",
   "execution_count": null,
   "metadata": {},
   "outputs": [],
   "source": []
  }
 ],
 "metadata": {
  "kernelspec": {
   "display_name": "Python 3",
   "language": "python",
   "name": "python3"
  },
  "language_info": {
   "codemirror_mode": {
    "name": "ipython",
    "version": 3
   },
   "file_extension": ".py",
   "mimetype": "text/x-python",
   "name": "python",
   "nbconvert_exporter": "python",
   "pygments_lexer": "ipython3",
   "version": "3.6.6"
  }
 },
 "nbformat": 4,
 "nbformat_minor": 2
}
