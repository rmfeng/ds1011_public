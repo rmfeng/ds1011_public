{
 "cells": [
  {
   "cell_type": "code",
   "execution_count": 1,
   "metadata": {},
   "outputs": [],
   "source": [
    "import ModelManager as mm_mod\n",
    "import config_defaults as cd\n",
    "from importlib import reload\n",
    "import numpy as np\n",
    "import matplotlib.pyplot as plt\n",
    "\n",
    "%matplotlib inline\n",
    "%load_ext autotime"
   ]
  },
  {
   "cell_type": "markdown",
   "metadata": {},
   "source": [
    "### Initializing the Model and Data pipes"
   ]
  },
  {
   "cell_type": "code",
   "execution_count": 23,
   "metadata": {
    "scrolled": false
   },
   "outputs": [
    {
     "name": "stdout",
     "output_type": "stream",
     "text": [
      "2018-09-30 19:40:34,388 root         INFO     initialized model with hyperparametrs:\n",
      "2018-09-30 19:40:34,389 root         INFO     LR: 0.01\n",
      "2018-09-30 19:40:34,389 root         INFO     NEPOCH: 10\n",
      "2018-09-30 19:40:34,389 root         INFO     BATCH_SIZE: 32\n",
      "2018-09-30 19:40:34,390 root         INFO     NGRAM_SIZE: 2\n",
      "2018-09-30 19:40:34,391 root         INFO     VOC_SIZE: 10000\n",
      "2018-09-30 19:40:34,391 root         INFO     EMBEDDING_DIM: 100\n",
      "2018-09-30 19:40:34,391 root         INFO     NGRAM_MODE: spacy\n",
      "2018-09-30 19:40:34,392 root         INFO     VAL_SIZE: 5000\n",
      "2018-09-30 19:40:34,392 root         INFO     OPTIMIZER: <class 'torch.optim.adam.Adam'>\n",
      "2018-09-30 19:40:34,393 root         INFO     VAL_FREQ: 4\n",
      "2018-09-30 19:40:34,393 root         INFO     REMOVE_STOP_WORDS: True\n",
      "2018-09-30 19:40:34,393 root         INFO     REMOVE_PUNC: True\n",
      "2018-09-30 19:40:34,394 root         INFO     EARLY_STOP: True\n",
      "2018-09-30 19:40:34,394 root         INFO     EARLY_STOP_LOOKBACK: 2\n",
      "2018-09-30 19:40:34,394 root         INFO     EARLY_STOP_MIN_IMPROVE: 0.01\n",
      "2018-09-30 19:40:34,395 root         INFO     allow pickle loads: True, allow pickle saves: True\n",
      "time: 10.5 ms\n"
     ]
    }
   ],
   "source": [
    "reload(mm_mod)\n",
    "reload(cd)\n",
    "param_overrides = {'NGRAM_MODE': 'spacy'}\n",
    "mm = mm_mod.ModelManager(hparams=param_overrides)\n",
    "# mm = mm_mod.ModelManager(hparams=None)"
   ]
  },
  {
   "cell_type": "markdown",
   "metadata": {},
   "source": [
    "### Comparing SpaCy to Naive"
   ]
  },
  {
   "cell_type": "code",
   "execution_count": 25,
   "metadata": {},
   "outputs": [
    {
     "name": "stdout",
     "output_type": "stream",
     "text": [
      "2018-09-30 19:40:35,970 root         INFO     found pickle files in ./data/pickles/, loading them instead of rebuilding ... \n",
      "2018-09-30 19:40:39,113 root         INFO     constructing ngram_indexer ...\n",
      "2018-09-30 19:40:39,118 root         INFO     indexer length 20000\n"
     ]
    },
    {
     "data": {
      "application/vnd.jupyter.widget-view+json": {
       "model_id": "05a94f26b61841979d491f26d474100d",
       "version_major": 2,
       "version_minor": 0
      },
      "text/plain": [
       "HBox(children=(IntProgress(value=0, max=20000), HTML(value='')))"
      ]
     },
     "metadata": {},
     "output_type": "display_data"
    },
    {
     "name": "stdout",
     "output_type": "stream",
     "text": [
      "\n"
     ]
    },
    {
     "data": {
      "application/vnd.jupyter.widget-view+json": {
       "model_id": "9d2e61e0850c4f3eae7a0f7a464fb1c1",
       "version_major": 2,
       "version_minor": 0
      },
      "text/plain": [
       "HBox(children=(IntProgress(value=0, max=10000), HTML(value='')))"
      ]
     },
     "metadata": {},
     "output_type": "display_data"
    },
    {
     "name": "stdout",
     "output_type": "stream",
     "text": [
      "\n",
      "2018-09-30 19:40:41,193 root         INFO     setting each dataset's token indexes\n"
     ]
    },
    {
     "data": {
      "application/vnd.jupyter.widget-view+json": {
       "model_id": "4d7a1ea5b9864c0bb0ae5b9df212d11e",
       "version_major": 2,
       "version_minor": 0
      },
      "text/plain": [
       "HBox(children=(IntProgress(value=0, description='token to index', max=25000), HTML(value='')))"
      ]
     },
     "metadata": {},
     "output_type": "display_data"
    },
    {
     "name": "stdout",
     "output_type": "stream",
     "text": [
      "\n",
      "2018-09-30 19:40:41,809 root         INFO     setting each dataset's token indexes\n"
     ]
    },
    {
     "data": {
      "application/vnd.jupyter.widget-view+json": {
       "model_id": "ed5cc5c575a34714952d3e9bbd92ce0d",
       "version_major": 2,
       "version_minor": 0
      },
      "text/plain": [
       "HBox(children=(IntProgress(value=0, description='token to index', max=25000), HTML(value='')))"
      ]
     },
     "metadata": {},
     "output_type": "display_data"
    },
    {
     "name": "stdout",
     "output_type": "stream",
     "text": [
      "\n",
      "time: 6.79 s\n"
     ]
    }
   ],
   "source": [
    "mm.load_data()\n",
    "mm.data_to_pipe()"
   ]
  },
  {
   "cell_type": "markdown",
   "metadata": {},
   "source": [
    "### Trying to find a good LR"
   ]
  },
  {
   "cell_type": "code",
   "execution_count": 26,
   "metadata": {},
   "outputs": [
    {
     "name": "stdout",
     "output_type": "stream",
     "text": [
      "[1.e-05 1.e-04 1.e-03 1.e-02 1.e-01 1.e+00 1.e+01 1.e+02]\n",
      "time: 1.51 ms\n"
     ]
    }
   ],
   "source": [
    "lr_list_exp_neg = np.arange(1,6)\n",
    "lr_list_neg = 1 / np.power(10, lr_list_exp_neg)\n",
    "lr_list_exp_pos = np.arange(0,3)\n",
    "lr_list_pos = np.power(10, lr_list_exp_pos)\n",
    "\n",
    "lr_list = np.append(lr_list_neg, lr_list_pos)\n",
    "lr_list.sort()\n",
    "print(lr_list)"
   ]
  },
  {
   "cell_type": "code",
   "execution_count": 27,
   "metadata": {
    "scrolled": true
   },
   "outputs": [
    {
     "data": {
      "application/vnd.jupyter.widget-view+json": {
       "model_id": "e8a4abd822194b34b9987d7b19aac0d4",
       "version_major": 2,
       "version_minor": 0
      },
      "text/plain": [
       "HBox(children=(IntProgress(value=0, description='Epochs', max=1), HTML(value='')))"
      ]
     },
     "metadata": {},
     "output_type": "display_data"
    },
    {
     "data": {
      "application/vnd.jupyter.widget-view+json": {
       "model_id": "f57f699ea6654ba590be372bb14271e6",
       "version_major": 2,
       "version_minor": 0
      },
      "text/plain": [
       "HBox(children=(IntProgress(value=0, max=625), HTML(value='')))"
      ]
     },
     "metadata": {},
     "output_type": "display_data"
    },
    {
     "name": "stdout",
     "output_type": "stream",
     "text": [
      "2018-09-30 19:40:50,475 root         INFO     Epoch: [1/10], Step: [128/625], Validation Acc: 54.48\n",
      "2018-09-30 19:40:51,314 root         INFO     Epoch: [1/10], Step: [256/625], Validation Acc: 54.8\n",
      "2018-09-30 19:40:52,145 root         INFO     Epoch: [1/10], Step: [384/625], Validation Acc: 54.94\n",
      "2018-09-30 19:40:52,973 root         INFO     Epoch: [1/10], Step: [512/625], Validation Acc: 54.98\n",
      "\n",
      "2018-09-30 19:40:53,463 root         INFO     generating new pandas dataframe to store results\n"
     ]
    },
    {
     "data": {
      "application/vnd.jupyter.widget-view+json": {
       "model_id": "58726098c8a34ba881625d37e2aa83ef",
       "version_major": 2,
       "version_minor": 0
      },
      "text/plain": [
       "HBox(children=(IntProgress(value=0, description='Epochs', max=1), HTML(value='')))"
      ]
     },
     "metadata": {},
     "output_type": "display_data"
    },
    {
     "data": {
      "application/vnd.jupyter.widget-view+json": {
       "model_id": "be41d0a494c7422c9e919bef0c26aeb0",
       "version_major": 2,
       "version_minor": 0
      },
      "text/plain": [
       "HBox(children=(IntProgress(value=0, max=625), HTML(value='')))"
      ]
     },
     "metadata": {},
     "output_type": "display_data"
    },
    {
     "name": "stdout",
     "output_type": "stream",
     "text": [
      "2018-09-30 19:40:55,254 root         INFO     Epoch: [1/10], Step: [128/625], Validation Acc: 50.18\n",
      "2018-09-30 19:40:56,089 root         INFO     Epoch: [1/10], Step: [256/625], Validation Acc: 54.64\n",
      "2018-09-30 19:40:56,921 root         INFO     Epoch: [1/10], Step: [384/625], Validation Acc: 56.3\n",
      "2018-09-30 19:40:57,764 root         INFO     Epoch: [1/10], Step: [512/625], Validation Acc: 58.92\n",
      "\n",
      "2018-09-30 19:40:58,258 root         INFO     appending new results to existing dataframe\n"
     ]
    },
    {
     "data": {
      "application/vnd.jupyter.widget-view+json": {
       "model_id": "a767eb9ab328409f8df8a2e9f30465fe",
       "version_major": 2,
       "version_minor": 0
      },
      "text/plain": [
       "HBox(children=(IntProgress(value=0, description='Epochs', max=1), HTML(value='')))"
      ]
     },
     "metadata": {},
     "output_type": "display_data"
    },
    {
     "data": {
      "application/vnd.jupyter.widget-view+json": {
       "model_id": "e0073f7d6e6e42fcaaddf7a9b93156f2",
       "version_major": 2,
       "version_minor": 0
      },
      "text/plain": [
       "HBox(children=(IntProgress(value=0, max=625), HTML(value='')))"
      ]
     },
     "metadata": {},
     "output_type": "display_data"
    },
    {
     "name": "stdout",
     "output_type": "stream",
     "text": [
      "2018-09-30 19:40:59,992 root         INFO     Epoch: [1/10], Step: [128/625], Validation Acc: 60.9\n",
      "2018-09-30 19:41:00,810 root         INFO     Epoch: [1/10], Step: [256/625], Validation Acc: 64.16\n",
      "2018-09-30 19:41:01,636 root         INFO     Epoch: [1/10], Step: [384/625], Validation Acc: 71.54\n",
      "2018-09-30 19:41:02,459 root         INFO     Epoch: [1/10], Step: [512/625], Validation Acc: 72.38\n",
      "\n",
      "2018-09-30 19:41:02,942 root         INFO     appending new results to existing dataframe\n"
     ]
    },
    {
     "data": {
      "application/vnd.jupyter.widget-view+json": {
       "model_id": "eef948dcda134b3f92431e61375d325e",
       "version_major": 2,
       "version_minor": 0
      },
      "text/plain": [
       "HBox(children=(IntProgress(value=0, description='Epochs', max=1), HTML(value='')))"
      ]
     },
     "metadata": {},
     "output_type": "display_data"
    },
    {
     "data": {
      "application/vnd.jupyter.widget-view+json": {
       "model_id": "7c8959d1fb194101a42b01380b513a26",
       "version_major": 2,
       "version_minor": 0
      },
      "text/plain": [
       "HBox(children=(IntProgress(value=0, max=625), HTML(value='')))"
      ]
     },
     "metadata": {},
     "output_type": "display_data"
    },
    {
     "name": "stdout",
     "output_type": "stream",
     "text": [
      "2018-09-30 19:41:04,772 root         INFO     Epoch: [1/10], Step: [128/625], Validation Acc: 82.78\n",
      "2018-09-30 19:41:05,604 root         INFO     Epoch: [1/10], Step: [256/625], Validation Acc: 86.24\n",
      "2018-09-30 19:41:06,426 root         INFO     Epoch: [1/10], Step: [384/625], Validation Acc: 86.7\n",
      "2018-09-30 19:41:07,320 root         INFO     Epoch: [1/10], Step: [512/625], Validation Acc: 86.78\n",
      "\n",
      "2018-09-30 19:41:07,842 root         INFO     appending new results to existing dataframe\n"
     ]
    },
    {
     "data": {
      "application/vnd.jupyter.widget-view+json": {
       "model_id": "baef4aec62ef49bbb8e747905accd8c7",
       "version_major": 2,
       "version_minor": 0
      },
      "text/plain": [
       "HBox(children=(IntProgress(value=0, description='Epochs', max=1), HTML(value='')))"
      ]
     },
     "metadata": {},
     "output_type": "display_data"
    },
    {
     "data": {
      "application/vnd.jupyter.widget-view+json": {
       "model_id": "317384836dac49f381310efa576f813e",
       "version_major": 2,
       "version_minor": 0
      },
      "text/plain": [
       "HBox(children=(IntProgress(value=0, max=625), HTML(value='')))"
      ]
     },
     "metadata": {},
     "output_type": "display_data"
    },
    {
     "name": "stdout",
     "output_type": "stream",
     "text": [
      "2018-09-30 19:41:09,664 root         INFO     Epoch: [1/10], Step: [128/625], Validation Acc: 84.32\n",
      "2018-09-30 19:41:10,491 root         INFO     Epoch: [1/10], Step: [256/625], Validation Acc: 85.34\n",
      "2018-09-30 19:41:11,355 root         INFO     Epoch: [1/10], Step: [384/625], Validation Acc: 86.76\n",
      "2018-09-30 19:41:12,243 root         INFO     Epoch: [1/10], Step: [512/625], Validation Acc: 87.4\n",
      "\n",
      "2018-09-30 19:41:12,752 root         INFO     appending new results to existing dataframe\n"
     ]
    },
    {
     "data": {
      "application/vnd.jupyter.widget-view+json": {
       "model_id": "06a1f9c8525b487ca5168798836124ec",
       "version_major": 2,
       "version_minor": 0
      },
      "text/plain": [
       "HBox(children=(IntProgress(value=0, description='Epochs', max=1), HTML(value='')))"
      ]
     },
     "metadata": {},
     "output_type": "display_data"
    },
    {
     "data": {
      "application/vnd.jupyter.widget-view+json": {
       "model_id": "e31dcd1f2f284b2ca04977c6d9ddbd52",
       "version_major": 2,
       "version_minor": 0
      },
      "text/plain": [
       "HBox(children=(IntProgress(value=0, max=625), HTML(value='')))"
      ]
     },
     "metadata": {},
     "output_type": "display_data"
    },
    {
     "name": "stdout",
     "output_type": "stream",
     "text": [
      "2018-09-30 19:41:14,510 root         INFO     Epoch: [1/10], Step: [128/625], Validation Acc: 72.72\n",
      "2018-09-30 19:41:15,343 root         INFO     Epoch: [1/10], Step: [256/625], Validation Acc: 83.06\n",
      "2018-09-30 19:41:16,242 root         INFO     Epoch: [1/10], Step: [384/625], Validation Acc: 81.04\n",
      "2018-09-30 19:41:17,103 root         INFO     Epoch: [1/10], Step: [512/625], Validation Acc: 82.16\n",
      "\n",
      "2018-09-30 19:41:17,599 root         INFO     appending new results to existing dataframe\n"
     ]
    },
    {
     "data": {
      "application/vnd.jupyter.widget-view+json": {
       "model_id": "d7c3883a383c443384e8e457a9d00b20",
       "version_major": 2,
       "version_minor": 0
      },
      "text/plain": [
       "HBox(children=(IntProgress(value=0, description='Epochs', max=1), HTML(value='')))"
      ]
     },
     "metadata": {},
     "output_type": "display_data"
    },
    {
     "data": {
      "application/vnd.jupyter.widget-view+json": {
       "model_id": "49e40053b5e542d0ae1a362ca019331c",
       "version_major": 2,
       "version_minor": 0
      },
      "text/plain": [
       "HBox(children=(IntProgress(value=0, max=625), HTML(value='')))"
      ]
     },
     "metadata": {},
     "output_type": "display_data"
    },
    {
     "name": "stdout",
     "output_type": "stream",
     "text": [
      "2018-09-30 19:41:19,314 root         INFO     Epoch: [1/10], Step: [128/625], Validation Acc: 75.24\n",
      "2018-09-30 19:41:20,139 root         INFO     Epoch: [1/10], Step: [256/625], Validation Acc: 81.0\n",
      "2018-09-30 19:41:20,965 root         INFO     Epoch: [1/10], Step: [384/625], Validation Acc: 70.72\n",
      "2018-09-30 19:41:21,861 root         INFO     Epoch: [1/10], Step: [512/625], Validation Acc: 79.78\n",
      "\n",
      "2018-09-30 19:41:22,370 root         INFO     appending new results to existing dataframe\n"
     ]
    },
    {
     "data": {
      "application/vnd.jupyter.widget-view+json": {
       "model_id": "5702bf2ce15b45d8a8380617742470e4",
       "version_major": 2,
       "version_minor": 0
      },
      "text/plain": [
       "HBox(children=(IntProgress(value=0, description='Epochs', max=1), HTML(value='')))"
      ]
     },
     "metadata": {},
     "output_type": "display_data"
    },
    {
     "data": {
      "application/vnd.jupyter.widget-view+json": {
       "model_id": "b1d450d114c34b13a1f413700b9582cb",
       "version_major": 2,
       "version_minor": 0
      },
      "text/plain": [
       "HBox(children=(IntProgress(value=0, max=625), HTML(value='')))"
      ]
     },
     "metadata": {},
     "output_type": "display_data"
    },
    {
     "name": "stdout",
     "output_type": "stream",
     "text": [
      "2018-09-30 19:41:24,279 root         INFO     Epoch: [1/10], Step: [128/625], Validation Acc: 64.4\n",
      "2018-09-30 19:41:25,166 root         INFO     Epoch: [1/10], Step: [256/625], Validation Acc: 68.68\n",
      "2018-09-30 19:41:26,094 root         INFO     Epoch: [1/10], Step: [384/625], Validation Acc: 70.5\n",
      "2018-09-30 19:41:26,940 root         INFO     Epoch: [1/10], Step: [512/625], Validation Acc: 82.76\n",
      "\n",
      "2018-09-30 19:41:27,515 root         INFO     appending new results to existing dataframe\n"
     ]
    },
    {
     "data": {
      "text/html": [
       "<div>\n",
       "<style scoped>\n",
       "    .dataframe tbody tr th:only-of-type {\n",
       "        vertical-align: middle;\n",
       "    }\n",
       "\n",
       "    .dataframe tbody tr th {\n",
       "        vertical-align: top;\n",
       "    }\n",
       "\n",
       "    .dataframe thead th {\n",
       "        text-align: right;\n",
       "    }\n",
       "</style>\n",
       "<table border=\"1\" class=\"dataframe\">\n",
       "  <thead>\n",
       "    <tr style=\"text-align: right;\">\n",
       "      <th></th>\n",
       "      <th>initial_val_acc</th>\n",
       "      <th>epoch1_val_acc</th>\n",
       "      <th>epoch2_val_acc</th>\n",
       "      <th>epoch3_val_acc</th>\n",
       "      <th>final_val_acc</th>\n",
       "      <th>training_time</th>\n",
       "      <th>total_data_iterated</th>\n",
       "      <th>early_stopped</th>\n",
       "      <th>pct_unk_train</th>\n",
       "      <th>pct_unk_val</th>\n",
       "      <th>...</th>\n",
       "      <th>EMBEDDING_DIM</th>\n",
       "      <th>NGRAM_MODE</th>\n",
       "      <th>VAL_SIZE</th>\n",
       "      <th>OPTIMIZER</th>\n",
       "      <th>VAL_FREQ</th>\n",
       "      <th>REMOVE_STOP_WORDS</th>\n",
       "      <th>REMOVE_PUNC</th>\n",
       "      <th>EARLY_STOP</th>\n",
       "      <th>EARLY_STOP_LOOKBACK</th>\n",
       "      <th>EARLY_STOP_MIN_IMPROVE</th>\n",
       "    </tr>\n",
       "  </thead>\n",
       "  <tbody>\n",
       "    <tr>\n",
       "      <th>1</th>\n",
       "      <td></td>\n",
       "      <td></td>\n",
       "      <td></td>\n",
       "      <td></td>\n",
       "      <td>54.98</td>\n",
       "      <td>4.57</td>\n",
       "      <td>20000</td>\n",
       "      <td>False</td>\n",
       "      <td>0.530094</td>\n",
       "      <td>0.534054</td>\n",
       "      <td>...</td>\n",
       "      <td>100</td>\n",
       "      <td>spacy</td>\n",
       "      <td>5000</td>\n",
       "      <td>&lt;class 'torch.optim.adam.Adam'&gt;</td>\n",
       "      <td>4</td>\n",
       "      <td>True</td>\n",
       "      <td>True</td>\n",
       "      <td>False</td>\n",
       "      <td>2</td>\n",
       "      <td>0.01</td>\n",
       "    </tr>\n",
       "    <tr>\n",
       "      <th>2</th>\n",
       "      <td></td>\n",
       "      <td></td>\n",
       "      <td></td>\n",
       "      <td></td>\n",
       "      <td>58.92</td>\n",
       "      <td>4.51</td>\n",
       "      <td>20000</td>\n",
       "      <td>False</td>\n",
       "      <td>0.530094</td>\n",
       "      <td>0.534054</td>\n",
       "      <td>...</td>\n",
       "      <td>100</td>\n",
       "      <td>spacy</td>\n",
       "      <td>5000</td>\n",
       "      <td>&lt;class 'torch.optim.adam.Adam'&gt;</td>\n",
       "      <td>4</td>\n",
       "      <td>True</td>\n",
       "      <td>True</td>\n",
       "      <td>False</td>\n",
       "      <td>2</td>\n",
       "      <td>0.01</td>\n",
       "    </tr>\n",
       "    <tr>\n",
       "      <th>3</th>\n",
       "      <td></td>\n",
       "      <td></td>\n",
       "      <td></td>\n",
       "      <td></td>\n",
       "      <td>72.38</td>\n",
       "      <td>4.4</td>\n",
       "      <td>20000</td>\n",
       "      <td>False</td>\n",
       "      <td>0.530094</td>\n",
       "      <td>0.534054</td>\n",
       "      <td>...</td>\n",
       "      <td>100</td>\n",
       "      <td>spacy</td>\n",
       "      <td>5000</td>\n",
       "      <td>&lt;class 'torch.optim.adam.Adam'&gt;</td>\n",
       "      <td>4</td>\n",
       "      <td>True</td>\n",
       "      <td>True</td>\n",
       "      <td>False</td>\n",
       "      <td>2</td>\n",
       "      <td>0.01</td>\n",
       "    </tr>\n",
       "    <tr>\n",
       "      <th>4</th>\n",
       "      <td></td>\n",
       "      <td></td>\n",
       "      <td></td>\n",
       "      <td></td>\n",
       "      <td>86.78</td>\n",
       "      <td>4.62</td>\n",
       "      <td>20000</td>\n",
       "      <td>False</td>\n",
       "      <td>0.530094</td>\n",
       "      <td>0.534054</td>\n",
       "      <td>...</td>\n",
       "      <td>100</td>\n",
       "      <td>spacy</td>\n",
       "      <td>5000</td>\n",
       "      <td>&lt;class 'torch.optim.adam.Adam'&gt;</td>\n",
       "      <td>4</td>\n",
       "      <td>True</td>\n",
       "      <td>True</td>\n",
       "      <td>False</td>\n",
       "      <td>2</td>\n",
       "      <td>0.01</td>\n",
       "    </tr>\n",
       "    <tr>\n",
       "      <th>5</th>\n",
       "      <td></td>\n",
       "      <td></td>\n",
       "      <td></td>\n",
       "      <td></td>\n",
       "      <td>87.40</td>\n",
       "      <td>4.61</td>\n",
       "      <td>20000</td>\n",
       "      <td>False</td>\n",
       "      <td>0.530094</td>\n",
       "      <td>0.534054</td>\n",
       "      <td>...</td>\n",
       "      <td>100</td>\n",
       "      <td>spacy</td>\n",
       "      <td>5000</td>\n",
       "      <td>&lt;class 'torch.optim.adam.Adam'&gt;</td>\n",
       "      <td>4</td>\n",
       "      <td>True</td>\n",
       "      <td>True</td>\n",
       "      <td>False</td>\n",
       "      <td>2</td>\n",
       "      <td>0.01</td>\n",
       "    </tr>\n",
       "    <tr>\n",
       "      <th>6</th>\n",
       "      <td></td>\n",
       "      <td></td>\n",
       "      <td></td>\n",
       "      <td></td>\n",
       "      <td>82.16</td>\n",
       "      <td>4.55</td>\n",
       "      <td>20000</td>\n",
       "      <td>False</td>\n",
       "      <td>0.530094</td>\n",
       "      <td>0.534054</td>\n",
       "      <td>...</td>\n",
       "      <td>100</td>\n",
       "      <td>spacy</td>\n",
       "      <td>5000</td>\n",
       "      <td>&lt;class 'torch.optim.adam.Adam'&gt;</td>\n",
       "      <td>4</td>\n",
       "      <td>True</td>\n",
       "      <td>True</td>\n",
       "      <td>False</td>\n",
       "      <td>2</td>\n",
       "      <td>0.01</td>\n",
       "    </tr>\n",
       "    <tr>\n",
       "      <th>7</th>\n",
       "      <td></td>\n",
       "      <td></td>\n",
       "      <td></td>\n",
       "      <td></td>\n",
       "      <td>79.78</td>\n",
       "      <td>4.49</td>\n",
       "      <td>20000</td>\n",
       "      <td>False</td>\n",
       "      <td>0.530094</td>\n",
       "      <td>0.534054</td>\n",
       "      <td>...</td>\n",
       "      <td>100</td>\n",
       "      <td>spacy</td>\n",
       "      <td>5000</td>\n",
       "      <td>&lt;class 'torch.optim.adam.Adam'&gt;</td>\n",
       "      <td>4</td>\n",
       "      <td>True</td>\n",
       "      <td>True</td>\n",
       "      <td>False</td>\n",
       "      <td>2</td>\n",
       "      <td>0.01</td>\n",
       "    </tr>\n",
       "    <tr>\n",
       "      <th>8</th>\n",
       "      <td></td>\n",
       "      <td></td>\n",
       "      <td></td>\n",
       "      <td></td>\n",
       "      <td>82.76</td>\n",
       "      <td>4.82</td>\n",
       "      <td>20000</td>\n",
       "      <td>False</td>\n",
       "      <td>0.530094</td>\n",
       "      <td>0.534054</td>\n",
       "      <td>...</td>\n",
       "      <td>100</td>\n",
       "      <td>spacy</td>\n",
       "      <td>5000</td>\n",
       "      <td>&lt;class 'torch.optim.adam.Adam'&gt;</td>\n",
       "      <td>4</td>\n",
       "      <td>True</td>\n",
       "      <td>True</td>\n",
       "      <td>False</td>\n",
       "      <td>2</td>\n",
       "      <td>0.01</td>\n",
       "    </tr>\n",
       "  </tbody>\n",
       "</table>\n",
       "<p>8 rows × 25 columns</p>\n",
       "</div>"
      ],
      "text/plain": [
       "  initial_val_acc epoch1_val_acc epoch2_val_acc epoch3_val_acc  final_val_acc  \\\n",
       "1                                                                       54.98   \n",
       "2                                                                       58.92   \n",
       "3                                                                       72.38   \n",
       "4                                                                       86.78   \n",
       "5                                                                       87.40   \n",
       "6                                                                       82.16   \n",
       "7                                                                       79.78   \n",
       "8                                                                       82.76   \n",
       "\n",
       "  training_time  total_data_iterated early_stopped  pct_unk_train  \\\n",
       "1          4.57                20000         False       0.530094   \n",
       "2          4.51                20000         False       0.530094   \n",
       "3           4.4                20000         False       0.530094   \n",
       "4          4.62                20000         False       0.530094   \n",
       "5          4.61                20000         False       0.530094   \n",
       "6          4.55                20000         False       0.530094   \n",
       "7          4.49                20000         False       0.530094   \n",
       "8          4.82                20000         False       0.530094   \n",
       "\n",
       "   pct_unk_val           ...            EMBEDDING_DIM  NGRAM_MODE  VAL_SIZE  \\\n",
       "1     0.534054           ...                      100       spacy      5000   \n",
       "2     0.534054           ...                      100       spacy      5000   \n",
       "3     0.534054           ...                      100       spacy      5000   \n",
       "4     0.534054           ...                      100       spacy      5000   \n",
       "5     0.534054           ...                      100       spacy      5000   \n",
       "6     0.534054           ...                      100       spacy      5000   \n",
       "7     0.534054           ...                      100       spacy      5000   \n",
       "8     0.534054           ...                      100       spacy      5000   \n",
       "\n",
       "                         OPTIMIZER  VAL_FREQ  REMOVE_STOP_WORDS REMOVE_PUNC  \\\n",
       "1  <class 'torch.optim.adam.Adam'>         4               True        True   \n",
       "2  <class 'torch.optim.adam.Adam'>         4               True        True   \n",
       "3  <class 'torch.optim.adam.Adam'>         4               True        True   \n",
       "4  <class 'torch.optim.adam.Adam'>         4               True        True   \n",
       "5  <class 'torch.optim.adam.Adam'>         4               True        True   \n",
       "6  <class 'torch.optim.adam.Adam'>         4               True        True   \n",
       "7  <class 'torch.optim.adam.Adam'>         4               True        True   \n",
       "8  <class 'torch.optim.adam.Adam'>         4               True        True   \n",
       "\n",
       "   EARLY_STOP EARLY_STOP_LOOKBACK  EARLY_STOP_MIN_IMPROVE  \n",
       "1       False                   2                    0.01  \n",
       "2       False                   2                    0.01  \n",
       "3       False                   2                    0.01  \n",
       "4       False                   2                    0.01  \n",
       "5       False                   2                    0.01  \n",
       "6       False                   2                    0.01  \n",
       "7       False                   2                    0.01  \n",
       "8       False                   2                    0.01  \n",
       "\n",
       "[8 rows x 25 columns]"
      ]
     },
     "metadata": {},
     "output_type": "display_data"
    },
    {
     "name": "stdout",
     "output_type": "stream",
     "text": [
      "time: 38.9 s\n"
     ]
    }
   ],
   "source": [
    "# training all of these through 1 epoch and seeing results\n",
    "mm.res_df = None  # reset the results dataframe\n",
    "for cur_lr in lr_list:\n",
    "    # overriding some hyperparameters\n",
    "    param_overrides = {'LR': cur_lr,\n",
    "                       'EARLY_STOP': False}\n",
    "    mm.hparams.update(param_overrides)\n",
    "    mm.train(epoch_override=1, reload_data=False)  \n",
    "display(mm.res_df)"
   ]
  },
  {
   "cell_type": "code",
   "execution_count": 28,
   "metadata": {},
   "outputs": [
    {
     "data": {
      "image/png": "[encoded data removed]",
      "text/plain": [
       "<Figure size 432x288 with 1 Axes>"
      ]
     },
     "metadata": {
      "needs_background": "light"
     },
     "output_type": "display_data"
    },
    {
     "name": "stdout",
     "output_type": "stream",
     "text": [
      "time: 68 ms\n"
     ]
    }
   ],
   "source": [
    "plt.scatter(np.log10(mm.res_df['LR']), mm.res_df['final_val_acc'])\n",
    "plt.title('Validation Error after 1 epoch')\n",
    "plt.show()"
   ]
  },
  {
   "cell_type": "code",
   "execution_count": 17,
   "metadata": {},
   "outputs": [
    {
     "data": {
      "text/html": [
       "<div>\n",
       "<style scoped>\n",
       "    .dataframe tbody tr th:only-of-type {\n",
       "        vertical-align: middle;\n",
       "    }\n",
       "\n",
       "    .dataframe tbody tr th {\n",
       "        vertical-align: top;\n",
       "    }\n",
       "\n",
       "    .dataframe thead th {\n",
       "        text-align: right;\n",
       "    }\n",
       "</style>\n",
       "<table border=\"1\" class=\"dataframe\">\n",
       "  <thead>\n",
       "    <tr style=\"text-align: right;\">\n",
       "      <th></th>\n",
       "      <th>pct_unk_val</th>\n",
       "    </tr>\n",
       "  </thead>\n",
       "  <tbody>\n",
       "    <tr>\n",
       "      <th>1</th>\n",
       "      <td></td>\n",
       "    </tr>\n",
       "    <tr>\n",
       "      <th>2</th>\n",
       "      <td></td>\n",
       "    </tr>\n",
       "    <tr>\n",
       "      <th>3</th>\n",
       "      <td></td>\n",
       "    </tr>\n",
       "    <tr>\n",
       "      <th>4</th>\n",
       "      <td></td>\n",
       "    </tr>\n",
       "    <tr>\n",
       "      <th>5</th>\n",
       "      <td></td>\n",
       "    </tr>\n",
       "    <tr>\n",
       "      <th>6</th>\n",
       "      <td></td>\n",
       "    </tr>\n",
       "    <tr>\n",
       "      <th>7</th>\n",
       "      <td></td>\n",
       "    </tr>\n",
       "    <tr>\n",
       "      <th>8</th>\n",
       "      <td></td>\n",
       "    </tr>\n",
       "  </tbody>\n",
       "</table>\n",
       "</div>"
      ],
      "text/plain": [
       "  pct_unk_val\n",
       "1            \n",
       "2            \n",
       "3            \n",
       "4            \n",
       "5            \n",
       "6            \n",
       "7            \n",
       "8            "
      ]
     },
     "execution_count": 17,
     "metadata": {},
     "output_type": "execute_result"
    },
    {
     "name": "stdout",
     "output_type": "stream",
     "text": [
      "time: 20.7 ms\n"
     ]
    }
   ],
   "source": [
    "mm.res_df[['pct_unk_val']]"
   ]
  },
  {
   "cell_type": "code",
   "execution_count": null,
   "metadata": {},
   "outputs": [],
   "source": []
  }
 ],
 "metadata": {
  "kernelspec": {
   "display_name": "Python 3",
   "language": "python",
   "name": "python3"
  },
  "language_info": {
   "codemirror_mode": {
    "name": "ipython",
    "version": 3
   },
   "file_extension": ".py",
   "mimetype": "text/x-python",
   "name": "python",
   "nbconvert_exporter": "python",
   "pygments_lexer": "ipython3",
   "version": "3.6.6"
  }
 },
 "nbformat": 4,
 "nbformat_minor": 2
}
