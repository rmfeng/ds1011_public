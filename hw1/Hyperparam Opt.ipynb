{
 "cells": [
  {
   "cell_type": "code",
   "execution_count": 1,
   "metadata": {},
   "outputs": [],
   "source": [
    "import ModelManager as mm_mod\n",
    "import config_defaults as cd\n",
    "from importlib import reload\n",
    "import numpy as np\n",
    "import matplotlib.pyplot as plt\n",
    "import time\n",
    "import logging\n",
    "import torch\n",
    "\n",
    "from tqdm import tqdm_notebook as tqdm\n",
    "\n",
    "\n",
    "%matplotlib inline\n",
    "%load_ext autotime"
   ]
  },
  {
   "cell_type": "markdown",
   "metadata": {},
   "source": [
    "### Initializing the Model and Data pipes"
   ]
  },
  {
   "cell_type": "code",
   "execution_count": 2,
   "metadata": {},
   "outputs": [
    {
     "name": "stdout",
     "output_type": "stream",
     "text": [
      "time: 1.16 ms\n"
     ]
    }
   ],
   "source": [
    "reload(mm_mod)\n",
    "reload(cd)\n",
    "logger = logging.getLogger('__main__')\n",
    "logger.setLevel(logging.INFO)"
   ]
  },
  {
   "cell_type": "markdown",
   "metadata": {},
   "source": [
    "## extracting the ngrams for n = 1, 2, 3, 4 with both naive and spacy"
   ]
  },
  {
   "cell_type": "code",
   "execution_count": null,
   "metadata": {},
   "outputs": [],
   "source": [
    "\"\"\"\n",
    "n_list = (1, 2, 3, 4)\n",
    "mode_list = ('naive', 'spacy')\n",
    "\n",
    "for n in n_list:\n",
    "    for mode in mode_list:\n",
    "        print(\"extracting n-grams for: n=%s, mode=%s\" % (n, mode))\n",
    "        param_overrides = {'NGRAM_MODE': mode,\n",
    "                           'NGRAM_SIZE': n}\n",
    "        mm = mm_mod.ModelManager(hparams=param_overrides)\n",
    "        mm.load_data()\n",
    "\"\"\""
   ]
  },
  {
   "cell_type": "markdown",
   "metadata": {},
   "source": [
    "### Testing the annealing of LR"
   ]
  },
  {
   "cell_type": "code",
   "execution_count": null,
   "metadata": {},
   "outputs": [],
   "source": [
    "# training all of these through 1 epoch and seeing results\n",
    "reload(mm_mod)\n",
    "mm = mm_mod.ModelManager()\n",
    "mm.load_data()\n",
    "mm.data_to_pipe()\n",
    "param_overrides = {'EARLY_STOP': False}\n",
    "mm.hparams.update(param_overrides)\n",
    "mm.train(epoch_override=3, reload_data=False)  "
   ]
  },
  {
   "cell_type": "markdown",
   "metadata": {},
   "source": [
    "### Trying to find a good LR"
   ]
  },
  {
   "cell_type": "code",
   "execution_count": null,
   "metadata": {},
   "outputs": [],
   "source": [
    "lr_list_exp_neg = np.arange(1,6)\n",
    "lr_list_neg = 1 / np.power(10, lr_list_exp_neg)\n",
    "lr_list_exp_pos = np.arange(0,3)\n",
    "lr_list_pos = np.power(10, lr_list_exp_pos)\n",
    "\n",
    "lr_list = np.append(lr_list_neg, lr_list_pos)\n",
    "lr_list.sort()\n",
    "print(lr_list)"
   ]
  },
  {
   "cell_type": "code",
   "execution_count": null,
   "metadata": {},
   "outputs": [],
   "source": [
    "# training all of these through 1 epoch and seeing results\n",
    "mm = mm_mod.ModelManager()\n",
    "mm.load_data()\n",
    "mm.data_to_pipe()\n",
    "\n",
    "mm.res_df = None  # reset the results dataframe\n",
    "for cur_lr in lr_list:\n",
    "    # overriding some hyperparameters\n",
    "    print(\"training for initial lr = %s\" % cur_lr)\n",
    "    param_overrides = {'LR': cur_lr,\n",
    "                       'EARLY_STOP': False}\n",
    "    mm.hparams.update(param_overrides)\n",
    "    mm.train(epoch_override=1, reload_data=False)  \n",
    "display(mm.res_df)"
   ]
  },
  {
   "cell_type": "code",
   "execution_count": null,
   "metadata": {},
   "outputs": [],
   "source": [
    "plt.scatter(np.log10(mm.res_df['LR']), mm.res_df['final_val_acc'])\n",
    "plt.title('Validation Error after 1 epoch')\n",
    "plt.show()"
   ]
  },
  {
   "cell_type": "code",
   "execution_count": null,
   "metadata": {
    "scrolled": true
   },
   "outputs": [],
   "source": [
    "mm.save_results()"
   ]
  },
  {
   "cell_type": "markdown",
   "metadata": {},
   "source": [
    "### for each ngram param, find the right vocabulary size:"
   ]
  },
  {
   "cell_type": "code",
   "execution_count": null,
   "metadata": {},
   "outputs": [],
   "source": [
    "reload(mm_mod)\n",
    "logger.setLevel(logging.WARNING)\n",
    "voc_sizes = np.arange(1, 9) * 10000\n",
    "n_list = (1, 2, 3, 4)\n",
    "mode_list = ('naive', 'spacy')\n",
    "\n",
    "for n in n_list:\n",
    "    for mode in mode_list:\n",
    "        for voc_size in voc_sizes:\n",
    "            start_time = time.time()\n",
    "            print(\"training models for: n=%s, mode=%s, voc_size=%s\" % (n, mode, voc_size))\n",
    "            param_overrides = {'NGRAM_MODE': mode,\n",
    "                               'NGRAM_SIZE': n,\n",
    "                               'VOC_SIZE': voc_size}\n",
    "            mm = mm_mod.ModelManager(hparams=param_overrides, res_name='vocab_explore.p')\n",
    "            mm.train()\n",
    "            print(\"Final Validation Acc = %s (train time: %.1fs)\\n\" % (mm.validation_acc_history[-1], \n",
    "                                                                  time.time() - start_time))\n",
    "    \n",
    "            mm.save_results()"
   ]
  },
  {
   "cell_type": "markdown",
   "metadata": {},
   "source": [
    "### Extra vocabulary - for spacy ngram =4, the upper tail hasn't been fully explored"
   ]
  },
  {
   "cell_type": "code",
   "execution_count": null,
   "metadata": {},
   "outputs": [],
   "source": [
    "voc_sizes = np.arange(9, 15) * 10000\n",
    "for voc_size in voc_sizes:\n",
    "    start_time = time.time()\n",
    "    print(\"training models for: n=4, mode=spacy, voc_size=%s\" % (voc_size))\n",
    "    param_overrides = {'NGRAM_MODE': 'spacy',\n",
    "                       'NGRAM_SIZE': 4,\n",
    "                       'VOC_SIZE': voc_size}\n",
    "    mm = mm_mod.ModelManager(hparams=param_overrides, res_name='voc_additional.p')\n",
    "    mm.train()\n",
    "    print(\"Final Validation Acc = %s (train time: %.1fs)\\n\" % (mm.validation_acc_history[-1], \n",
    "                                                          time.time() - start_time))\n",
    "\n",
    "    mm.save_results()"
   ]
  },
  {
   "cell_type": "code",
   "execution_count": null,
   "metadata": {},
   "outputs": [],
   "source": [
    "voc_sizes = np.arange(3, 11) * 100000\n",
    "voc_sizes"
   ]
  },
  {
   "cell_type": "markdown",
   "metadata": {},
   "source": [
    "### What if we tried even larger vocabsizes?"
   ]
  },
  {
   "cell_type": "code",
   "execution_count": null,
   "metadata": {},
   "outputs": [],
   "source": [
    "voc_sizes = np.arange(3, 11) * 100000\n",
    "for voc_size in voc_sizes:\n",
    "    start_time = time.time()\n",
    "    print(\"training models for: n=4, mode=spacy, voc_size=%s\" % (voc_size))\n",
    "    param_overrides = {'NGRAM_MODE': 'spacy',\n",
    "                       'NGRAM_SIZE': 4,\n",
    "                       'VOC_SIZE': voc_size}\n",
    "    mm = mm_mod.ModelManager(hparams=param_overrides, res_name='voc_additional.p')\n",
    "    mm.train()\n",
    "    print(\"Final Validation Acc = %s (train time: %.1fs)\\n\" % (mm.validation_acc_history[-1], \n",
    "                                                          time.time() - start_time))\n",
    "\n",
    "    mm.save_results()"
   ]
  },
  {
   "cell_type": "markdown",
   "metadata": {},
   "source": [
    "### Embedding size"
   ]
  },
  {
   "cell_type": "code",
   "execution_count": null,
   "metadata": {},
   "outputs": [],
   "source": [
    "emb_dims = np.arange(2, 15) * 50\n",
    "emb_dims"
   ]
  },
  {
   "cell_type": "code",
   "execution_count": null,
   "metadata": {},
   "outputs": [],
   "source": [
    "reload(mm_mod)\n",
    "logger.setLevel(logging.WARNING)\n",
    "voc_sizes = np.arange(2, 13) * 10000\n",
    "emb_dims = np.arange(1, 15) * 50\n",
    "\n",
    "for emb_dim in emb_dims:\n",
    "    for voc_size in voc_sizes:\n",
    "        start_time = time.time()\n",
    "        print(\"training models for: emb_dim=%s, voc_size=%s\" % (emb_dim, voc_size))\n",
    "        param_overrides = {'VOC_SIZE': voc_size,\n",
    "                           'NGRAM_MODE':'spacy',\n",
    "                           'EMBEDDING_DIM':emb_dim}\n",
    "        mm = mm_mod.ModelManager(hparams=param_overrides, res_name='embdim.p')\n",
    "        mm.train()\n",
    "        print(\"Final Validation Acc = %s (train time: %.1fs)\\n\" % (mm.validation_acc_history[-1], \n",
    "                                                              time.time() - start_time))\n",
    "\n",
    "        mm.save_results()"
   ]
  },
  {
   "cell_type": "code",
   "execution_count": null,
   "metadata": {},
   "outputs": [],
   "source": [
    "plt.plot(mm.res_df['final_val_acc'].sort_values().values)\n",
    "plt.show()"
   ]
  },
  {
   "cell_type": "code",
   "execution_count": null,
   "metadata": {},
   "outputs": [],
   "source": [
    "df = mm.res_df"
   ]
  },
  {
   "cell_type": "code",
   "execution_count": null,
   "metadata": {},
   "outputs": [],
   "source": [
    "import torch"
   ]
  },
  {
   "cell_type": "code",
   "execution_count": null,
   "metadata": {},
   "outputs": [],
   "source": [
    "opt_list = [torch.optim.RMSprop, torch.optim.Adagrad, torch.optim.Adam, torch.optim.SGD]\n",
    "first_loop = True\n",
    "\n",
    "for opt in opt_list:\n",
    "    start_time = time.time()\n",
    "    print(\"training models for: optimizer = %s\" % (str(opt)))\n",
    "    param_overrides = {'OPTIMIZER': opt}\n",
    "    mm = mm_mod.ModelManager(hparams=param_overrides, res_name='optim.p')\n",
    "    mm.train(epoch_override=2)\n",
    "    print(\"Final Validation Acc = %s (train time: %.1fs)\\n\" % (mm.val_acc_hist[-1], \n",
    "                                                          time.time() - start_time))\n",
    "\n",
    "    mm.save_results()\n",
    "    first_loop = False"
   ]
  },
  {
   "cell_type": "code",
   "execution_count": null,
   "metadata": {},
   "outputs": [],
   "source": []
  },
  {
   "cell_type": "markdown",
   "metadata": {},
   "source": [
    "### Trying different LR decay rates"
   ]
  },
  {
   "cell_type": "code",
   "execution_count": null,
   "metadata": {
    "scrolled": false
   },
   "outputs": [],
   "source": [
    "lr_decays = 0.5 + np.arange(2, 11) * 0.05\n",
    "\n",
    "for lr_decay in lr_decays:\n",
    "    param_overrides = {'LR_DECAY_RATE': lr_decay,\n",
    "                       'LR': 0.001,\n",
    "                       'NEPOCH': 30}\n",
    "    mm = mm_mod.ModelManager(hparams=param_overrides, res_name='lr_decay_small_lr.p')\n",
    "    mm.train()\n",
    "    mm.save_results()\n",
    "\n",
    "print(\"Final Validation Acc = %s\" % (mm.validation_acc_history[-1]))"
   ]
  },
  {
   "cell_type": "markdown",
   "metadata": {},
   "source": [
    "### The final massive model"
   ]
  },
  {
   "cell_type": "code",
   "execution_count": null,
   "metadata": {},
   "outputs": [],
   "source": [
    "reload(mm_mod)\n",
    "logger.setLevel(logging.INFO)\n",
    "start_time = time.time()\n",
    "param_overrides = {'NEPOCH': 50,\n",
    "                   'LR': 0.001,\n",
    "                   'LR_DECAY_RATE': 0.95,\n",
    "                   'VOC_SIZE': 2000000,\n",
    "                   'NGRAM_SIZE': 4,\n",
    "                   'NGRAM_MODE':'spacy',\n",
    "                   'EMBEDDING_DIM':100,\n",
    "                   'EARLY_STOP_LOOKBACK': 16}\n",
    "mm = mm_mod.ModelManager(hparams=param_overrides, res_name='experiment.p')\n",
    "mm.train()\n",
    "print(\"Final Validation Acc = %s (train time: %.1fs)\\n\" % (mm.val_acc_hist[-1], \n",
    "                                                      time.time() - start_time))"
   ]
  },
  {
   "cell_type": "code",
   "execution_count": 4,
   "metadata": {},
   "outputs": [
    {
     "name": "stdout",
     "output_type": "stream",
     "text": [
      "CRITICAL !!!! THIS IS THE FINAL TEST RESULT, DO NOT FURTHER OPTIMIZE !!!!\n"
     ]
    },
    {
     "data": {
      "text/plain": [
       "(90.084, 322.83760064840317)"
      ]
     },
     "execution_count": 4,
     "metadata": {},
     "output_type": "execute_result"
    },
    {
     "name": "stdout",
     "output_type": "stream",
     "text": [
      "time: 3.11 s\n"
     ]
    }
   ],
   "source": [
    "mm.test_model()"
   ]
  },
  {
   "cell_type": "code",
   "execution_count": null,
   "metadata": {},
   "outputs": [],
   "source": [
    "torch.save(mm.model, r'model_state.st')"
   ]
  },
  {
   "cell_type": "markdown",
   "metadata": {},
   "source": [
    "### Training Curves"
   ]
  },
  {
   "cell_type": "code",
   "execution_count": 6,
   "metadata": {},
   "outputs": [
    {
     "data": {
      "image/png": "[encoded data removed]",
      "text/plain": [
       "<Figure size 1080x360 with 3 Axes>"
      ]
     },
     "metadata": {
      "needs_background": "light"
     },
     "output_type": "display_data"
    },
    {
     "name": "stdout",
     "output_type": "stream",
     "text": [
      "time: 166 ms\n"
     ]
    }
   ],
   "source": [
    "batch_counter = np.arange(0,len(mm.train_loss_hist))*4\n",
    "\n",
    "\n",
    "f, axs = plt.subplots(1, 2, figsize=(15,5))\n",
    "ax1 = axs[0]\n",
    "ax1.plot(batch_counter, mm.train_loss_hist, alpha = 0.5, label='Training loss (RHS)')\n",
    "ax1.set_xlabel(\"# of batches\")\n",
    "ax1.legend(loc='center left', bbox_to_anchor=(0.6, 0.9))\n",
    "ax2 = ax1.twinx()\n",
    "ax2.plot(batch_counter, mm.val_loss_hist, color='r', alpha=0.5, label='Validation Loss (LHS)')\n",
    "ax2.legend(loc='center left', bbox_to_anchor=(0.6, 0.8))\n",
    "\n",
    "ax3 = axs[1]\n",
    "ax3.plot(batch_counter, mm.train_acc_hist, alpha = 0.5, label='Training Accuracy')\n",
    "ax3.set_xlabel(\"# of batches\")\n",
    "ax3.plot(batch_counter, mm.val_acc_hist, color='r', alpha=0.5, label='Validation Accuracy')\n",
    "ax3.legend(loc='center right')\n",
    "plt.show()"
   ]
  },
  {
   "cell_type": "code",
   "execution_count": 7,
   "metadata": {},
   "outputs": [
    {
     "name": "stdout",
     "output_type": "stream",
     "text": [
      "CRITICAL !!!! THIS IS THE FINAL TEST RESULT, DO NOT FURTHER OPTIMIZE !!!!\n"
     ]
    },
    {
     "data": {
      "text/plain": [
       "(90.084, 322.83760064840317)"
      ]
     },
     "execution_count": 7,
     "metadata": {},
     "output_type": "execute_result"
    },
    {
     "name": "stdout",
     "output_type": "stream",
     "text": [
      "time: 3.07 s\n"
     ]
    }
   ],
   "source": [
    "mm.test_model()"
   ]
  },
  {
   "cell_type": "markdown",
   "metadata": {},
   "source": [
    "### Pulling out examples"
   ]
  },
  {
   "cell_type": "code",
   "execution_count": 23,
   "metadata": {},
   "outputs": [
    {
     "name": "stdout",
     "output_type": "stream",
     "text": [
      "time: 520 µs\n"
     ]
    }
   ],
   "source": [
    "import data_processor as dp\n",
    "from torch.utils.data import DataLoader\n",
    "import torch.nn.functional as F"
   ]
  },
  {
   "cell_type": "code",
   "execution_count": 55,
   "metadata": {},
   "outputs": [
    {
     "name": "stdout",
     "output_type": "stream",
     "text": [
      "time: 2.04 s\n"
     ]
    }
   ],
   "source": [
    "correctly_predicted = []\n",
    "incorrectly_predicted = []\n",
    "\n",
    "correct = 0\n",
    "imdb_val = dp.IMDBDataset(mm.data['val'])\n",
    "\n",
    "cur_loader = DataLoader(dataset=imdb_val,\n",
    "                        batch_size=1,\n",
    "                        collate_fn=dp.imdb_collate_func,\n",
    "                        shuffle=False)\n",
    "    \n",
    "for i, (data, lengths, labels) in enumerate(cur_loader):\n",
    "    outputs = F.softmax(mm.model(data, lengths), dim=1)\n",
    "    # print(outputs)\n",
    "\n",
    "    predicted = outputs.max(1, keepdim=True)[1]\n",
    "    # print(predicted, labels)\n",
    "    is_correct = predicted.eq(labels.view_as(predicted)).sum().item()\n",
    "    correct += is_correct\n",
    "    \n",
    "    if is_correct == 1:\n",
    "        correctly_predicted.append(mm.data['val'][i])\n",
    "    else:\n",
    "        incorrectly_predicted.append(mm.data['val'][i])"
   ]
  },
  {
   "cell_type": "code",
   "execution_count": 56,
   "metadata": {},
   "outputs": [
    {
     "name": "stdout",
     "output_type": "stream",
     "text": [
      "correct predictions:\n",
      "./data/aclImdb/train/pos/2871_10.txt\n",
      "./data/aclImdb/train/neg/10085_3.txt\n",
      "./data/aclImdb/train/pos/10366_10.txt\n",
      "\n",
      "incorrect predictions:\n",
      "./data/aclImdb/train/neg/2304_1.txt\n",
      "./data/aclImdb/train/neg/3772_2.txt\n",
      "./data/aclImdb/train/neg/7120_4.txt\n",
      "time: 972 µs\n"
     ]
    }
   ],
   "source": [
    "print(\"correct predictions:\")\n",
    "for i in range(0,3):\n",
    "    print(correctly_predicted[i].file_name)\n",
    "    \n",
    "print(\"\\nincorrect predictions:\")\n",
    "for i in range(0,3):\n",
    "    print(incorrectly_predicted[i].file_name)"
   ]
  },
  {
   "cell_type": "code",
   "execution_count": 57,
   "metadata": {},
   "outputs": [
    {
     "name": "stdout",
     "output_type": "stream",
     "text": [
      "correct predictions:\n",
      "comment? like my comment is necessary? we are talking about all time masterpiece, for all seasons and all generations. this is only type of movies that i still have patience to watch. in this, like in other disney's movies is some kind of magic. all characters are in some way, \"alive\" and \"real\" so it's easy to understand message, even if you don't understand language, (like i didn't understood when i first watched movie, because i was about six years old). maybe my english is not so good, but i learned what i know mostly from this kind of movies, and this is one more great dimension of this kind of movies, which in present time are rare. but there is a one big shame. in my country is now impossible to watch this, or any other disney's movie! we don't have copyrights, so our children are disabled to enjoy and learn from this kind of movies. so, we will watch this movie again \"once upon a dream\" or...?\n",
      "\n",
      "why do all movies on lifetime have such anemic titles? \"an unexpected love\" - ooh, how provocative!! \"this much i know\" would have been better. the film is nothing special. real people don't really talk like these characters do and the situations are really hackneyed. the straight woman who \"turns\" lesbian seemed more butch than the lesbian character. if you wanna watch two hot women kiss in a very discreet fashion, you might enjoy this. although it seems like it was written by someone who doesn't really get out in the world to observe people. why am i wasting my time writing about it?\n",
      "\n",
      "an unqualified \"10.\" the level of writing and acting in this australian movie is reminiscent of the very best of \"old\" hollywood. sam neill and meryl streep are very good together. neill matches streep line for line, and take for take -- it is one of the best showcases yet of his prodigious acting talent and he is at his sexy and gorgeous best, notwithstanding the intensity of his role. this engrossing film is a treat for any movie fan who loves a gripping courtroom drama, portrayed in the most human but unsentimental terms. the movie -- which won several top awards in australia -- boasts not only a superlative cast and director, but wonderful and authentic australian locales. it proves that people are the same the world over. and, after all these years, people still delight in repeating the famous streep line, accent and all: \"a dingo ate moy baby!\" including that imp \"elaine benis\" on \"seinfeld.\"\n",
      "\n",
      "\n",
      "incorrect predictions:\n",
      "i don't believe there has ever been a more evil or wicked television program to air in the united states as the 700 club. they are today's equivalent to the ku klux klan of the 20th century. their hatred of all that is good and sweet and human and pure is beyond all ability to understand. their daily constant attacks upon millions and millions of americans, as well as billions of humans the world over, who don't happen to share their bigoted, cruel, monstrous, and utterly insane view of humanity is beyond anything television has ever seen. the lies they spout and the ridiculous lies they try to pass off as truth, such as the idea of \"life after death\" or \"god\" or \"sin\" or \"the devil\" is so preposterous that they actually seem mentally ill, so lost are they in their fantasy. sane people know that religion is a drug and shouldn't let themselves get addicted to that type of fantasy. however, the 700 club is in a class by itself. they are truly a cult. while i believe in freedom of speech, they way they spread hatred, lies, disinformation, and such fantastic ideas is beyond all limits. i hope that one day the american psychiatric association will finally take up the study of those people who delude themselves in this way, people who let themselves sink so deeply into the fantasy land of religion that they no longer have any real concept of reality at all. treatment for such afflicted individuals is sorely needed in this country, as so many people have completely lost their minds to the fantasy of religion. the 700 club though, is even more horrible as it rises to the legal definition of 'cult' but due to the 700 club's vast wealth (conned daily from the millions of americans locked in their deceitful grip) they are above the law in this country. for those of you who have seen the movie \"the matrix\" you know that movie was a metaphor for religion on earth: the evil ones who are at the top of each of the religions who drain the ones they have trapped and cruelly abuse for their own selfish purposes, and those millions who are held in a death sleep and slowly being drained of their life force represent those many people who belong to religions and who have lost all ability to perceive what is really going on around them.in less civil times, the good townsfolk would have run such monsters as those associated with the 700 club out of town with torches and pitchforks. but in today's world where people have lost all choice in their choices of television that is presented to them, we have no way to rid ourselves of the 700 club plague. the television ratings system and the \"v\" chip on tv's should also have a rating called \"r\" for religion, so that rational people and concerned parents could easily screen such vile intellectual and brutal emotional rape, such as presented by the 700 club every day all over our country, from themselves and their children.\n",
      "\n",
      "i just saw dick tracy and i thought it was terrible. the paintings in the background of the cities looked awful. also the mob characters looked too weird. warren beatty didn't do an awful job as dick tracy but it was definetely not one of his better performances. madonna should just stick to singing. glenne headly did a good job in this movie. i gave this movie a 2/10 just because of the amazing acting by al pacino. it wasn't a high note in his career but he still did a good job.\n",
      "\n",
      "i first saw this movie on mst3k. and although i laughed my posterior off at the jokes, i don't particularly think this movie was all that bad. sure it was a little hard to understand it is quite obviously low budget, but it had a very hitchcock-like plot and i can honestly say that when i viewed the non-mst3k version, i was genuinely entertained. this movie is crying out for a hollywood remake.\n",
      "\n",
      "time: 1.49 ms\n"
     ]
    }
   ],
   "source": [
    "print(\"correct predictions:\")\n",
    "for i in range(0,3):\n",
    "    print(correctly_predicted[i].raw_text)\n",
    "    print()\n",
    "    \n",
    "print(\"\\nincorrect predictions:\")\n",
    "for i in range(0,3):\n",
    "    print(incorrectly_predicted[i].raw_text)\n",
    "    print()"
   ]
  },
  {
   "cell_type": "code",
   "execution_count": null,
   "metadata": {},
   "outputs": [],
   "source": []
  },
  {
   "cell_type": "markdown",
   "metadata": {},
   "source": [
    "### Loading the model from state"
   ]
  },
  {
   "cell_type": "code",
   "execution_count": null,
   "metadata": {
    "scrolled": false
   },
   "outputs": [],
   "source": [
    "loaded_model = torch.load(r'model_state.st')\n",
    "\n",
    "param_overrides = {'NEPOCH': 50,\n",
    "                   'LR': 0.001,\n",
    "                   'LR_DECAY_RATE': 0.95,\n",
    "                   'VOC_SIZE': 1000000,\n",
    "                   'NGRAM_SIZE': 4,\n",
    "                   'NGRAM_MODE':'spacy',\n",
    "                   'EMBEDDING_DIM':100,\n",
    "                   'EARLY_STOP_LOOKBACK': 32}\n",
    "mm_test = mm_mod.ModelManager(hparams=param_overrides)\n",
    "mm_test.load_data()\n",
    "mm_test.data_to_pipe()\n",
    "mm_test.model = loaded_model\n",
    "\n",
    "mm_test.test_model(mm_test.loaders['test'])[0]"
   ]
  },
  {
   "cell_type": "markdown",
   "metadata": {},
   "source": [
    "### recreating archives"
   ]
  },
  {
   "cell_type": "code",
   "execution_count": null,
   "metadata": {},
   "outputs": [],
   "source": [
    "import config_defaults as cd\n",
    "import data_processor as dp\n",
    "import ngrams\n",
    "import pickle as pkl"
   ]
  },
  {
   "cell_type": "code",
   "execution_count": null,
   "metadata": {},
   "outputs": [],
   "source": [
    "mm = mm_mod.ModelManager()"
   ]
  },
  {
   "cell_type": "code",
   "execution_count": null,
   "metadata": {},
   "outputs": [],
   "source": [
    "test_set = dp.construct_dataset(cd.DIR_TEST, cd.TEST_SIZE)"
   ]
  },
  {
   "cell_type": "code",
   "execution_count": null,
   "metadata": {},
   "outputs": [],
   "source": [
    "test_data = ngrams.extract_ngrams(test_set,\n",
    "                                  mm.hparams['NGRAM_SIZE'],\n",
    "                                  remove_stopwords=mm.hparams['REMOVE_STOP_WORDS'],\n",
    "                                  remove_punc=mm.hparams['REMOVE_PUNC'],\n",
    "                                  mode=mm.hparams['NGRAM_MODE'])"
   ]
  },
  {
   "cell_type": "code",
   "execution_count": null,
   "metadata": {},
   "outputs": [],
   "source": [
    "def hparam_to_str(hparams, req_params):\n",
    "    final_str = ''\n",
    "    for key in sorted(hparams):\n",
    "        if key in req_params:\n",
    "            final_str += str(hparams[key]).replace('.', 'p').replace(':', '-') + \"_\"\n",
    "    return final_str[:-1] + '.p'\n",
    "\n",
    "pickle_path_test = cd.DIR_PICKLE + 'test_' + hparam_to_str(mm.hparams, cd.DATA_HPARAMS)\n",
    "pkl.dump(test_data, open(pickle_path_test, \"wb\"))"
   ]
  },
  {
   "cell_type": "markdown",
   "metadata": {},
   "source": [
    "### Curves "
   ]
  }
 ],
 "metadata": {
  "kernelspec": {
   "display_name": "Python 3",
   "language": "python",
   "name": "python3"
  },
  "language_info": {
   "codemirror_mode": {
    "name": "ipython",
    "version": 3
   },
   "file_extension": ".py",
   "mimetype": "text/x-python",
   "name": "python",
   "nbconvert_exporter": "python",
   "pygments_lexer": "ipython3",
   "version": "3.6.6"
  }
 },
 "nbformat": 4,
 "nbformat_minor": 2
}
